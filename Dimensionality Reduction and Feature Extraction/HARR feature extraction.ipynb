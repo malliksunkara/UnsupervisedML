{
 "cells": [
  {
   "cell_type": "code",
   "execution_count": 1,
   "metadata": {
    "ExecuteTime": {
     "end_time": "2018-03-12T20:12:26.511015Z",
     "start_time": "2018-03-12T20:12:26.073036Z"
    }
   },
   "outputs": [],
   "source": [
    "from sklearn.datasets import fetch_20newsgroups, fetch_mldata\n",
    "from sklearn.feature_extraction.text import  TfidfVectorizer\n",
    "from sklearn.linear_model import LogisticRegression\n",
    "from sklearn.model_selection import train_test_split\n",
    "from sklearn.metrics import accuracy_score\n",
    "from sklearn.tree import DecisionTreeClassifier\n",
    "from numpy import linalg as LA\n",
    "import numpy as np\n",
    "import scipy"
   ]
  },
  {
   "cell_type": "code",
   "execution_count": 2,
   "metadata": {
    "ExecuteTime": {
     "end_time": "2018-03-12T20:12:27.304623Z",
     "start_time": "2018-03-12T20:12:27.248633Z"
    }
   },
   "outputs": [],
   "source": [
    "mnist_full = fetch_mldata('MNIST original', data_home='../data/')\n",
    "mnist_data = mnist_full.data\n",
    "mnist_target = mnist_full.target"
   ]
  },
  {
   "cell_type": "code",
   "execution_count": 3,
   "metadata": {
    "ExecuteTime": {
     "end_time": "2018-03-12T20:12:28.091655Z",
     "start_time": "2018-03-12T20:12:28.064217Z"
    }
   },
   "outputs": [],
   "source": [
    "x1 = []\n",
    "y1 = []\n",
    "x2 = []\n",
    "y2 = []\n",
    "for i in range(100):\n",
    "    temp_x1=np.random.randint(low=0, high=18)\n",
    "    temp_y1=np.random.randint(low=0, high=18)\n",
    "    temp_x2=np.random.randint(low=temp_x1+5, high=temp_x1+10)\n",
    "    temp_y2=np.random.randint(low=temp_y1+5, high=temp_y1+10)\n",
    "    x1.append(temp_x1)\n",
    "    x2.append(temp_x2)\n",
    "    y1.append(temp_y1)\n",
    "    y2.append(temp_y2)"
   ]
  },
  {
   "cell_type": "code",
   "execution_count": 12,
   "metadata": {
    "ExecuteTime": {
     "end_time": "2018-03-12T20:23:23.544800Z",
     "start_time": "2018-03-12T20:20:46.836123Z"
    }
   },
   "outputs": [],
   "source": [
    "harr_200 = [[] for j in range(len(mnist_data))]\n",
    "for data in range(len(mnist_data)):\n",
    "    black_mat = [[0 for i in range(28)] for j in range(28)]\n",
    "    black_mat[0][0] = mnist_data[data][0]\n",
    "    black_mat[0][1] = mnist_data[data][1]\n",
    "    black_mat[1][0] = mnist_data[data][28]\n",
    "    for i in range(1,28):\n",
    "        for j in range(1,28):\n",
    "            black_mat[i][j] = black_mat[i][j-1] + black_mat[i-1][j] - black_mat[i-1][j-1] + mnist_data[data][(28*i)+ j]\n",
    "\n",
    "    for i in range(100):\n",
    "        x3 = x1[i] \n",
    "        y3 = y2[i]\n",
    "        x4 = x2[i]\n",
    "        y4 = y1[i]\n",
    "        x_half = round((x2[i] - x1[i])/2)\n",
    "        y_half = round((y2[i] - y1[i])/2)\n",
    "        \n",
    "        black_mini_up = black_mat[x2[i]][y2[i] - y_half] - black_mat[x4][y4] - black_mat[x3][y3 - y_half] + black_mat[x1[i]][y1[i]]\n",
    "        black_mini_down = black_mat[x2[i]][y2[i]] - black_mat[x4][y4+y_half] - black_mat[x3][y3] + black_mat[x1[i]][y1[i]+y_half]\n",
    "        harr_200[data].append(black_mini_up-black_mini_down)\n",
    "        \n",
    "        black_mini_left = black_mat[x3+x_half][y3] - black_mat[x3][y3] - black_mat[x1[i] + x_half][y1[i]] + black_mat[x1[i]][y1[i]]\n",
    "        black_mini_right = black_mat[x2[i]][y2[i]] - black_mat[x3+x_half][y3] - black_mat[x4][y4] + black_mat[x1[i]+x_half][y1[i]]\n",
    "        harr_200[data].append(black_mini_left-black_mini_right)\n",
    "    #print(data)"
   ]
  },
  {
   "cell_type": "code",
   "execution_count": 13,
   "metadata": {
    "ExecuteTime": {
     "end_time": "2018-03-12T20:23:26.879640Z",
     "start_time": "2018-03-12T20:23:26.846459Z"
    }
   },
   "outputs": [],
   "source": [
    "mnist_train, mnist_test, mnist_train_target, mnist_test_target = train_test_split(harr_200, mnist_full.target, test_size=0.2)"
   ]
  },
  {
   "cell_type": "code",
   "execution_count": 14,
   "metadata": {
    "ExecuteTime": {
     "end_time": "2018-03-12T20:43:53.398621Z",
     "start_time": "2018-03-12T20:23:28.168504Z"
    }
   },
   "outputs": [
    {
     "data": {
      "text/plain": [
       "LogisticRegression(C=1.0, class_weight=None, dual=False, fit_intercept=True,\n",
       "          intercept_scaling=1, max_iter=100, multi_class='ovr', n_jobs=1,\n",
       "          penalty='l2', random_state=None, solver='liblinear', tol=0.0001,\n",
       "          verbose=0, warm_start=False)"
      ]
     },
     "execution_count": 14,
     "metadata": {},
     "output_type": "execute_result"
    }
   ],
   "source": [
    "lr_mnist = LogisticRegression()\n",
    "lr_mnist.fit(mnist_train, mnist_train_target)"
   ]
  },
  {
   "cell_type": "code",
   "execution_count": 15,
   "metadata": {
    "ExecuteTime": {
     "end_time": "2018-03-12T20:54:25.215454Z",
     "start_time": "2018-03-12T20:54:24.716120Z"
    }
   },
   "outputs": [
    {
     "data": {
      "text/plain": [
       "0.9066428571428572"
      ]
     },
     "execution_count": 15,
     "metadata": {},
     "output_type": "execute_result"
    }
   ],
   "source": [
    "mnist_predict = lr_mnist.predict(mnist_test)\n",
    "accuracy_score(mnist_test_target, mnist_predict)"
   ]
  },
  {
   "cell_type": "code",
   "execution_count": 16,
   "metadata": {
    "ExecuteTime": {
     "end_time": "2018-03-12T20:55:08.547497Z",
     "start_time": "2018-03-12T20:54:28.028185Z"
    }
   },
   "outputs": [
    {
     "data": {
      "text/plain": [
       "DecisionTreeClassifier(class_weight=None, criterion='gini', max_depth=None,\n",
       "            max_features=None, max_leaf_nodes=None,\n",
       "            min_impurity_decrease=0.0, min_impurity_split=None,\n",
       "            min_samples_leaf=1, min_samples_split=2,\n",
       "            min_weight_fraction_leaf=0.0, presort=False, random_state=None,\n",
       "            splitter='best')"
      ]
     },
     "execution_count": 16,
     "metadata": {},
     "output_type": "execute_result"
    }
   ],
   "source": [
    "dt_mnist = DecisionTreeClassifier()\n",
    "dt_mnist.fit(mnist_train, mnist_train_target)"
   ]
  },
  {
   "cell_type": "code",
   "execution_count": 17,
   "metadata": {
    "ExecuteTime": {
     "end_time": "2018-03-12T20:55:15.248576Z",
     "start_time": "2018-03-12T20:55:14.784471Z"
    }
   },
   "outputs": [
    {
     "data": {
      "text/plain": [
       "0.8943571428571429"
      ]
     },
     "execution_count": 17,
     "metadata": {},
     "output_type": "execute_result"
    }
   ],
   "source": [
    "mnist_dt_pred = dt_mnist.predict(mnist_test)\n",
    "accuracy_score(mnist_test_target, mnist_dt_pred)"
   ]
  }
 ],
 "metadata": {
  "kernelspec": {
   "display_name": "Python 3",
   "language": "python",
   "name": "python3"
  },
  "language_info": {
   "codemirror_mode": {
    "name": "ipython",
    "version": 3
   },
   "file_extension": ".py",
   "mimetype": "text/x-python",
   "name": "python",
   "nbconvert_exporter": "python",
   "pygments_lexer": "ipython3",
   "version": "3.6.4"
  }
 },
 "nbformat": 4,
 "nbformat_minor": 2
}
