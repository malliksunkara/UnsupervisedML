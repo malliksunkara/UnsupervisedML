{
 "cells": [
  {
   "cell_type": "code",
   "execution_count": 1,
   "metadata": {
    "ExecuteTime": {
     "end_time": "2018-03-12T02:52:43.285208Z",
     "start_time": "2018-03-12T02:52:42.791427Z"
    }
   },
   "outputs": [],
   "source": [
    "from sklearn.datasets import fetch_20newsgroups, fetch_mldata\n",
    "from sklearn.feature_extraction.text import  TfidfVectorizer\n",
    "from sklearn.linear_model import LogisticRegression\n",
    "from sklearn.model_selection import train_test_split\n",
    "from sklearn.metrics import accuracy_score\n",
    "from sklearn.tree import DecisionTreeClassifier\n",
    "from numpy import linalg as LA\n",
    "import numpy as np\n",
    "import scipy"
   ]
  },
  {
   "cell_type": "code",
   "execution_count": 2,
   "metadata": {
    "ExecuteTime": {
     "end_time": "2018-03-12T02:55:34.482001Z",
     "start_time": "2018-03-12T02:55:26.086491Z"
    }
   },
   "outputs": [],
   "source": [
    "newsgroups_train = fetch_20newsgroups(subset='train', data_home='../data/')\n",
    "newsgroups_test = fetch_20newsgroups(subset='test', data_home='../data/')\n",
    "\n",
    "vectortype_train = TfidfVectorizer(stop_words='english')\n",
    "vectortype_test = TfidfVectorizer(stop_words='english')\n",
    "\n",
    "news_vectored_result_train = vectortype_train.fit_transform(newsgroups_train.data)\n",
    "news_vectored_result_test = vectortype_test.fit_transform(newsgroups_test.data)\n",
    "\n",
    "news_train_target = newsgroups_train.target\n",
    "news_train_target_names = newsgroups_train.target_names\n",
    "news_test_target = newsgroups_test.target\n",
    "\n",
    "\n",
    "train_features = vectortype_train.get_feature_names()\n",
    "test_features = vectortype_test.get_feature_names()\n",
    "common_features = np.intersect1d(train_features, test_features)\n",
    "\n",
    "train_feature_final = np.searchsorted(train_features, common_features)\n",
    "news_vt_train = news_vectored_result_train[:,train_feature_final]\n",
    "\n",
    "test_feature_final = np.searchsorted(test_features, common_features)\n",
    "news_vt_test = news_vectored_result_test[:,test_feature_final]"
   ]
  },
  {
   "cell_type": "code",
   "execution_count": 5,
   "metadata": {
    "ExecuteTime": {
     "end_time": "2018-03-12T02:57:10.784950Z",
     "start_time": "2018-03-12T02:57:03.692536Z"
    }
   },
   "outputs": [
    {
     "name": "stdout",
     "output_type": "stream",
     "text": [
      "0 .  alt.atheism :\n",
      " ['atheism', 'bmd', 'benedikt', 'keith', 'livesey', 'okcforum', 'atheists', 'jaeger', 'islamic', 'wwc', 'wingate', 'mathew', 'kmr4', 'cobb', 'rushdie', 'ico', 'liar', 'videocart', 'bsa', 'lippard', 'caltech', 'psilink', 'tek', 'rice', 'ultb', 'tammy', 'psuvm', 'umd', 'islam', 'bible', 'mangoe', 'bake', 'sex', 'evidence', 'compaq', 'moral', 'people', 'say', 'au', 'sandvik', 'freedom', 'halat', 'qur', 'bobby', 'god', 'charley', 'wesleyan', 'religion', 'argument', 'khan', 'princeton', 'book', 'values', 'karner', 'penalty', 'crchh410', 'jim', 'satan', 'monash', 'ingles', 'maddi', 'cmu', 'mozumder', 'things', 'perry', 'gods', 'humans', 'science', 'morality', 'religious', 'mail', 'think', 'ca', 'timmons', 'motto', 'edu', 'natural', 'uk', 'allah', 'claim', 'dobkin', 'docking', 'dogfight', 'dog', 'doctrines', 'doing', 'dof', 'dockmaster', 'doghouse', 'doctrine', 'doings', 'docks', 'document', 'docket', 'dogmas', 'dogma', 'dobrica', 'dogmatic', 'dogs', 'dockery', 'documentation', 'docked', 'dock', 'doc', 'doh', 'dobyns', 'dohc', 'doin', 'dobson', 'documentary', 'doesn', 'doesnt', 'doctors', 'doctoring', 'doj', 'dodell', 'doders', 'doctoral', 'dodge', 'dodger', 'dodgers', 'dodging', 'dodd', 'doctor8', 'doctor', 'dod0', 'doctine', 'dodgy', 'doesnot', 'doctrinaire', 'dod', 'dody', 'doe', 'doelle', 'documents', 'documention', 'doers', 'does', 'documenting', 'documented', 'doesen', 'docs', 'doctrinal', 'doen', 'domains', 'dokumentation', 'donner', 'doodah', 'doo', 'donuts', 'dontcha', 'dont', 'donrm', 'donovan', 'donning', 'donnie', 'donnelly', 'donato', 'donnell', 'donna', 'donkin', 'donkey', 'dongle', 'dong', 'donegan', 'doncaster', 'donc', 'doom', 'doomed', 'doomsday', 'door', 'dorothy', 'dormitory', 'dorman', 'dorm', 'dorland', 'dorks', 'dork', 'dorin', 'doright', 'dorfman', 'dore', 'dopson', 'dops', 'doppler', 'dope', 'doorway', 'doorstep', 'doors', 'doormat', 'donau', 'donations', 'dolan', 'dolt', 'dominant', 'dominance', 'domicile', 'domi', 'domesticated', 'domestic']\n",
      "\n",
      "\n",
      "1 .  comp.graphics :\n",
      " ['graphics', '3d', '3do', 'pov', 'surface', 'tiff', 'image', 'images', 'polygon', 'sphere', 'people', 'temp', 'animation', 'bezier', 'photoshop', 'format', 'virtual', 'xv', 'viewer', 'thanks', '42', 'diablo', 'mpeg', 'mit', 'vesa', 'looking', '68070', 'points', 'bham', 'files', 'vga', 'quicktime', 'ch', 'seth', 'fractals', 'algorithm', 'gif', 'code', 'program', 'caspian', 'color', 'au', 'sloan', 'fractal', 'radiosity', 'package', 'imaging', 'writes', 'rahul', 'scodal', 'sale', 'nl', 'hi', 'umich', 'version', 'speedstar', 'targa', 'uk', 'file', 'window', '24', '___', 'rgb', 'watson', 'space', 'engin', 'software', 'library', 'siggraph', 'com', 'ray', 'drive', 'email', 'ellipse', 'key', 'programming', 'ftp', 'imagine', 'make', 'phigs', 'video', 'monitor', 'ibm', 'right', 'god', 'colors', 'ibm3090', 'postscript', 'anybody', 'washington', 'kih', 'yoo', 'car', 'game', 'need', 'windows', 'don', 'rpi', 'ac', 'mode', 'new', 'dodgers', 'zzzzzz', 'dodging', 'dodgy', 'dody', 'doe', 'doelle', 'doers', 'does', 'doesen', 'doen', 'doctrinaire', 'dodger', 'docked', 'doctine', 'docs', 'docks', 'dockmaster', 'docking', 'docket', 'dockery', 'dock', 'doctor8', 'doc', 'dobyns', 'dobson', 'dobrica', 'dobkin', 'dobbs', 'dobb', 'doctor', 'doctoral', 'dodge', 'documenting', 'doders', 'dodell', 'dodd', 'dod0', 'dod', 'documents', 'documention', 'documented', 'doctoring', 'documentation', 'documentary', 'document', 'doctrines', 'doctrine', 'doctrinal', 'doctors', 'doesn', 'doj', 'doesnot', 'donations', 'donkin', 'donkey', 'dongle', 'dong', 'donegan', 'doncaster', 'donc', 'donau', 'donato', 'donation', 'donnell', 'donated', 'donate', 'donaldson', 'donald_mackie', 'donald_audette', 'donald', 'donahue', 'domke', 'domino', 'donna', 'donnelly', 'dominion', 'doomed', 'dops', 'doppler', 'dope', 'doorway', 'doorstep', 'doors', 'doormat', 'door', 'doomsday', 'doom', 'donner', 'doodah', 'doo', 'donuts', 'dontcha', 'dont', 'donrm', 'donovan', 'donning', 'donnie', 'dominique']\n",
      "\n",
      "\n",
      "2 .  comp.os.ms-windows.misc :\n",
      " ['windows', 'cica', 'win3', 'driver', 'winqvt', 'risc', 'file', 'deskjet', 'win', 'ax', 'ini', 'characters', 'drivers', 'sale', 'people', 'tw', 'manager', 'mu', 'using', 'access', 'philips', 'norton', 'atm', 'mouse', 'bc', 'fonts', 'canon', 'bit', 'winbench', 'files', 'quicken', 'prodigy', 'bmp', 'winword', 'photoshop', 'mit', 'nt', 'srini', 'ashok', 'metrics', 'graphics', 'mail', 'ndis', 'change', 'borland', 'font', 'ink', 'thanks', 'mfc', 'graphite', 'problem', 'printer', 'ami', 'dos', 'nz', 'card', 'ftp', 'download', 'ms', 'question', 'god', 'microsoft', 'uni', 'time', 'berkeley', 'mac', 'com', 'color', 'apple', 'new', 'latest', 'program', 'apps', 'icons', 'icon', 'xlib', 'server', 'telix', 'print', 'bytes', 'car', 'diamond', 'nasa', 'window', 'oracle', 'gwu', '386', 'doelle', 'dody', 'dodgy', 'dodging', 'doe', 'dodgers', 'dodger', 'dodge', 'dore', 'doers', 'dopson', 'dope', 'dogmas', 'doorstep', 'dogma', 'doorway', 'doghouse', 'dogfight', 'dog', 'dof', 'doen', 'doesnt', 'doesnot', 'doesn', 'doppler', 'doesen', 'does', 'dops', 'dorfman', 'dong', 'doders', 'dorsey', 'dorm', 'dorman', 'dormitory', 'dorothy', 'dorsai', 'doctoring', 'doctoral', 'dortmund', 'doctors', 'doctor8', 'doctor', 'doctine', 'dos5', 'dos6', 'docs', 'docks', 'dorland', 'doctrinaire', 'dodell', 'dorin', 'dodd', 'doright', 'doors', 'dod', 'documents', 'documention', 'documenting', 'documented', 'doctrinal', 'documentation', 'dork', 'documentary', 'document', 'doctrines', 'dorks', 'doctrine', 'dod0', 'dogs', 'dogmatic', 'domestic', 'dominican', 'dominic', 'domini', 'dominguez', 'donkey', 'domingo', 'domination', 'dominating', 'donkin', 'dominates', 'dominated', 'dominate', 'dominant', 'dominance', 'domicile', 'domi', 'donna', 'dominik', 'dominion', 'dominique', 'donated', 'dongle', 'doncaster', 'donc', 'donau', 'donato', 'donations', 'donation', 'donate', 'domino', 'donaldson', 'donald_mackie', 'donald_audette', 'donald', 'donahue', 'don', 'domke', 'domesticated', 'donnell', 'donegan', 'donnelly']\n",
      "\n",
      "\n",
      "3 .  comp.sys.ibm.pc.hardware :\n",
      " ['gateway', 'thanks', 'ab245', '486', 'ide', 'monitors', 'mac', 'pc', 'bios', 'bus', 'irq', 'port', 'vlb', 'card', 'help', 'people', 'harddisk', 'cmos', '1280x1024', 'monitor', 'srl', 'scsi', 'floppy', 'cpu', 'winmarks', 'pins', 'drive', 'chipset', 'rom', 'boot', 'robert', 'goyal', 'disk', 'memory', 'ibm', 'controller', 'amd', 'mcmaster', 'adaptec', 'sys', 'apple', 'zeos', 'eisa', 'dos', 'board', 'portal', 'motherboard', '17', 'jumpers', 'isa', 'date', 'orchid', 'info', 'nec', 'lee', 'drives', 'nanao', 'western', 'tape', 's3', 'os', 'article', 'compaq', 'turbo', 'upenn', 'sale', 'writes', 'connector', 'toshiba', 'tin', 'settings', 'simms', 'backup', 'pentium', 'edu', 'rash', 'god', 'dma', 'machine', 'windows', 'sb', 'switch', 'advance', 'au', 'cd', 'space', 'oz', 'modem', 'wharton', 'latonia', 'speed', 'cat', 'virginia', 'austin', '__', 'mouse', 'mit', 'computer', 'doghouse', 'dogfight', 'doctor8', 'doctine', 'dockmaster', 'dohc', 'docks', 'doh', 'dogmatic', 'doctoral', 'doctoring', 'dogs', 'dogma', 'doing', 'doin', 'docs', 'dogmas', 'doctor', 'documented', 'dog', 'dod0', 'dodge', 'doders', 'dodell', 'dodd', 'doctrinal', 'doctrine', 'dod', 'doctors', 'documents', 'doctrines', 'documention', 'document', 'documentary', 'documentation', 'doings', 'dodger', 'dodgers', 'dodging', 'dodgy', 'dody', 'doe', 'doelle', 'doen', 'doers', 'documenting', 'does', 'doesen', 'doesn', 'doesnot', 'doesnt', 'dof', 'doctrinaire', 'zzzzzz', 'doj', 'donnelly', 'doo', 'donuts', 'dontcha', 'dont', 'donrm', 'donovan', 'donning', 'donnie', 'donner', 'donnell', 'donations', 'donna', 'donkin', 'donkey', 'dongle', 'dong', 'donegan', 'doncaster', 'donc', 'donau', 'doodah', 'doom', 'doomed', 'doomsday', 'dormitory', 'dorman', 'dorm', 'dorland', 'dorks', 'dork', 'dorin', 'doright', 'dorfman', 'dore', 'dopson', 'dops', 'doppler', 'dope', 'doorway', 'doorstep', 'doors', 'doormat', 'door', 'donato', 'donation', 'dokumentation']\n",
      "\n",
      "\n",
      "4 .  comp.sys.mac.hardware :\n",
      " ['powerbook', 'mac', 'quadra', 'centris', 'iisi', 'apple', 'duo', 'lc', 'lciii', 'se', 'windows', 'macs', 'adb', '68040', 'c650', 'thanks', 'clock', 'monitor', 'upgrade', 'com', 'simm', 'people', 'bmug', '040', 'ncube', 'floptical', 'drive', 'modem', 'serial', 'cwru', 'problem', 'board', 'macplus', 'pilon', 'ide', 'iig', 'nntp', 'memory', 'ethernet', 'difference', 'jartsu', 'disc', 'external', 'vram', '3d', 'clark', 'speed', 'syquest', 'simms', 'nubus', 'sandvik', 'internal', 'macintosh', 'umn', 'trackball', 'god', 'buy', 'screen', 'quicktime', 'laserwriter', 'cable', 'printer', 'controller', 'keyboard', 'ram', 'mouse', 'pc', 'pb', 'dartmouth', 'cache', 'accelerator', 'printers', 'sale', 'hardware', '13', 'dorland', 'doers', 'doe', 'dody', 'doen', 'dodgy', 'dorm', 'doelle', 'doesn', 'does', 'doghouse', 'doh', 'dogs', 'dogmatic', 'dogmas', 'dogma', 'dork', 'dogfight', 'doesen', 'dog', 'dof', 'dorks', 'doesnt', 'doesnot', 'dodgers', 'dodging', 'doo', 'dodger', 'doctoral', 'doctor', 'dorothy', 'doctine', 'docs', 'docks', 'dockmaster', 'docking', 'dorsai', 'docket', 'dockery', 'docked', 'dorsey', 'dortmund', 'dock', 'doc', 'dobyns', 'dobson', 'dobrica', 'dobkin', 'doctor8', 'doctoring', 'dodge', 'doctors', 'doders', 'doin', 'dodell', 'dodd', 'dod0', 'dod', 'dorman', 'documents', 'documention', 'documenting', 'documented', 'documentation', 'documentary', 'dormitory', 'document', 'doctrines', 'doctrine', 'doctrinal', 'doctrinaire', 'dohc', 'doright', 'doing', 'door', 'donations', 'donation', 'donated', 'donate', 'donaldson', 'donald_mackie', 'donald_audette', 'doomsday', 'donald', 'donau', 'donahue', 'don', 'doormat', 'domke', 'domino', 'dominique', 'doors', 'dominion', 'donato', 'donc', 'doorstep', 'donner', 'doodah', 'dontcha', 'dont', 'donrm', 'doom', 'donovan', 'donning', 'donnie', 'donnelly', 'doncaster', 'donnell', 'donna', 'donkin', 'donkey', 'dongle', 'dong', 'doomed', 'donegan', 'dominik', 'dominican', 'doings', 'dolgo', 'dom', 'dolt', 'dolphin', 'dolls', 'dollars', 'dorfman']\n",
      "\n",
      "\n",
      "5 .  comp.windows.x :\n",
      " ['motif', 'x11r5', 'widget', 'xterm', 'server', 'lcs', 'writes', 'window', 'xlib', 'x11', 'xpert', 'imake', 'r5', 'expo', 'people', 'application', 'clients', 'xdm', 'mit', 'display', 'colormap', 'pixmap', 'code', 'lib', 'edu', 'synoptics', 'dresden', 'xdefaults', 'event', 'terminal', 'running', 'entry', 'sun', 'gc', 'dealy', 'hypercard', 'pointer', 'just', '__', 'visual', 'rainer', 'program', 'gsfc', 'tu', 'widgets', 'dialog', 'andrew', 'uk', 'rao', 'good', 'card', 'mouse', 'god', 'advance', 'programming', 'hi', 'thanks', 'cmu', 'expose', 'drive', 'color', 'new', 'unix', 'file', 'source', 'data', 'dos', 'car', 'article', 'don', 'version', 'sale', 'ca', 'postscript', 'xterminal', 'mac', 'teleuse', 'dopson', 'dodgers', 'dormitory', 'dore', 'dodger', 'doders', 'dodell', 'dodd', 'dod0', 'dod', 'documents', 'dodge', 'dops', 'dodging', 'doesen', 'dogfight', 'dog', 'dof', 'doesnt', 'doesnot', 'dope', 'doesn', 'does', 'dodgy', 'doers', 'doen', 'doelle', 'doe', 'dody', 'doppler', 'documenting', 'documention', 'dorfman', 'documented', 'documentation', 'docks', 'dorm', 'dockmaster', 'dorman', 'docking', 'docket', 'dockery', 'docked', 'dock', 'doc', 'dobyns', 'dobson', 'dobrica', 'dobkin', 'dobbs', 'dobb', 'doa', 'dorland', 'docs', 'dorks', 'doright', 'documentary', 'do0', 'doghouse', 'doctrines', 'doctrine', 'doctrinal', 'doctrinaire', 'dorin', 'doctine', 'doctors', 'doctoring', 'dns1', 'doctoral', 'doctor8', 'dork', 'doctor', 'document', 'donna', 'dogma', 'domingo', 'domino', 'dominique', 'dominion', 'dominik', 'dominican', 'dominic', 'domini', 'dominguez', 'domination', 'donnie', 'donning', 'dominating', 'donovan', 'donrm', 'dominates', 'dont', 'dominated', 'dontcha', 'domke', 'donahue', 'doo', 'donau', 'donkin', 'donkey', 'dongle', 'dong', 'donegan', 'donnelly', 'doncaster', 'donc', 'donato', 'donald', 'donations', 'donation', 'donated', 'donate', 'donaldson', 'donald_mackie', 'donald_audette', 'donner', 'donuts', 'doodah', 'dogmas', 'doings', 'dolezal', 'dole', 'doors']\n",
      "\n",
      "\n",
      "6 .  misc.forsale :\n",
      " ['sale', 'writes', 'forsale', 'shipping', 'wanted', 'sell', 'offer', 'think', 'asking', 'interested', 'condition', 'camera', '00', 'distribution', 'ohio', 'mail', 'junk', 'trade', 'people', 'summer', 'games', 'new', 'bike', 'just', 'price', 'email', 'purdue', 'ticket', 'stereo', '25', 'uk', 'cd', 'damico', 'pc', 'package', 'help', 'looking', 'offers', 'motherboard', 'custom', 'obo', 'sequent', 'modem', 'includes', 'catalog', '10', 'phone', 'don', 'power', 'excellent', 'problem', 'printer', 'lens', 'brand', 'hiram', 'com', 'send', 'god', 'time', 'doesnot', 'doesen', 'dolezal', 'dole', 'dogs', 'doesn', 'dolby', 'dolayi', 'dolan', 'dokumentation', 'doh', 'dogmas', 'doings', 'dogmatic', 'doing', 'doesnt', 'dof', 'dog', 'dogfight', 'doghouse', 'doin', 'dogma', 'dohc', 'doj', 'duplicating', 'does', 'doctrine', 'doctrinaire', 'doctors', 'doctoring', 'doctoral', 'doctor8', 'doctor', 'doctine', 'docs', 'docks', 'dockmaster', 'docking', 'docket', 'dockery', 'docked', 'dock', 'doc', 'dobyns', 'dobson', 'dobrica', 'dobkin', 'dobbs', 'doctrinal', 'doctrines', 'doers', 'document', 'doen', 'doelle', 'doe', 'doll', 'dody', 'dodgy', 'dodging', 'dodgers', 'dodger', 'dodge', 'doders', 'dodell', 'dodd', 'dod0', 'dod', 'documents', 'documention', 'documenting', 'documented', 'documentation', 'documentary', 'dolgo', 'domestic', 'dollar', 'dope', 'doorstep', 'doors', 'doormat', 'door', 'doomsday', 'doomed', 'doom', 'doodah', 'doo', 'donuts', 'dontcha', 'dont', 'donrm', 'donovan', 'donning', 'donnie', 'donner', 'donnelly', 'donnell', 'doorway', 'doppler', 'donkin', 'dops', 'dosage', 'dos6', 'dos5', 'dos', 'dortmund', 'dorsey', 'dorsai', 'dorothy', 'dormitory', 'dorman', 'dorm', 'dorland', 'dorks', 'dork', 'dorin', 'doright', 'dorfman', 'dore', 'dopson', 'donna', 'donkey', 'dollars', 'dominic', 'dominguez', 'domingo', 'domination', 'dominating', 'dominates', 'dominated', 'dominate', 'dominant', 'dominance', 'domicile', 'domi', 'domesticated', 'doa', 'domains', 'domain', 'dom', 'dolt', 'dolphin']\n",
      "\n",
      "\n",
      "7 .  rec.autos :\n",
      " ['cars', 'car', 'automotive', 'dealer', 'engine', 'toyota', 'boyle', 'warning', 'callison', 'auto', 'unisql', 'truck', 'jeep', 'honda', 'eliot', 'trunk', 'clas', 'shift', 'vw', 'oil', 'ford', 'wagon', 'mazda', 'centerline', 'bike', 'qazi', 'autos', 'chevrolet', 'convertible', 'air', 'lehigh', 'teenagers', 'road', 'gun', '_____', 'usa', 'nissan', 'saturn', 'com', 'god', 'yfn', 'hp', 'bmw', 'integra', 'ysu', 'david', 'mot', 'left', 'uk', 'sho', 'mileage', 'blah', 'att', 'lh', 'acs', 'government', 'aftermarket', 'injector', 'automatic', 'andrew', 'cdac', '__', 'erich', 'tommy', 'rocks', 'card', 'wheel', 'triumf', 'opel', 'sps', 'magnus', 'key', 'rochester', 'boeing', 'driving', 'taurus', 'people', 'distribution', 'condition', 'tires', 'use', 'fuel', 'dumbest', 'nasa', 'windows', 'doesnt', 'doesnot', 'doesn', 'dof', 'zzzzzz', 'dog', 'dogfight', 'doghouse', 'dogma', 'dogmas', 'dogs', 'doh', 'dohc', 'doin', 'doing', 'doings', 'doj', 'dokumentation', 'dolan', 'dolayi', 'dogmatic', 'dodge', 'doesen', 'doctors', 'documentation', 'documentary', 'document', 'doctrines', 'doctrine', 'doctrinal', 'doctrinaire', 'doctoring', 'does', 'doctoral', 'doctor8', 'doctor', 'doctine', 'docs', 'docks', 'dockmaster', 'documented', 'documenting', 'documention', 'documents', 'doers', 'doen', 'doelle', 'doe', 'dody', 'dodgy', 'dodging', 'dodgers', 'dodger', 'dole', 'doders', 'dodell', 'dodd', 'dod0', 'dod', 'dolby', 'dominates', 'dolezal', 'dont', 'doormat', 'door', 'doomsday', 'doomed', 'doom', 'doodah', 'doo', 'donuts', 'dontcha', 'donrm', 'doorstep', 'donovan', 'donning', 'donnie', 'donner', 'donnelly', 'donnell', 'donna', 'donkin', 'donkey', 'doors', 'doorway', 'dolgo', 'dorm', 'dos6', 'dos5', 'dos', 'dortmund', 'dorsey', 'dorsai', 'dorothy', 'dormitory', 'dorman', 'dorland', 'dope', 'dorks', 'dork', 'dorin', 'doright', 'dorfman', 'dore', 'dopson', 'dops', 'doppler', 'dongle', 'dong', 'donegan', 'domesticated', 'domination', 'dominating', 'docket', 'dominated']\n",
      "\n",
      "\n",
      "8 .  rec.motorcycles :\n",
      " ['dod', 'bike', 'bikes', 'motorcycle', 'riding', 'ride', 'bmw', 'ranck', 'rider', 'helmet', 'motorcycles', 'com', 'klinger', 'dog', 'aber', 'stafford', 'piece', 'ducati', 'bgardner', 'harley', 'cop', 'ticket', 'kawasaki', 'east', 'pica', 'uk', 'cornell', 'gear', 'ca', 'blaine', 'bnr', 'max', 'infante', 'lusky', 'edu', 'exhaust', 'dwi', 'howland', 'honda', 'windows', 'insurance', 'feet', 'yfn', 'sun', 'lock', 'bc', 'ed', 'boots', 'yamaha', 'people', 'svoboda', 'cookson', 'speedy', 'mike', 'cjackson', 'dogs', 'dogmatic', 'doctrines', 'dogmas', 'dogma', 'docked', 'doh', 'docket', 'docking', 'doghouse', 'dockery', 'doin', 'dohc', 'dobkin', 'doll', 'dolgo', 'dobb', 'dobbs', 'dolezal', 'dole', 'dolby', 'dolayi', 'dolan', 'dock', 'dobrica', 'dobson', 'dokumentation', 'doj', 'doings', 'doing', 'dobyns', 'doc', 'dogfight', 'docks', 'dockmaster', 'dof', 'dodell', 'dodd', 'doctor', 'dod0', 'doctor8', 'doctoral', 'doctoring', 'doctors', 'doctrinaire', 'documents', 'documention', 'documenting', 'doctrinal', 'documented', 'doctrine', 'documentation', 'documentary', 'doders', 'doctine', 'dodge', 'docs', 'doesnt', 'document', 'doesnot', 'doesn', 'doesen', 'does', 'doers', 'doen', 'dodger', 'doelle', 'doe', 'dody', 'dodgy', 'dodging', 'dollars', 'dodgers', 'dollar', 'zzzzzz', 'dolls', 'dolphin', 'dopson', 'dops', 'doppler', 'dope', 'doorway', 'doorstep', 'doors', 'doormat', 'door', 'doomsday', 'doomed', 'doom', 'doodah', 'doo', 'donuts', 'dontcha', 'dont', 'donrm', 'donovan', 'donning', 'donnie', 'dore', 'dorfman', 'doright', 'dos', 'dostoevsky', 'dosing', 'dosgate', 'doses', 'dose', 'dosages', 'dosage', 'dos6', 'dos5', 'dortmund', 'dorin', 'dorsey', 'dorsai', 'dorothy', 'dormitory', 'dorman', 'dorm', 'dorland', 'dorks', 'dork', 'donner', 'donnelly', 'donnell', 'dominate', 'dominican', 'dominic', 'domini', 'dominguez', 'domingo', 'domination', 'dominating', 'dominates', 'doa', 'dominant', 'dominion', 'dominance', 'domicile', 'domi', 'domesticated', 'domestic', 'domains', 'domain', 'dom']\n",
      "\n",
      "\n",
      "9 .  rec.sport.baseball :\n",
      " ['baseball', 'phillies', 'yankee', 'sox', 'cubs', 'braves', 'pitching', 'year', 'runs', 'ball', 'alomar', 'giants', 'pitcher', 'edu', 'hockey', 'mets', 'hit', 'rockies', 'tigers', 'royals', 'hitter', 'players', 'yankees', 'orioles', 'stadium', 'hall', 'journalism', 'uniforms', 'career', 'dl', 'philadelphia', 'bob', 'dodgers', 'gajarsky', 'morris', 'nl', 'ted', 'fan', 'boell', 'erickson', 'yogi', 'catcher', 'jay', 'hr', 'twins', 'marlins', 'espn', 'people', 'swing', 'stats', 'rbi', 'plymouth', 'wfan', 'gt0523e', 'season', 'kingman', 'jewish', 'yale', 'windows', 'team', 'sports', 'jays', 'scott', 'demers', 'list', 'nhl', 'day', 'game', 'sepinwall', 'batting', 'duke', 'smith', 'scores', 'kirsch', 'rickey', 'sale', 'fenway', 'hp', 'god', 'vma', 'win', 'rogers', 'louisville', 'car', 'reds', 'cornell', 'henderson', 'era', 'princeton', 'space', 'games', 'simmons', 'maine', 'defensive', 'gld', 'league', 'michael', 'canseco', 'astros', 'bat', 'baerga', 'use', 'upenn', 'netcom', 'pitch', 'dave', 'dod', 'dodgy', 'dodging', 'dodger', 'dodge', 'doders', 'dodell', 'documented', 'donnie', 'documenting', 'donning', 'dodd', 'documention', 'donovan', 'donrm', 'donnelly', 'donner', 'dod0', 'documents', 'donations', 'doctoring', 'documentation', 'doodah', 'dock', 'doc', 'donuts', 'dobyns', 'dobson', 'doo', 'dobrica', 'dobkin', 'dockery', 'dobbs', 'dobb', 'doa', 'doom', 'do0', 'dns1', 'dnewcomb', 'docked', 'docket', 'documentary', 'doctors', 'dont', 'document', 'doctrines', 'dontcha', 'doctrine', 'doctrinal', 'doctrinaire', 'donau', 'docking', 'doctoral', 'doctor8', 'doctor', 'doctine', 'docs', 'docks', 'dockmaster', 'dody', 'dog', 'donnell', 'dominance', 'dominating', 'dominates', 'donegan', 'dominated', 'dominate', 'dong', 'dominant', 'dongle', 'domingo', 'domicile', 'domi', 'donkey', 'domesticated', 'domestic', 'domains', 'domain', 'domination', 'dominguez', 'doe', 'don', 'donated', 'donate', 'donaldson', 'donald_mackie', 'donald_audette', 'donald', 'donahue', 'domke', 'domini', 'doncaster', 'domino']\n",
      "\n",
      "\n",
      "10 .  rec.sport.hockey :\n",
      " ['hockey', 'nhl', 'playoff', 'playoffs', 'wings', 'devils', 'finals', 'pens', 'play', 'cup', 'detroit', 'rangers', 'game', 'penguins', 'pittsburgh', 'hrivnak', 'team', 'flyers', 'ca', 'montreal', 'gerald', 'ice', 'leafs', 'goalie', 'coach', 'lemieux', 'season', 'puck', 'bruins', 'francis', 'abc', 'finland', 'com', 'gld', 'hawks', 'det', 'wc', 'keller', 'fi', 'ottawa', 'pts', 'teams', 'toronto', '55', 'buffalo', 'april', 'ists', 'daigle', 'andrew', 'islanders', 'maynard', 'tie', 'eos', 'traded', 'espn', 'players', 'ferreira', 'flames', 'stamber', 'pick', 'biggest', 'huot', 'runs', 'bos', 'jets', 'lindros', 'isles', 'cmu', 'use', 'gm', 'vs', 'habs', 'player', 'god', '10', 'chi', 'canada', 'doesnt', 'dof', 'dogmas', 'doesnot', 'doesn', 'doesen', 'does', 'dockery', 'doers', 'docked', 'doc', 'dock', 'dohc', 'doh', 'dobyns', 'dog', 'dobson', 'doelle', 'dogs', 'dobkin', 'dogfight', 'dobrica', 'dogmatic', 'doghouse', 'dogma', 'doen', 'doctrinal', 'doe', 'doctoral', 'documention', 'doctor', 'doctor8', 'documenting', 'doing', 'documented', 'documentation', 'doctine', 'documentary', 'document', 'doctoring', 'doctrines', 'doctors', 'doctrinaire', 'documents', 'docs', 'dody', 'docket', 'dodgy', 'dodging', 'dodgers', 'dodger', 'doctrine', 'dodge', 'doders', 'dod', 'dodell', 'dodd', 'docking', 'dockmaster', 'dod0', 'docks', 'doin', 'zzzzzz', 'doings', 'donnell', 'donuts', 'dontcha', 'dont', 'donrm', 'donovan', 'donning', 'donnie', 'donner', 'donnelly', 'donna', 'donation', 'donkin', 'donkey', 'dongle', 'dong', 'donegan', 'doncaster', 'donc', 'donau', 'donato', 'doo', 'doodah', 'doom', 'doomed', 'dorman', 'dorm', 'dorland', 'dorks', 'dork', 'dorin', 'doright', 'dorfman', 'dore', 'dopson', 'dops', 'doppler', 'dope', 'doorway', 'doorstep', 'doors', 'doormat', 'door', 'doomsday', 'donations', 'donated', 'doj', 'dolls', 'domicile', 'domi', 'domesticated', 'domestic', 'domains', 'domain', 'dom', 'dobbs', 'dolphin', 'dollars', 'donate']\n",
      "\n",
      "\n",
      "11 .  sci.crypt :\n",
      " ['clipper', 'tapped', 'encryption', 'crypto', 'cryptography', 'key', 'wiretap', 'nsa', 'security', 'pgp', 'bontchev', 'gtoal', 'des', 'encrypted', 'qualcomm', 'curtin', 'eff', 'secret', 'code', 'mitre', 'source', 'marc', 'bear', 'anonymous', 'bits', 'com', 'police', 'pmetzger', 'keys', 'crypt', 'chip', 'tempest', 'government', 'netcom', 'random', 's1', 'amendment', 'intercon', 'rsa', 'clinton', 'law', 'court', 'privacy', 'escrow', 'grady', 'steve', 'dolby', 'dolayi', 'dole', 'doers', 'does', 'doesnt', 'dolan', 'dolezal', 'doesen', 'dokumentation', 'doj', 'doesn', 'doesnot', 'dogs', 'doings', 'doelle', 'dof', 'dobb', 'dog', 'dogfight', 'doing', 'doghouse', 'doin', 'dogma', 'dobbs', 'dohc', 'dogmas', 'dogmatic', 'doh', 'doen', 'dobrica', 'doe', 'doctrinal', 'doctors', 'doctoring', 'doctoral', 'doctor8', 'doctor', 'doctine', 'docs', 'docks', 'dockmaster', 'docking', 'docket', 'dockery', 'docked', 'dock', 'doc', 'dobyns', 'dobson', 'doctrinaire', 'dobkin', 'dody', 'doctrine', 'dodgy', 'dodging', 'dodgers', 'dodger', 'dodge', 'dodell', 'dodd', 'dod0', 'dod', 'documents', 'documention', 'documenting', 'documented', 'documentation', 'documentary', 'document', 'doctrines', 'doders', 'zzzzzz', 'dolgo', 'dops', 'dope', 'doorway', 'doorstep', 'doors', 'doormat', 'door', 'doomsday', 'doomed', 'doom', 'doodah', 'doo', 'donuts', 'dontcha', 'dont', 'donrm', 'donovan', 'donning', 'donnie', 'donner', 'donnelly', 'donnell', 'doppler', 'dopson', 'donkin', 'dore', 'dosgate', 'doses', 'dose', 'dosages', 'dosage', 'dos6', 'dos5', 'dos', 'dortmund', 'dorsey', 'dorsai', 'dorothy', 'dormitory', 'dorman', 'dorm', 'dorland', 'dorks', 'dork', 'dorin', 'doright', 'dorfman', 'donna', 'donkey', 'doll', 'domini', 'domingo', 'domination', 'dominating', 'dominates', 'dominated', 'dominate', 'dominant', 'dominance', 'domicile', 'domi', 'domesticated', 'domestic', 'domains', 'domain', 'dom', 'do0', 'dolt', 'dolphin', 'dolls', 'dollars', 'dollar', 'dominguez', 'dominic', 'dongle', 'dominican', 'dong', 'donegan', 'doncaster', 'donc']\n",
      "\n",
      "\n",
      "12 .  sci.electronics :\n",
      " ['circuit', 'voltage', 'electronics', 'cooling', '8051', 'power', 'ee', '256k', 'motorola', 'tv', 'line', 'wire', 'windows', 'grissom', 'audio', 'phone', 'current', 'amp', 'copy', 'circuits', 'scope', 'ground', 'babb', 'rf', 'pcb', 'people', 'design', 'kolstad', 'neoucom', 'bison', 'uv', 'radar', 'receiver', 'think', 'arcade', 'device', 'payne', 'adcom', 'hp', 'electrical', 'clipper', 'use', 'fluke', 'low', 'dayton', 'analog', 'government', 'belton', 'skybridge', 'mhz', '2600', 'ir', 'god', 'martin', 'wave', 'umn', 'ic', 'wondering', 'projects', 'au', 'radio', 'noise', 'ai', 'battery', 'logic', 'caps', 'sehari', 'copper', 'year', 'northeastern', 'writes', 'old', 'fegmania', 'chip', 'did', 'traffic', 'detector', 'b30', 'transformer', 'new', 'output', 'sale', 'catbyte', 'dsp', 'detectors', 'dtmedin', 'ac', 'tube', 'eprom', 'rs232', 'mpr', 'space', 'larc', 'frequency', 'build', 'protection', 'mac', 'work', 'gec', 'does', 'mq', 'signal', 'company', 'chips', 'exploding', 'gps', 'looking', 'dial', 'ssc', 'batteries', 'number', 'article', 'henry', 'signals', 'drive', 'file', 'blakey', 'ham', 'towers', 'help', 'digital', 'key', 'steve', 'wayne', 'team', 'game', 'wex', 'pin', 'wpi', 'cycle', 'encryption', 'window', 'thanks', 'fpu', 'scsi', 'levy', 'access', 'data', 'doors', 'dody', 'doom', 'doctine', 'doormat', 'dodging', 'door', 'dodgy', 'doen', 'doe', 'doelle', 'doctor', 'docs', 'doers', 'docks', 'doodah', 'doesen', 'doo', 'dodgers', 'dodge', 'dodger', 'doctor8', 'documention', 'documents', 'documented', 'doesn', 'doomsday', 'dod', 'documentation', 'documentary', 'dod0', 'document', 'doctrines', 'dodd', 'doctrine', 'doctrinal', 'doctrinaire', 'doctors', 'dodell', 'doctoring', 'doctoral', 'doders', 'documenting', 'doomed', 'doncaster', 'doesnot', 'dominique', 'dominik', 'dominican', 'dominic', 'domini', 'dominguez', 'domingo', 'domination', 'donna', 'dominating', 'dominates', 'dominated', 'dominate', 'donnell', 'dominant', 'dominance']\n",
      "\n",
      "\n",
      "13 .  sci.med :\n",
      " ['doctor', 'disease', 'treatment', 'diet', 'foods', 'msg', 'photography', 'symptoms', 'medicine', 'cancer', 'medical', 'methodology', 'med', 'pain', 'pitt', 'cnsvax', 'syndrome', 'geb', 'dyer', 'needles', 'god', 'vida', 'yeast', 'information', 'eye', 'seizures', 'skin', 'health', 'radford', 'ng4', 'science', 'effects', 'prk', 'food', 'zisfein', 'risk', 'krillean', 'unx', 'gordon', 'weight', 'rind', 'patients', 'genes', 'almanac', 'eis', 'gilbert', 'water', 'turpin', 'antibiotics', 'government', 'illness', 'ai', 'sas', 'prozac', 'scientific', 'noring', 'migraine', 'windows', 'harvard', 'kekule', 'banks', 'insurance', 'card', 'homeopathy', 'endometriosis', 'jb', 'com', 'medication', 'roth', 'drive', 'substances', 'exercise', 'sauce', 'candida', 'research', 'acid', 'space', 'disorder', 'berkeley', 'body', 'blood', 'sol1', 'car', 'ringing', 'dody', 'dodgy', 'doe', 'dodging', 'do0', 'docked', 'doelle', 'dog', 'dogs', 'dogmatic', 'dogmas', 'dogma', 'doghouse', 'dogfight', 'dof', 'dns1', 'doesnot', 'doesn', 'doesen', 'does', 'doers', 'doen', 'doesnt', 'dod', 'doa', 'dobyns', 'dobson', 'doctrinal', 'doctrinaire', 'doctors', 'doctoring', 'doctoral', 'doctor8', 'doctine', 'doctrine', 'docs', 'docks', 'dockmaster', 'docking', 'doc', 'dock', 'docket', 'dobrica', 'doctrines', 'dobb', 'dockery', 'dodgers', 'dodger', 'dodge', 'doders', 'dodell', 'dodd', 'dod0', 'documents', 'dobkin', 'documention', 'documenting', 'documented', 'documentation', 'dobbs', 'documentary', 'document', 'doh', 'dom', 'dohc', 'donated', 'donuts', 'dontcha', 'dont', 'donrm', 'donovan', 'donning', 'donnie', 'donner', 'donnelly', 'donnell', 'donna', 'donkin', 'donkey', 'dongle', 'dong', 'donegan', 'doncaster', 'donc', 'donau', 'donato', 'donations', 'doo', 'doodah', 'doom', 'dore', 'dormitory', 'dorman', 'dorm', 'dorland', 'dorks', 'dork', 'dorin', 'doright', 'dorfman', 'dopson', 'doomed', 'dops', 'doppler', 'dope', 'doorway', 'doorstep', 'doors', 'doormat', 'door', 'doomsday', 'donation', 'donate', 'doin', 'donaldson', 'domesticated']\n",
      "\n",
      "\n",
      "14 .  sci.space :\n",
      " ['orbit', 'space', 'moon', 'launch', 'sky', 'rockets', 'prb', 'spacecraft', 'sunset', 'henry', 'dc', 'gamma', 'mccall', 'dietz', 'solar', 'shuttle', 'digex', 'nasa', 'astronomy', 'nicoll', 'alphacdc', 'alaska', 'sci', 'ucsc', 'nicho', 'windows', 'lunar', 'centaur', 'higgins', 'funding', 'orion', 'otago', 'clementine', 'dseg', 'baalke', 'mars', 'sunrise', 'flight', 'aurora', 'billion', 'observatory', 'pat', 'loss', 'sysmgr', 'jupiter', 'proton', 'nick', 'god', 'file', 'allen', 'cmu', 'satellite', 'titan', 'jpl', 'venus', 'software', 'doug', 'breathing', 'accelerations', 'steinly', 'pgf', 'nuclear', 'scicom', 'dogs', 'doing', 'doin', 'doctor', 'dohc', 'doh', 'doctor8', 'doings', 'doctoral', 'doctoring', 'doctors', 'dogmatic', 'dogmas', 'doctine', 'doders', 'doctrinaire', 'dockery', 'dobyns', 'doc', 'dock', 'docked', 'dolby', 'dolayi', 'dolan', 'docs', 'docket', 'dokumentation', 'docking', 'doj', 'dockmaster', 'docks', 'dogma', 'doghouse', 'dodge', 'doers', 'dodell', 'dodd', 'dole', 'dodgers', 'dodging', 'dod0', 'dodgy', 'dod', 'dody', 'doe', 'documents', 'doelle', 'documention', 'doen', 'does', 'doctrinal', 'doesen', 'documenting', 'documented', 'doesn', 'documentation', 'documentary', 'doesnot', 'doesnt', 'dof', 'document', 'dog', 'doctrines', 'dogfight', 'doctrine', 'dodger', 'zzzzzz', 'dolezal', 'donrm', 'door', 'doomsday', 'doomed', 'doom', 'doodah', 'doo', 'donuts', 'dontcha', 'dont', 'donovan', 'dolgo', 'donning', 'donnie', 'donner', 'donnelly', 'donnell', 'donna', 'donkin', 'donkey', 'dongle', 'doormat', 'doors', 'doorstep', 'doorway', 'dos', 'dortmund', 'dorsey', 'dorsai', 'dorothy', 'dormitory', 'dorman', 'dorm', 'dorland', 'dorks', 'dork', 'dorin', 'doright', 'dorfman', 'dore', 'dopson', 'dops', 'doppler', 'dope', 'dong', 'donegan', 'doncaster', 'domingo', 'dominating', 'dominates', 'dominated', 'dominate', 'dominant', 'dominance', 'domicile', 'domi', 'domesticated', 'domestic', 'dobson', 'domain', 'dom', 'dolt', 'dolphin', 'dolls', 'dollars', 'dollar', 'doll', 'domination', 'dominguez']\n",
      "\n",
      "\n",
      "15 .  soc.religion.christian :\n",
      " ['athos', 'nntp', 'clh', 'geneva', 'article', 'church', 'petch', 'christians', 'christ', 'fisher', 'hell', 'christianity', 'scripture', 'host', 'god', 'married', 'book', 'easter', 'distribution', 'james', 'sin', 'faith', 'rutgers', 'arrogance', 'prayer', 'jayne', 'resurrection', 'catholic', 'question', 'authority', 'uga', 'covington', 'sandvik', 'language', 'christian', 'liturgy', 'prayers', 'bible', 'com', 'mary', 'temple', 'spiritual', 'black', 'jesus', 'lds', 'romans', 'father', 'byler', 'brian', 'ra', 'windows', 'abstinence', 'truth', 'heaven', 'orthodox', 'lord', 'malcolm', 'atheism', 'marriage', 'passion', 'revelation', 'doin', 'dole', 'dolezal', 'doesnt', 'doj', 'dohc', 'doing', 'dokumentation', 'doesn', 'doings', 'doesnot', 'dolby', 'dof', 'dog', 'dolan', 'dogfight', 'doh', 'dolayi', 'doghouse', 'dogma', 'dogs', 'dogmas', 'dogmatic', 'zzzzzz', 'dodgers', 'doesen', 'docs', 'doctrine', 'doctrinal', 'doctrinaire', 'doctors', 'doctoring', 'doctoral', 'doctor8', 'doctor', 'doctine', 'docks', 'does', 'dockmaster', 'docking', 'docket', 'dockery', 'docked', 'dock', 'doc', 'dobyns', 'dobson', 'doctrines', 'document', 'documentary', 'documentation', 'doers', 'doen', 'doelle', 'doe', 'dody', 'dodgy', 'dodging', 'doll', 'dodger', 'dodge', 'doders', 'dodell', 'dodd', 'dod0', 'dod', 'documents', 'documention', 'documenting', 'documented', 'dolgo', 'dominates', 'dollar', 'doorway', 'doors', 'doormat', 'door', 'doomsday', 'doomed', 'doom', 'doodah', 'doo', 'donuts', 'dontcha', 'dont', 'donrm', 'donovan', 'donning', 'donnie', 'donner', 'donnelly', 'donnell', 'donna', 'doorstep', 'dope', 'donkey', 'doppler', 'dos6', 'dos5', 'dos', 'dortmund', 'dorsey', 'dorsai', 'dorothy', 'dormitory', 'dorman', 'dorm', 'dorland', 'dorks', 'dork', 'dorin', 'doright', 'dorfman', 'dore', 'dopson', 'dops', 'donkin', 'dongle', 'dollars', 'dominic', 'dominguez', 'domingo', 'domination', 'dominating', 'dobkin', 'dominated', 'dominate', 'dominant', 'dominance', 'domicile', 'domi', 'domesticated', 'domestic', 'domains', 'domain', 'dom', 'dolt', 'dolphin', 'dolls']\n",
      "\n",
      "\n",
      "16 .  talk.politics.guns :\n",
      " ['gun', 'guns', 'waco', 'atf', 'ranch', 'handgun', 'weapons', 'firearms', 'ucsu', 'fbi', 'ifas', 'uic', 'rights', 'batf', 'cathy', 'militia', 'nra', 'hunting', 'handheld', 'liberty', 'weapon', 'clesun', 'roby', 'stratus', 'weaver', 'feustel', 'texas', 'wray', 'police', 'cipriani', 'reno', 'gozer', 'com', 'law', 'cdt', 'andy', 'chuck', 'government', 'gatech', 'fired', 'hci', 'lethal', 'convex', 'gas', 'amendment', 'veal', 'duke', 'firearm', 'edu', 'pyron', 'federal', 'jupiter', 'usa', 'cnn', 'colorado', 'dseg', 'strait', 'betz', 'clipper', 'medical', 'boi', 'greig', 'god', 'uio', 'crary', 'jim', 'dod0', 'dod', 'doorway', 'doorstep', 'documents', 'documention', 'doppler', 'dope', 'documenting', 'dodell', 'documented', 'dops', 'documentation', 'dopson', 'documentary', 'dodd', 'door', 'doors', 'doormat', 'doesn', 'doesen', 'does', 'doers', 'doen', 'doelle', 'doomed', 'doe', 'dody', 'dodgy', 'dodging', 'dodgers', 'doomsday', 'dodger', 'dodge', 'doctrines', 'doders', 'document', 'donnell', 'doctrine', 'dore', 'dockmaster', 'docking', 'docket', 'dockery', 'docked', 'dock', 'dorsai', 'doc', 'dobyns', 'dobson', 'dobrica', 'dobkin', 'dobbs', 'dobb', 'doa', 'dorsey', 'do0', 'dorothy', 'dormitory', 'docks', 'dork', 'doctrinal', 'doom', 'doctrinaire', 'doright', 'dorin', 'doctors', 'doctoring', 'doctoral', 'docs', 'dorks', 'dorland', 'dorm', 'dorman', 'doctor8', 'doctor', 'doctine', 'dorfman', 'doesnt', 'doesnot', 'domini', 'domke', 'domino', 'dominique', 'dominion', 'donnie', 'dominik', 'dominican', 'dominic', 'dominguez', 'donna', 'domingo', 'domination', 'dominating', 'dominates', 'dominated', 'dominate', 'donning', 'dominant', 'don', 'donahue', 'donald', 'donald_audette', 'donkin', 'donkey', 'donnelly', 'dongle', 'donner', 'dong', 'donegan', 'doncaster', 'donc', 'donau', 'donato', 'donations', 'donation', 'donated', 'donate', 'donaldson', 'donald_mackie', 'dominance', 'domicile', 'domi', 'dolan', 'donuts', 'doj', 'doings', 'doing', 'doin', 'dohc', 'doh', 'dogs', 'dogmatic', 'doo']\n",
      "\n",
      "\n",
      "17 .  talk.politics.mideast :\n",
      " ['israeli', 'israel', 'turkish', 'armenian', 'holocaust', 'armenians', 'bosnia', 'turkey', 'arab', 'cpr', 'serdar', 'jake', 'adl', 'jews', 'iran', 'dimension', 'freedom', 'cosmo', 'mcgill', 'racism', 'danny', 'jewish', 'garfiel', 'uci', 'columbia', 'soldiers', 'mr', 'adam', 'greek', 'armenia', 'fundamentalist', 'cunixa', 'said', 'argic', 'freeman', 'jerusalem', 'angmar', 'yassin', 'peace', 'military', 'zionism', 'killed', 'nstramer', 'jesus', 'somalia', 'arabs', 'honeywell', 'american', 'god', 'yigal', 'virginia', 'dolls', 'domain', 'domains', 'dohc', 'dom', 'dolt', 'doin', 'doing', 'domestic', 'dolphin', 'dolan', 'doings', 'dollars', 'dogs', 'dollar', 'doll', 'doj', 'dolgo', 'dolezal', 'dole', 'dolby', 'dolayi', 'dokumentation', 'doh', 'doesnot', 'dogmatic', 'dogmas', 'dod', 'documents', 'documention', 'documenting', 'documented', 'documentation', 'documentary', 'document', 'doctrines', 'doctrine', 'doctrinal', 'doctrinaire', 'doctors', 'doctoring', 'doctoral', 'doctor8', 'doctor', 'doctine', 'docs', 'docks', 'dockmaster', 'dod0', 'dodd', 'dodell', 'does', 'dogma', 'doghouse', 'dogfight', 'dog', 'dof', 'doesnt', 'domi', 'doesn', 'doesen', 'doers', 'doders', 'doen', 'doelle', 'doe', 'dody', 'dodgy', 'dodging', 'dodgers', 'dodger', 'dodge', 'domesticated', 'zzzzzz', 'domicile', 'dope', 'dorks', 'dork', 'dorin', 'doright', 'dorfman', 'dore', 'dopson', 'dops', 'doppler', 'doorway', 'dorm', 'doorstep', 'doors', 'doormat', 'door', 'doomsday', 'doomed', 'doom', 'doodah', 'doo', 'dorland', 'dorman', 'dominance', 'doses', 'double', 'dotted', 'dots', 'doth', 'dot', 'dosyalari', 'dostoevsky', 'dosing', 'dosgate', 'dose', 'dormitory', 'dosages', 'dosage', 'dos6', 'dos5', 'dos', 'dortmund', 'dorsey', 'dorsai', 'dorothy', 'donuts', 'dontcha', 'dont', 'dominic', 'donald', 'donahue', 'don', 'domke', 'domino', 'dominique', 'dominion', 'dominik', 'dominican', 'domini', 'donrm', 'docket', 'dominguez', 'domingo', 'domination', 'dominating', 'dominates', 'dominated', 'dominate', 'dominant', 'donald_audette', 'donald_mackie', 'donaldson', 'donate', 'donovan']\n",
      "\n",
      "\n",
      "18 .  talk.politics.misc :\n",
      " ['kaldis', 'drugs', 'br', 'hallam', 'cramer', 'tax', 'gay', 'atlantaga', 'sexual', 'clinton', 'jobs', 'verdict', 'writes', 'deficit', 'phil', 'broward', 'health', 'optilink', 'f36si', 'president', 'government', 'gordian', 'trial', 'state', 'ingres', 'party', 'slick', 'white', 'aid', 'technet', 'drieux', 'kyle', 'states', 'borden', 'poor', 'chip', 'united', 'uchicago', 'reagan', 'neal', 'service', 'train', 'thf2', 'judge', 'blacks', 'economic', 'abortion', 'news', 'law', 'laws', 'clipper', 'garrett', 'william', 'pork', 'environmental', 'mr', 'american', 'people', 'riggs', 'insurance', 'bush', 'brandeis', 'king', 'ronzone', 'russia', 'new', 'conservatives', 'com', 'reform', 'men', 'child', 'encryption', 'case', 'libertarian', 'witnesses', 'oregon', 'country', 'rights', 'class', 'ted', 'social', 'israel', 'gsh7w', 'desy', 'netcom', 'crime', 'taxes', 'virginia', 'jpl', 'stephanopoulos', 'death', 'dobkin', 'doen', 'doers', 'doghouse', 'doctrinaire', 'dockery', 'docked', 'doctrines', 'dobson', 'dobrica', 'doctrine', 'doesnt', 'does', 'doesen', 'dogfight', 'doc', 'dog', 'doelle', 'dof', 'doesn', 'dobyns', 'doesnot', 'dock', 'docket', 'doe', 'dody', 'documention', 'documents', 'dod', 'doctoral', 'doctor8', 'dodd', 'doctor', 'dodell', 'doctors', 'doctine', 'docs', 'doders', 'documenting', 'dodge', 'dodger', 'dodgers', 'dodging', 'documented', 'dodgy', 'documentation', 'doctrinal', 'docks', 'dockmaster', 'documentary', 'docking', 'document', 'doctoring', 'dod0', 'zzzzzz', 'dogma', 'dogmas', 'donner', 'donnelly', 'donnell', 'donna', 'donkin', 'donkey', 'dongle', 'dong', 'donegan', 'doncaster', 'donc', 'donau', 'donato', 'donations', 'donation', 'donated', 'donate', 'donaldson', 'donald_mackie', 'donald_audette', 'donald', 'donnie', 'donning', 'donovan', 'doors', 'doright', 'dorfman', 'dore', 'dopson', 'dops', 'doppler', 'dope', 'doorway', 'doorstep', 'doormat', 'donrm', 'door', 'doomsday', 'doomed', 'doom', 'doodah', 'doo', 'donuts', 'dontcha', 'dont', 'donahue', 'don', 'domke', 'dolayi', 'dolls', 'dollars', 'dollar']\n",
      "\n",
      "\n",
      "19 .  talk.religion.misc :\n",
      " ['biblical', 'ch981', 'weiss', 'thyagi', 'christian', 'koresh', 'kendig', 'mormons', 'kfu', 'order', 'mithras', 'sandvik', 'amdahl', 'meritt', 'hudson', 'mr', 'abortion', 'muhammad', 'beast', 'pegasus', 'hare', 'decenso', 'mitre', 'roehm', 'frank', 'brian', 'promise', 'morality', 'bull', 'rosicrucian', 'royc', 'convenient', '666', 'tyre', 'southern', 'homosexuality', 'jesus', 'god', 'malcolm', 'jim', 'sword', 'nyikos', '2000', 'freenet', 'objective', 'buffalo', 'lds', 'christians', 'lord', 'virginia', 'contradictions', 'life', 'religion', 'gas', 'yadlowsky', 'moral', 'atheists', 'evidence', 'eitech', 'values', 'com', 'fsu', 'thou', 'halat', 'josephus', 'pmy', 'rutgers', 'caltech', 'context', 'man', 'church', 'merlyn', 'jmeritt', 'ancient', 'utexas', 'material', 'atoms', 'windows', 'dogmas', 'doers', 'dorin', 'doelle', 'dogma', 'doen', 'doh', 'dorm', 'does', 'doesen', 'doesn', 'doghouse', 'doesnot', 'dork', 'dorks', 'doesnt', 'dof', 'dog', 'dorland', 'doe', 'dogmatic', 'dogs', 'dogfight', 'doormat', 'dodd', 'dody', 'dormitory', 'doctrinaire', 'doctors', 'dorothy', 'doctoring', 'doctoral', 'doctor8', 'doctor', 'doctine', 'docs', 'dorsai', 'docks', 'dockmaster', 'docking', 'docket', 'dockery', 'docked', 'dock', 'doctrinal', 'doctrine', 'dodgy', 'doctrines', 'dodging', 'dodgers', 'dodger', 'dodge', 'doders', 'dodell', 'doin', 'dod0', 'dod', 'documents', 'documention', 'dorman', 'documenting', 'documented', 'documentation', 'documentary', 'document', 'dohc', 'dolgo', 'doing', 'donations', 'doorway', 'donegan', 'doncaster', 'donc', 'dope', 'doppler', 'donau', 'donato', 'donation', 'dongle', 'donated', 'donate', 'donaldson', 'donald_mackie', 'donald_audette', 'donald', 'donahue', 'don', 'dong', 'donkey', 'doings', 'donrm', 'doomsday', 'doomed', 'doom', 'doodah', 'doo', 'donuts', 'dontcha', 'dont', 'donovan', 'donkin', 'donning', 'donnie', 'donner', 'donnelly', 'donnell', 'doors', 'doorstep', 'donna', 'domke', 'dops', 'domino', 'doll', 'domains', 'domain', 'dom', 'dolt', 'dolphin', 'dolls', 'dollars', 'dollar', 'door']\n",
      "\n",
      "\n"
     ]
    }
   ],
   "source": [
    "lr_news = LogisticRegression(penalty='l1')\n",
    "lr_news.fit(news_vt_train, y=news_train_target)\n",
    "l=[]\n",
    "for j in range(20):\n",
    "    l.append([common_features[i] for i in np.fliplr(np.argsort(np.absolute(lr_news.coef_)))[j, :200]])\n",
    "for item in range(len(l)):\n",
    "    print(item, '. ', news_train_target_names[item], ':\\n', l[item])\n",
    "    print(\"\\n\")"
   ]
  },
  {
   "cell_type": "code",
   "execution_count": 4,
   "metadata": {
    "ExecuteTime": {
     "end_time": "2018-03-12T02:56:58.513805Z",
     "start_time": "2018-03-12T02:56:58.446713Z"
    }
   },
   "outputs": [
    {
     "data": {
      "text/plain": [
       "0.74933616569304307"
      ]
     },
     "execution_count": 4,
     "metadata": {},
     "output_type": "execute_result"
    }
   ],
   "source": [
    "news_predict = lr_news.predict(news_vt_test)\n",
    "accuracy_score(news_test_target, news_predict)"
   ]
  },
  {
   "cell_type": "code",
   "execution_count": 27,
   "metadata": {
    "ExecuteTime": {
     "end_time": "2018-03-12T03:05:20.632529Z",
     "start_time": "2018-03-12T03:05:19.920615Z"
    }
   },
   "outputs": [
    {
     "data": {
      "text/plain": [
       "1436"
      ]
     },
     "execution_count": 27,
     "metadata": {},
     "output_type": "execute_result"
    }
   ],
   "source": [
    "reduced_feature = []\n",
    "for j in range(20):\n",
    "    for i in np.fliplr(np.argsort(np.absolute(lr_news.coef_)))[j, :200]:\n",
    "        reduced_feature.append(i)  \n",
    "len(np.unique(reduced_feature))"
   ]
  },
  {
   "cell_type": "code",
   "execution_count": 28,
   "metadata": {
    "ExecuteTime": {
     "end_time": "2018-03-12T03:05:23.523574Z",
     "start_time": "2018-03-12T03:05:23.484033Z"
    }
   },
   "outputs": [],
   "source": [
    "small_train = news_vectored_result_train[:,np.unique(reduced_feature)]\n",
    "small_test = news_vectored_result_test[:,np.unique(reduced_feature)]"
   ]
  },
  {
   "cell_type": "code",
   "execution_count": null,
   "metadata": {},
   "outputs": [],
   "source": [
    "small"
   ]
  },
  {
   "cell_type": "code",
   "execution_count": 25,
   "metadata": {
    "ExecuteTime": {
     "end_time": "2018-03-12T03:04:56.397983Z",
     "start_time": "2018-03-12T03:04:55.909907Z"
    }
   },
   "outputs": [
    {
     "data": {
      "text/plain": [
       "LogisticRegression(C=1.0, class_weight=None, dual=False, fit_intercept=True,\n",
       "          intercept_scaling=1, max_iter=100, multi_class='ovr', n_jobs=1,\n",
       "          penalty='l2', random_state=None, solver='liblinear', tol=0.0001,\n",
       "          verbose=0, warm_start=False)"
      ]
     },
     "execution_count": 25,
     "metadata": {},
     "output_type": "execute_result"
    }
   ],
   "source": [
    "lr_news_reduced = LogisticRegression()\n",
    "lr_news_reduced.fit(small_train, y=news_train_target)"
   ]
  },
  {
   "cell_type": "code",
   "execution_count": 26,
   "metadata": {
    "ExecuteTime": {
     "end_time": "2018-03-12T03:04:57.416594Z",
     "start_time": "2018-03-12T03:04:57.405750Z"
    }
   },
   "outputs": [
    {
     "data": {
      "text/plain": [
       "0.056160382368560809"
      ]
     },
     "execution_count": 26,
     "metadata": {},
     "output_type": "execute_result"
    }
   ],
   "source": [
    "small_pred = lr_news_reduced.predict(small_test)\n",
    "accuracy_score(news_test_target, small_pred)"
   ]
  },
  {
   "cell_type": "code",
   "execution_count": null,
   "metadata": {},
   "outputs": [],
   "source": []
  }
 ],
 "metadata": {
  "kernelspec": {
   "display_name": "Python 3",
   "language": "python",
   "name": "python3"
  },
  "language_info": {
   "codemirror_mode": {
    "name": "ipython",
    "version": 3
   },
   "file_extension": ".py",
   "mimetype": "text/x-python",
   "name": "python",
   "nbconvert_exporter": "python",
   "pygments_lexer": "ipython3",
   "version": "3.6.4"
  }
 },
 "nbformat": 4,
 "nbformat_minor": 2
}
