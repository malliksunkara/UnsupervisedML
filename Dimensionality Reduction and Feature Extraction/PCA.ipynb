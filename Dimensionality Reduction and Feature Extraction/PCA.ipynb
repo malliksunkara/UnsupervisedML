{
 "cells": [
  {
   "cell_type": "code",
   "execution_count": 2,
   "metadata": {
    "ExecuteTime": {
     "end_time": "2018-03-12T02:33:19.070325Z",
     "start_time": "2018-03-12T02:33:18.631250Z"
    }
   },
   "outputs": [],
   "source": [
    "from sklearn.datasets import fetch_20newsgroups, fetch_mldata\n",
    "from sklearn.feature_extraction.text import  TfidfVectorizer\n",
    "from sklearn.linear_model import LogisticRegression\n",
    "from sklearn.model_selection import train_test_split\n",
    "from sklearn.metrics import accuracy_score\n",
    "from sklearn.tree import DecisionTreeClassifier\n",
    "from sklearn.decomposition import PCA\n",
    "from sklearn.preprocessing import StandardScaler\n",
    "from sklearn.covariance import EmpiricalCovariance\n",
    "from numpy.linalg import eig\n",
    "from numpy import linalg as LA\n",
    "import numpy as np\n",
    "import scipy"
   ]
  },
  {
   "cell_type": "code",
   "execution_count": 3,
   "metadata": {
    "ExecuteTime": {
     "end_time": "2018-03-12T02:33:19.159389Z",
     "start_time": "2018-03-12T02:33:19.072818Z"
    }
   },
   "outputs": [],
   "source": [
    "mnist_full = fetch_mldata('MNIST original', data_home='../data/')\n",
    "mnist_data = mnist_full.data\n",
    "mnist_target = mnist_full.target\n",
    "mnist_train, mnist_test, mnist_train_target, mnist_test_target = train_test_split(mnist_full.data, mnist_full.target, test_size=0.2)"
   ]
  },
  {
   "cell_type": "code",
   "execution_count": 4,
   "metadata": {
    "ExecuteTime": {
     "end_time": "2018-03-12T02:33:19.311471Z",
     "start_time": "2018-03-12T02:33:19.161490Z"
    }
   },
   "outputs": [],
   "source": [
    "spam_file = open(\"../data/spambase.data\")\n",
    "spam_list = []\n",
    "spam_target = []\n",
    "spam_col = []\n",
    "for line in spam_file.readlines():\n",
    "    line = line.split(',')\n",
    "    line = [float(x) for x in line]\n",
    "    spam_list.append(line[:-1])\n",
    "    spam_target.append(line[-1])\n",
    "spam_data = np.array(spam_list)\n",
    "spam_train, spam_test, spam_train_target, spam_test_target = train_test_split(spam_data, spam_target, test_size=0.2)\n",
    "spam_col_file = open(\"../data/spambase.names\")\n",
    "for line in spam_col_file.readlines()[33:]:\n",
    "    spam_col.append(line.split(':')[0])"
   ]
  },
  {
   "cell_type": "code",
   "execution_count": 5,
   "metadata": {
    "ExecuteTime": {
     "end_time": "2018-03-12T02:33:19.339405Z",
     "start_time": "2018-03-12T02:33:19.313644Z"
    }
   },
   "outputs": [],
   "source": [
    "def calc_PCA(d, train, test, train_target, test_target):\n",
    "    pca_ob = PCA(n_components=d)\n",
    "    train_data = pca_ob.fit_transform(train)\n",
    "    test_data = pca_ob.transform(test)\n",
    "    \n",
    "    lr = LogisticRegression()\n",
    "    lr.fit(train_data, train_target)\n",
    "    np.fliplr(np.argsort(np.absolute(lr.coef_)))\n",
    "    predicted_lr = lr.predict(test_data)\n",
    "    print('Accuaracy Score LR : ', accuracy_score(test_target, predicted_lr))\n",
    "    \n",
    "    dt = DecisionTreeClassifier()\n",
    "    dt.fit(train_data, train_target)\n",
    "    np.flip(np.argsort(np.absolute(dt.feature_importances_)), axis=0)\n",
    "    predicted_dt = dt.predict(test_data)\n",
    "    print('Accuaracy Score DT : ', accuracy_score(test_target, predicted_dt))\n",
    "    del pca_ob, lr, dt, train_data, test_data"
   ]
  },
  {
   "cell_type": "code",
   "execution_count": 6,
   "metadata": {
    "ExecuteTime": {
     "end_time": "2018-03-12T02:33:28.762318Z",
     "start_time": "2018-03-12T02:33:19.341565Z"
    }
   },
   "outputs": [
    {
     "name": "stdout",
     "output_type": "stream",
     "text": [
      "Accuaracy Score LR :  0.639857142857\n",
      "Accuaracy Score DT :  0.668071428571\n"
     ]
    }
   ],
   "source": [
    "calc_PCA(5, mnist_train, mnist_test, mnist_train_target, mnist_test_target)"
   ]
  },
  {
   "cell_type": "code",
   "execution_count": 7,
   "metadata": {
    "ExecuteTime": {
     "end_time": "2018-03-12T02:34:37.149016Z",
     "start_time": "2018-03-12T02:33:28.764948Z"
    }
   },
   "outputs": [
    {
     "name": "stdout",
     "output_type": "stream",
     "text": [
      "Accuaracy Score LR :  0.863642857143\n",
      "Accuaracy Score DT :  0.851071428571\n"
     ]
    }
   ],
   "source": [
    "calc_PCA(20, mnist_train, mnist_test, mnist_train_target, mnist_test_target)"
   ]
  },
  {
   "cell_type": "code",
   "execution_count": 8,
   "metadata": {
    "ExecuteTime": {
     "end_time": "2018-03-12T02:34:37.304218Z",
     "start_time": "2018-03-12T02:34:37.151853Z"
    }
   },
   "outputs": [
    {
     "name": "stdout",
     "output_type": "stream",
     "text": [
      "Accuaracy Score LR :  0.869706840391\n",
      "Accuaracy Score DT :  0.882736156352\n"
     ]
    }
   ],
   "source": [
    "calc_PCA(13, spam_train, spam_test, spam_train_target, spam_test_target)"
   ]
  },
  {
   "cell_type": "code",
   "execution_count": 9,
   "metadata": {
    "ExecuteTime": {
     "end_time": "2018-03-12T02:34:37.343113Z",
     "start_time": "2018-03-12T02:34:37.306502Z"
    }
   },
   "outputs": [],
   "source": [
    "class my_PCA:\n",
    "    def __init__(self, n_features):\n",
    "        self.n_features = n_features\n",
    "        \n",
    "    def fit(self, data):\n",
    "        sc = StandardScaler()\n",
    "        data = sc.fit_transform(data)\n",
    "        ec = EmpiricalCovariance()\n",
    "        ec.fit(data)\n",
    "        \n",
    "        self.eig_values, self.eig_vectors = eig(ec.covariance_)\n",
    "        self.index = np.flip(np.argsort(self.eig_values), axis=0)[:self.n_features]\n",
    "\n",
    "    def transform(self, data):\n",
    "        sc = StandardScaler()\n",
    "        data = sc.fit_transform(data)\n",
    "        result = np.dot(data, self.eig_vectors[:,self.index])\n",
    "        return result\n",
    "        \n",
    "    def fit_transform(self, data):\n",
    "        self.fit(data)\n",
    "        result = self.transform(data)\n",
    "        return result\n",
    "        "
   ]
  },
  {
   "cell_type": "code",
   "execution_count": 10,
   "metadata": {
    "ExecuteTime": {
     "end_time": "2018-03-12T02:34:37.369257Z",
     "start_time": "2018-03-12T02:34:37.345274Z"
    }
   },
   "outputs": [],
   "source": [
    "def calc_myPCA(d, train, test, train_target, test_target):\n",
    "    pca_ob = my_PCA(n_features=d)\n",
    "    train_data = pca_ob.fit_transform(train)\n",
    "    test_data = pca_ob.transform(test)\n",
    "    \n",
    "    lr = LogisticRegression()\n",
    "    lr.fit(train_data, train_target)\n",
    "    np.fliplr(np.argsort(np.absolute(lr.coef_)))\n",
    "    predicted_lr = lr.predict(test_data)\n",
    "    print('Accuaracy Score LR : ', accuracy_score(test_target, predicted_lr))\n",
    "    \n",
    "    dt = DecisionTreeClassifier()\n",
    "    dt.fit(train_data, train_target)\n",
    "    np.flip(np.argsort(np.absolute(dt.feature_importances_)), axis=0)\n",
    "    predicted_dt = dt.predict(test_data)\n",
    "    print('Accuaracy Score DT : ', accuracy_score(test_target, predicted_dt))\n",
    "    del pca_ob, lr, dt, train_data, test_data"
   ]
  },
  {
   "cell_type": "code",
   "execution_count": 11,
   "metadata": {
    "ExecuteTime": {
     "end_time": "2018-03-12T02:34:46.150683Z",
     "start_time": "2018-03-12T02:34:37.371025Z"
    }
   },
   "outputs": [
    {
     "name": "stderr",
     "output_type": "stream",
     "text": [
      "/root/anaconda3/lib/python3.6/site-packages/sklearn/utils/validation.py:475: DataConversionWarning: Data with input dtype uint8 was converted to float64 by StandardScaler.\n",
      "  warnings.warn(msg, DataConversionWarning)\n"
     ]
    },
    {
     "name": "stdout",
     "output_type": "stream",
     "text": [
      "Accuaracy Score LR :  0.6415\n",
      "Accuaracy Score DT :  0.673571428571\n"
     ]
    }
   ],
   "source": [
    "calc_myPCA(5, mnist_train, mnist_test, mnist_train_target, mnist_test_target)"
   ]
  },
  {
   "cell_type": "code",
   "execution_count": 12,
   "metadata": {
    "ExecuteTime": {
     "end_time": "2018-03-12T02:35:10.516130Z",
     "start_time": "2018-03-12T02:34:46.153174Z"
    }
   },
   "outputs": [
    {
     "name": "stderr",
     "output_type": "stream",
     "text": [
      "/root/anaconda3/lib/python3.6/site-packages/sklearn/utils/validation.py:475: DataConversionWarning: Data with input dtype uint8 was converted to float64 by StandardScaler.\n",
      "  warnings.warn(msg, DataConversionWarning)\n"
     ]
    },
    {
     "name": "stdout",
     "output_type": "stream",
     "text": [
      "Accuaracy Score LR :  0.850214285714\n",
      "Accuaracy Score DT :  0.832714285714\n"
     ]
    }
   ],
   "source": [
    "calc_myPCA(20, mnist_train, mnist_test, mnist_train_target, mnist_test_target)"
   ]
  },
  {
   "cell_type": "code",
   "execution_count": null,
   "metadata": {},
   "outputs": [],
   "source": []
  }
 ],
 "metadata": {
  "kernelspec": {
   "display_name": "Python 3",
   "language": "python",
   "name": "python3"
  },
  "language_info": {
   "codemirror_mode": {
    "name": "ipython",
    "version": 3
   },
   "file_extension": ".py",
   "mimetype": "text/x-python",
   "name": "python",
   "nbconvert_exporter": "python",
   "pygments_lexer": "ipython3",
   "version": "3.6.4"
  }
 },
 "nbformat": 4,
 "nbformat_minor": 2
}
