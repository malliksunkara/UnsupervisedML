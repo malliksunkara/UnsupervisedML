{
 "cells": [
  {
   "cell_type": "code",
   "execution_count": 1,
   "metadata": {
    "ExecuteTime": {
     "end_time": "2018-03-22T02:42:29.381627Z",
     "start_time": "2018-03-22T02:42:27.948584Z"
    }
   },
   "outputs": [],
   "source": [
    "from sklearn.datasets import fetch_20newsgroups, fetch_mldata\n",
    "from sklearn.feature_extraction.text import  TfidfVectorizer\n",
    "from sklearn.linear_model import LogisticRegression\n",
    "from sklearn.model_selection import train_test_split\n",
    "from sklearn.metrics import accuracy_score\n",
    "from sklearn.tree import DecisionTreeClassifier\n",
    "from numpy import linalg as LA\n",
    "import numpy as np\n",
    "import scipy\n",
    "import math\n",
    "import matplotlib.pyplot as plt"
   ]
  },
  {
   "cell_type": "code",
   "execution_count": 2,
   "metadata": {
    "ExecuteTime": {
     "end_time": "2018-03-22T02:43:02.023265Z",
     "start_time": "2018-03-22T02:42:30.295063Z"
    }
   },
   "outputs": [
    {
     "name": "stderr",
     "output_type": "stream",
     "text": [
      "Downloading 20news dataset. This may take a few minutes.\n",
      "Downloading dataset from https://ndownloader.figshare.com/files/5975967 (14 MB)\n"
     ]
    }
   ],
   "source": [
    "newsgroups_train = fetch_20newsgroups(subset='train', data_home='../ata/')\n",
    "newsgroups_test = fetch_20newsgroups(subset='test', data_home='../data/')\n",
    "\n",
    "vectortype_train = TfidfVectorizer(stop_words='english')\n",
    "vectortype_test = TfidfVectorizer(stop_words='english')\n",
    "\n",
    "news_vectored_result_train = vectortype_train.fit_transform(newsgroups_train.data)\n",
    "news_vectored_result_test = vectortype_test.fit_transform(newsgroups_test.data)\n",
    "\n",
    "news_train_target = newsgroups_train.target\n",
    "news_train_target_names = newsgroups_train.target_names\n",
    "news_test_target = newsgroups_test.target\n",
    "\n",
    "\n",
    "train_features = vectortype_train.get_feature_names()\n",
    "test_features = vectortype_test.get_feature_names()\n",
    "common_features = np.intersect1d(train_features, test_features)\n",
    "\n",
    "train_feature_final = np.searchsorted(train_features, common_features)\n",
    "news_vt_train = news_vectored_result_train[:,train_feature_final]\n",
    "\n",
    "test_feature_final = np.searchsorted(test_features, common_features)\n",
    "news_vt_test = news_vectored_result_test[:,test_feature_final]"
   ]
  },
  {
   "cell_type": "code",
   "execution_count": 3,
   "metadata": {
    "ExecuteTime": {
     "end_time": "2018-03-12T20:58:56.358061Z",
     "start_time": "2018-03-12T20:58:56.254193Z"
    }
   },
   "outputs": [],
   "source": [
    "mnist_full = fetch_mldata('MNIST original', data_home='../data/')\n",
    "mnist_data = mnist_full.data\n",
    "mnist_target = mnist_full.target\n",
    "mnist_train, mnist_test, mnist_train_target, mnist_test_target = train_test_split(mnist_full.data, mnist_full.target, test_size=0.2)"
   ]
  },
  {
   "cell_type": "code",
   "execution_count": 4,
   "metadata": {
    "ExecuteTime": {
     "end_time": "2018-03-12T20:58:56.550043Z",
     "start_time": "2018-03-12T20:58:56.361349Z"
    }
   },
   "outputs": [],
   "source": [
    "spam_file = open(\"../data/spambase.data\")\n",
    "spam_list = []\n",
    "spam_target = []\n",
    "spam_col = []\n",
    "for line in spam_file.readlines():\n",
    "    line = line.split(',')\n",
    "    line = [float(x) for x in line]\n",
    "    spam_list.append(line[:-1])\n",
    "    spam_target.append(line[-1])\n",
    "spam_data = np.array(spam_list)\n",
    "spam_train, spam_test, spam_train_target, spam_test_target = train_test_split(spam_data, spam_target, test_size=0.2)\n",
    "spam_col_file = open(\"../data/spambase.names\")\n",
    "for line in spam_col_file.readlines()[33:]:\n",
    "    spam_col.append(line.split(':')[0])"
   ]
  },
  {
   "cell_type": "code",
   "execution_count": 5,
   "metadata": {
    "ExecuteTime": {
     "end_time": "2018-03-12T20:59:07.409189Z",
     "start_time": "2018-03-12T20:58:56.552827Z"
    }
   },
   "outputs": [
    {
     "name": "stdout",
     "output_type": "stream",
     "text": [
      "0 .  alt.atheism :\n",
      " ['keith', 'atheism', 'atheists', 'islamic', 'caltech', 'okcforum', 'god', 'islam', 'mathew', 'jaeger', 'livesey', 'rushdie', 'mangoe', 'benedikt', 'umd', 'religion', 'osrhe', 'wingate', 'edu', 'kmr4', 'sgi', 'bible', 'cobb', 'mantis', 'gregg', 'tek', 'solntze', 'atheist', 'bobby', 'ico']\n",
      "\n",
      "\n",
      "1 .  comp.graphics :\n",
      " ['graphics', 'image', '3d', 'polygon', 'tiff', 'images', 'files', 'pov', '3do', 'format', 'points', 'animation', 'package', 'gif', 'vga', 'sphere', 'color', 'vesa', 'surface', 'algorithm', 'program', 'file', '42', 'looking', 'library', 'people', 'code', 'software', 'quicktime', 'xv']\n",
      "\n",
      "\n",
      "2 .  comp.os.ms-windows.misc :\n",
      " ['windows', 'file', 'ax', 'driver', 'drivers', 'files', 'cica', 'dos', 'win', 'nt', 'risc', 'ini', 'mouse', 'ms', 'win3', 'fonts', 'ftp', 'font', 'printer', 'access', 'microsoft', 'using', 'bmp', 'tw', 'program', 'card', 'manager', 'diamond', 'norton', 'deskjet']\n",
      "\n",
      "\n",
      "3 .  comp.sys.ibm.pc.hardware :\n",
      " ['drive', 'card', 'pc', 'scsi', 'bus', 'ide', 'gateway', 'controller', 'monitor', '486', 'port', 'bios', 'vlb', 'motherboard', 'disk', 'isa', 'floppy', 'thanks', 'help', 'irq', 'monitors', 'eisa', 'dos', 'ibm', 'board', 'drives', 'mac', 'boot', 'memory', 'cpu']\n",
      "\n",
      "\n",
      "4 .  comp.sys.mac.hardware :\n",
      " ['mac', 'apple', 'quadra', 'duo', 'centris', 'powerbook', 'se', 'lc', 'lciii', 'monitor', 'iisi', 'simms', 'modem', 'c650', 'windows', 'adb', 'bmug', 'drive', 'simm', '610', 'macintosh', 'upgrade', 'vram', 'com', 'nubus', 'clock', 'internal', 'macs', 'problem', 'ram']\n",
      "\n",
      "\n",
      "5 .  comp.windows.x :\n",
      " ['window', 'motif', 'server', 'widget', 'mit', 'x11r5', 'xterm', 'lcs', 'xlib', 'application', 'expo', 'xpert', 'display', 'code', 'sun', 'edu', 'x11', 'widgets', 'running', 'color', 'lib', 'writes', 'r5', 'clients', 'imake', 'enterpoop', 'synoptics', 'xdm', 'colormap', 'internet']\n",
      "\n",
      "\n",
      "6 .  misc.forsale :\n",
      " ['sale', 'shipping', 'offer', 'forsale', '00', 'sell', 'condition', 'asking', 'interested', 'writes', 'wanted', 'price', 'distribution', 'mail', 'email', 'trade', 'article', 'games', 'excellent', 'new', 'obo', 'offers', 'includes', 'purdue', 'brand', 'think', 'ohio', 'com', 'selling', 'just']\n",
      "\n",
      "\n",
      "7 .  rec.autos :\n",
      " ['car', 'cars', 'engine', 'oil', 'dealer', 'ford', 'toyota', 'automotive', 'auto', 'callison', 'eliot', 'honda', 'com', 'autos', 'warning', 'boyle', 'wagon', 'vw', 'dumbest', 'saturn', 'unisql', 'driving', 'road', 'centerline', 'convertible', 'hp', 'integra', 'jeep', 'truck', 'nissan']\n",
      "\n",
      "\n",
      "8 .  rec.motorcycles :\n",
      " ['bike', 'dod', 'bikes', 'motorcycle', 'bmw', 'ride', 'riding', 'helmet', 'motorcycles', 'rider', 'com', 'dog', 'ranck', 'honda', 'ama', 'bnr', 'harley', 'moa', 'howland', 'infante', 'sun', 'stafford', 'behanna', 'yamaha', 'ed', 'ducati', 'winona', 'east', 'shaft', 'cop']\n",
      "\n",
      "\n",
      "9 .  rec.sport.baseball :\n",
      " ['baseball', 'phillies', 'year', 'cubs', 'players', 'edu', 'runs', 'braves', 'pitching', 'sox', 'ball', 'game', 'team', 'alomar', 'hit', 'jewish', 'mets', 'hitter', 'games', 'stadium', 'fan', 'tigers', 'season', 'yankees', 'journalism', 'win', 'giants', 'bob', 'jays', 'uniforms']\n",
      "\n",
      "\n",
      "10 .  rec.sport.hockey :\n",
      " ['hockey', 'nhl', 'team', 'game', 'ca', 'play', 'playoff', 'leafs', 'season', 'cup', 'players', 'pens', 'espn', 'playoffs', 'detroit', 'wings', 'teams', 'devils', 'pittsburgh', 'rangers', 'flyers', 'ice', 'penguins', 'coach', 'com', 'toronto', 'hawks', 'games', 'islanders', 'montreal']\n",
      "\n",
      "\n",
      "11 .  sci.crypt :\n",
      " ['clipper', 'key', 'encryption', 'chip', 'nsa', 'pgp', 'keys', 'security', 'gtoal', 'tapped', 'crypto', 'government', 'code', 'cryptography', 'des', 'secret', 'escrow', 'qualcomm', 'encrypted', 'eff', 'tempest', 'privacy', 'netcom', 'na', 'wiretap', 'algorithm', 'com', 'bontchev', 'intercon', 'clinton']\n",
      "\n",
      "\n",
      "12 .  sci.electronics :\n",
      " ['circuit', 'electronics', 'power', 'voltage', 'radar', 'tv', 'audio', 'amp', 'ground', 'radio', 'detector', 'ee', 'motorola', 'current', 'cooling', 'line', 'windows', 'circuits', '8051', 'use', 'phone', 'output', 'wire', 'babb', 'hp', 'uv', 'design', 'receiver', 'low', 'adcom']\n",
      "\n",
      "\n",
      "13 .  sci.med :\n",
      " ['msg', 'doctor', 'pitt', 'disease', 'medical', 'geb', 'banks', 'treatment', 'gordon', 'dyer', 'pain', 'cancer', 'food', 'health', 'medicine', 'science', 'foods', 'patients', 'photography', 'med', 'diet', 'syndrome', 'information', 'zisfein', 'symptoms', 'god', 'eye', 'effects', 'yeast', 'sas']\n",
      "\n",
      "\n",
      "14 .  sci.space :\n",
      " ['space', 'nasa', 'moon', 'orbit', 'launch', 'henry', 'alaska', 'digex', 'pat', 'shuttle', 'sci', 'lunar', 'spacecraft', 'earth', 'dc', 'access', 'prb', 'flight', 'rockets', 'solar', 'aurora', 'dietz', 'zoo', 'sky', 'ti', 'mars', 'higgins', 'jupiter', 'sunset', 'mccall']\n",
      "\n",
      "\n",
      "15 .  soc.religion.christian :\n",
      " ['god', 'church', 'rutgers', 'christians', 'christ', 'athos', 'christian', 'christianity', 'clh', 'jesus', 'hell', 'bible', '1993', 'faith', 'nntp', 'catholic', 'host', 'sin', 'apr', 'posting', 'geneva', 'petch', 'easter', 'scripture', 'resurrection', 'jayne', 'fisher', 'married', 'com', 'authority']\n",
      "\n",
      "\n",
      "16 .  talk.politics.guns :\n",
      " ['gun', 'guns', 'fbi', 'waco', 'weapons', 'atf', 'firearms', 'batf', 'stratus', 'feustel', 'nra', 'handgun', 'rights', 'weapon', 'militia', 'government', 'amendment', 'ranch', 'com', 'cdt', 'firearm', 'handheld', 'ifas', 'survivors', 'gnv', 'law', 'dividian', 'uic', 'colorado', 'hunting']\n",
      "\n",
      "\n",
      "17 .  talk.politics.mideast :\n",
      " ['israel', 'israeli', 'turkish', 'jews', 'armenians', 'armenian', 'serdar', 'armenia', 'arab', 'turkey', 'argic', 'mcgill', 'jake', 'soldiers', 'jewish', 'holocaust', 'arabs', 'cpr', 'cosmo', 'turks', 'angmar', 'adl', 'iran', 'policy', 'greek', 'columbia', 'zionism', 'adam', 'freedom', 'jerusalem']\n",
      "\n",
      "\n",
      "18 .  talk.politics.misc :\n",
      " ['clinton', 'kaldis', 'cramer', 'tax', 'optilink', 'drugs', 'gay', 'president', 'government', 'br', 'jobs', 'clayton', 'health', 'state', 'isc', 'sexual', 'people', 'hallam', 'drieux', 'writes', 'trial', 'states', 'broward', 'com', 'phil', 'taxes', 'deficit', 'bush', 'romulus', 'uchicago']\n",
      "\n",
      "\n",
      "19 .  talk.religion.misc :\n",
      " ['christian', 'sandvik', 'morality', 'koresh', 'jesus', 'objective', 'hudson', 'god', 'biblical', 'order', 'brian', 'weiss', 'rosicrucian', 'frank', 'buffalo', 'tyre', 'mormons', 'kent', 'mitre', 'ch981', 'amdahl', 'jim', 'beast', 'mr', 'thyagi', 'alicea', 'religion', 'meritt', 'tony', 'abortion']\n",
      "\n",
      "\n"
     ]
    }
   ],
   "source": [
    "lr_news = LogisticRegression()\n",
    "lr_news.fit(news_vt_train, y=news_train_target)\n",
    "l=[]\n",
    "for j in range(20):\n",
    "    l.append([common_features[i] for i in np.fliplr(np.argsort(np.absolute(lr_news.coef_)))[j, :30]])\n",
    "for item in range(len(l)):\n",
    "    print(item, '. ', news_train_target_names[item], ':\\n', l[item])\n",
    "    print(\"\\n\")"
   ]
  },
  {
   "cell_type": "code",
   "execution_count": 6,
   "metadata": {
    "ExecuteTime": {
     "end_time": "2018-03-12T20:59:07.472148Z",
     "start_time": "2018-03-12T20:59:07.412234Z"
    }
   },
   "outputs": [
    {
     "data": {
      "text/plain": [
       "0.8275358470525757"
      ]
     },
     "execution_count": 6,
     "metadata": {},
     "output_type": "execute_result"
    }
   ],
   "source": [
    "news_predict = lr_news.predict(news_vt_test)\n",
    "accuracy_score(news_test_target, news_predict)"
   ]
  },
  {
   "cell_type": "code",
   "execution_count": 9,
   "metadata": {
    "ExecuteTime": {
     "end_time": "2018-03-12T21:01:30.352071Z",
     "start_time": "2018-03-12T21:00:59.968802Z"
    }
   },
   "outputs": [
    {
     "data": {
      "text/plain": [
       "array([[379, 407, 434, 435, 408, 462, 378, 461, 406, 323, 380, 489, 351,\n",
       "        490, 352, 350, 517, 433, 324, 518, 514, 436, 360, 387, 359, 416,\n",
       "        415, 463, 571, 388],\n",
       "       [350, 378, 434, 406, 322, 295, 465, 323, 462, 351, 402, 375, 374,\n",
       "        438, 466, 403, 294, 379, 410, 433, 493, 621, 510, 439, 490, 461,\n",
       "        489, 430, 520, 405],\n",
       "       [370, 343, 369, 473, 342, 371, 321, 318, 501, 528, 500, 322, 351,\n",
       "        472, 317, 320, 344, 348, 319, 316, 345, 445, 341, 347, 509, 397,\n",
       "        346, 527, 554,  97],\n",
       "       [708, 709, 516, 125, 486, 710, 712, 290, 713, 456, 289, 386, 535,\n",
       "        711, 291, 124, 292, 678, 384, 316,  96, 317, 679, 122, 385, 517,\n",
       "        343, 563, 123, 128],\n",
       "       [294, 348, 322, 463, 266, 375,  97, 347, 321, 409, 742, 376,  96,\n",
       "         98, 741, 569, 570,  99, 403, 320, 464, 490, 436, 437, 408, 411,\n",
       "        712, 183, 125, 317],\n",
       "       [304, 276, 305, 277, 248, 358, 359, 220, 249, 357, 275, 328, 192,\n",
       "        387, 333, 221, 303, 510, 329, 321, 292, 332, 386, 330, 455, 299,\n",
       "        247, 356, 538, 360],\n",
       "       [387, 270, 543, 269, 242, 574, 459, 359, 516, 271, 243, 601, 295,\n",
       "        602, 544, 298, 487, 323, 268, 600, 458, 215, 431, 297, 486, 299,\n",
       "        267, 244, 351, 275],\n",
       "       [376, 377, 404, 349, 432, 437, 405, 578, 296, 438, 459, 410, 411,\n",
       "        352, 431, 295, 324, 325, 348, 581, 486, 299, 323, 326, 594, 566,\n",
       "        266, 353, 553, 607],\n",
       "       [399, 322, 441, 330, 315, 248, 357, 358, 377, 440, 567, 677, 649,\n",
       "        678, 469, 359, 126, 295, 684, 660, 331, 481, 349, 267, 650, 467,\n",
       "        688, 442, 453, 414],\n",
       "       [720, 571, 742, 212, 543, 572, 740, 570, 211, 369, 328, 355, 128,\n",
       "        210, 209, 741, 635, 316, 602, 606, 692, 721, 739, 719, 569, 341,\n",
       "        568, 356, 342, 408]])"
      ]
     },
     "execution_count": 9,
     "metadata": {},
     "output_type": "execute_result"
    }
   ],
   "source": [
    "lr_mnist = LogisticRegression(multi_class='multinomial', C=0.1, tol=0.1, solver='saga')\n",
    "lr_mnist.fit(mnist_train, mnist_train_target)\n",
    "np.fliplr(np.argsort(np.absolute(lr_mnist.coef_)))[:, :30]"
   ]
  },
  {
   "cell_type": "code",
   "execution_count": 10,
   "metadata": {
    "ExecuteTime": {
     "end_time": "2018-03-12T21:01:34.912485Z",
     "start_time": "2018-03-12T21:01:34.832688Z"
    }
   },
   "outputs": [
    {
     "data": {
      "text/plain": [
       "0.9195714285714286"
      ]
     },
     "execution_count": 10,
     "metadata": {},
     "output_type": "execute_result"
    }
   ],
   "source": [
    "mnist_predict = lr_mnist.predict(mnist_test)\n",
    "accuracy_score(mnist_test_target, mnist_predict)"
   ]
  },
  {
   "cell_type": "code",
   "execution_count": 11,
   "metadata": {
    "ExecuteTime": {
     "end_time": "2018-03-12T21:02:03.666963Z",
     "start_time": "2018-03-12T21:02:03.498518Z"
    }
   },
   "outputs": [
    {
     "data": {
      "text/plain": [
       "array(['word_freq_george', 'char_freq_$', 'word_freq_remove',\n",
       "       'word_freq_000', 'word_freq_meeting', 'word_freq_cs',\n",
       "       'word_freq_hp', 'word_freq_conference', 'word_freq_edu',\n",
       "       'word_freq_project', 'word_freq_lab', 'word_freq_85',\n",
       "       'word_freq_free', 'char_freq_;', 'char_freq_#', 'word_freq_3d',\n",
       "       'word_freq_hpl', 'word_freq_credit', 'word_freq_table',\n",
       "       'word_freq_original', 'word_freq_addresses',\n",
       "       'word_freq_technology', 'word_freq_data', 'word_freq_business',\n",
       "       'word_freq_re', 'word_freq_over', 'word_freq_order',\n",
       "       'word_freq_telnet', 'word_freq_internet', 'word_freq_our'],\n",
       "      dtype='<U20')"
      ]
     },
     "execution_count": 11,
     "metadata": {},
     "output_type": "execute_result"
    }
   ],
   "source": [
    "lr_spam = LogisticRegression()\n",
    "lr_spam.fit(spam_train, spam_train_target)\n",
    "np.array([spam_col[i] for i in np.fliplr(np.argsort(np.absolute(lr_spam.coef_)))[0, :30]])"
   ]
  },
  {
   "cell_type": "code",
   "execution_count": 12,
   "metadata": {
    "ExecuteTime": {
     "end_time": "2018-03-12T21:02:04.605341Z",
     "start_time": "2018-03-12T21:02:04.594603Z"
    }
   },
   "outputs": [
    {
     "data": {
      "text/plain": [
       "0.9337676438653637"
      ]
     },
     "execution_count": 12,
     "metadata": {},
     "output_type": "execute_result"
    }
   ],
   "source": [
    "spam_predict = lr_spam.predict(spam_test)\n",
    "accuracy_score(spam_test_target, spam_predict)"
   ]
  },
  {
   "cell_type": "code",
   "execution_count": 13,
   "metadata": {
    "ExecuteTime": {
     "end_time": "2018-03-12T21:02:21.906162Z",
     "start_time": "2018-03-12T21:02:05.099276Z"
    }
   },
   "outputs": [
    {
     "data": {
      "text/plain": [
       "array(['clipper', 'dod', 'sale', 'windows', 'hockey', 'car', 'god',\n",
       "       'space', 'israel', 'gun', 'baseball', 'turkish', 'bike', 'mac',\n",
       "       'graphics', 'window', 'nhl', 'rutgers', 'geb', 'atheists',\n",
       "       'encryption', 'motif', 'article', 'edu', 'orbit', 'com',\n",
       "       'controller', 'team', 'waco', 'apple'], dtype='<U80')"
      ]
     },
     "execution_count": 13,
     "metadata": {},
     "output_type": "execute_result"
    }
   ],
   "source": [
    "dt_news = DecisionTreeClassifier()\n",
    "dt_news.fit(news_vt_train, news_train_target)\n",
    "(np.array([common_features[i] for i in np.flip(np.argsort(np.absolute(dt_news.feature_importances_)), axis=0)]))[:30]"
   ]
  },
  {
   "cell_type": "code",
   "execution_count": 14,
   "metadata": {
    "ExecuteTime": {
     "end_time": "2018-03-12T21:02:21.992487Z",
     "start_time": "2018-03-12T21:02:21.910173Z"
    }
   },
   "outputs": [
    {
     "data": {
      "text/plain": [
       "0.5690387679235263"
      ]
     },
     "execution_count": 14,
     "metadata": {},
     "output_type": "execute_result"
    }
   ],
   "source": [
    "news_dt_pred = dt_news.predict(news_vt_test)\n",
    "accuracy_score(news_test_target, news_dt_pred)"
   ]
  },
  {
   "cell_type": "code",
   "execution_count": 15,
   "metadata": {
    "ExecuteTime": {
     "end_time": "2018-03-12T21:02:52.051832Z",
     "start_time": "2018-03-12T21:02:21.995127Z"
    }
   },
   "outputs": [
    {
     "data": {
      "text/plain": [
       "array([489, 435, 350, 568, 430, 211, 347, 346, 405,  98, 156, 485, 206,\n",
       "       290, 487, 456, 486, 154, 656, 101, 657, 243, 515, 381, 267, 348,\n",
       "       155, 297,  95, 516])"
      ]
     },
     "execution_count": 15,
     "metadata": {},
     "output_type": "execute_result"
    }
   ],
   "source": [
    "dt_mnist = DecisionTreeClassifier()\n",
    "dt_mnist.fit(mnist_train, mnist_train_target)\n",
    "np.flip(np.argsort(np.absolute(dt_mnist.feature_importances_)), axis=0)[:30]"
   ]
  },
  {
   "cell_type": "code",
   "execution_count": 16,
   "metadata": {
    "ExecuteTime": {
     "end_time": "2018-03-12T21:02:52.102361Z",
     "start_time": "2018-03-12T21:02:52.054650Z"
    }
   },
   "outputs": [
    {
     "data": {
      "text/plain": [
       "0.8744285714285714"
      ]
     },
     "execution_count": 16,
     "metadata": {},
     "output_type": "execute_result"
    }
   ],
   "source": [
    "mnist_dt_pred = dt_mnist.predict(mnist_test)\n",
    "accuracy_score(mnist_test_target, mnist_dt_pred)"
   ]
  },
  {
   "cell_type": "code",
   "execution_count": 17,
   "metadata": {
    "ExecuteTime": {
     "end_time": "2018-03-12T21:02:52.207714Z",
     "start_time": "2018-03-12T21:02:52.104849Z"
    }
   },
   "outputs": [
    {
     "data": {
      "text/plain": [
       "array(['char_freq_!', 'capital_run_length_longest', 'word_freq_remove',\n",
       "       'char_freq_$', 'word_freq_free', 'word_freq_hp',\n",
       "       'word_freq_george', 'capital_run_length_average', 'word_freq_edu',\n",
       "       'capital_run_length_total', 'word_freq_our', 'word_freq_you',\n",
       "       'word_freq_will', 'word_freq_re', 'word_freq_your', 'char_freq_(',\n",
       "       'word_freq_650', 'word_freq_meeting', 'word_freq_business',\n",
       "       'word_freq_1999', 'word_freq_people', 'word_freq_hpl',\n",
       "       'word_freq_over', 'char_freq_;', 'word_freq_internet',\n",
       "       'word_freq_conference', 'word_freq_labs', 'word_freq_money',\n",
       "       'word_freq_receive', 'word_freq_address'], dtype='<U26')"
      ]
     },
     "execution_count": 17,
     "metadata": {},
     "output_type": "execute_result"
    }
   ],
   "source": [
    "dt_spam = DecisionTreeClassifier()\n",
    "dt_spam.fit(spam_train, spam_train_target)\n",
    "np.array([spam_col[i] for i in np.flip(np.argsort(np.absolute(dt_spam.feature_importances_)), axis=0)])[:30]"
   ]
  },
  {
   "cell_type": "code",
   "execution_count": 18,
   "metadata": {
    "ExecuteTime": {
     "end_time": "2018-03-12T21:02:52.217102Z",
     "start_time": "2018-03-12T21:02:52.210265Z"
    }
   },
   "outputs": [
    {
     "data": {
      "text/plain": [
       "0.9077090119435396"
      ]
     },
     "execution_count": 18,
     "metadata": {},
     "output_type": "execute_result"
    }
   ],
   "source": [
    "spam_dt_predict = dt_spam.predict(spam_test)\n",
    "accuracy_score(spam_test_target, spam_dt_predict)"
   ]
  },
  {
   "cell_type": "code",
   "execution_count": 77,
   "metadata": {
    "ExecuteTime": {
     "end_time": "2018-03-12T21:37:07.809598Z",
     "start_time": "2018-03-12T21:37:06.288556Z"
    }
   },
   "outputs": [
    {
     "data": {
      "image/png": "[encoded data removed]",
      "text/plain": [
       "<Figure size 432x288 with 1 Axes>"
      ]
     },
     "metadata": {},
     "output_type": "display_data"
    },
    {
     "data": {
      "image/png": "[encoded data removed]",
      "text/plain": [
       "<Figure size 432x288 with 1 Axes>"
      ]
     },
     "metadata": {},
     "output_type": "display_data"
    },
    {
     "data": {
      "image/png": "[encoded data removed]",
      "text/plain": [
       "<Figure size 432x288 with 1 Axes>"
      ]
     },
     "metadata": {},
     "output_type": "display_data"
    },
    {
     "data": {
      "image/png": "[encoded data removed]",
      "text/plain": [
       "<Figure size 432x288 with 1 Axes>"
      ]
     },
     "metadata": {},
     "output_type": "display_data"
    },
    {
     "data": {
      "image/png": "[encoded data removed]",
      "text/plain": [
       "<Figure size 432x288 with 1 Axes>"
      ]
     },
     "metadata": {},
     "output_type": "display_data"
    },
    {
     "data": {
      "image/png": "[encoded data removed]",
      "text/plain": [
       "<Figure size 432x288 with 1 Axes>"
      ]
     },
     "metadata": {},
     "output_type": "display_data"
    },
    {
     "data": {
      "image/png": "[encoded data removed]",
      "text/plain": [
       "<Figure size 432x288 with 1 Axes>"
      ]
     },
     "metadata": {},
     "output_type": "display_data"
    },
    {
     "data": {
      "image/png": "[encoded data removed]",
      "text/plain": [
       "<Figure size 432x288 with 1 Axes>"
      ]
     },
     "metadata": {},
     "output_type": "display_data"
    },
    {
     "data": {
      "image/png": "[encoded data removed]",
      "text/plain": [
       "<Figure size 432x288 with 1 Axes>"
      ]
     },
     "metadata": {},
     "output_type": "display_data"
    },
    {
     "data": {
      "image/png": "[encoded data removed]",
      "text/plain": [
       "<Figure size 432x288 with 1 Axes>"
      ]
     },
     "metadata": {},
     "output_type": "display_data"
    }
   ],
   "source": [
    "imp_list = np.fliplr(np.argsort(np.absolute(lr_mnist.coef_)))[:, :30]\n",
    "for i in range(10):\n",
    "    x = []\n",
    "    y = []\n",
    "    for item in imp_list[i]:\n",
    "        y.append(item%28)\n",
    "        x.append(math.floor(item/28))\n",
    "    itemindex = np.where(mnist_target==i)[0][0]\n",
    "    plt.imshow(mnist_data[itemindex].reshape(28,28), cmap='gray')\n",
    "    plt.plot(x,y,'ro')\n",
    "    plt.show()"
   ]
  },
  {
   "cell_type": "code",
   "execution_count": null,
   "metadata": {},
   "outputs": [],
   "source": []
  }
 ],
 "metadata": {
  "kernelspec": {
   "display_name": "Python 3",
   "language": "python",
   "name": "python3"
  },
  "language_info": {
   "codemirror_mode": {
    "name": "ipython",
    "version": 3
   },
   "file_extension": ".py",
   "mimetype": "text/x-python",
   "name": "python",
   "nbconvert_exporter": "python",
   "pygments_lexer": "ipython3",
   "version": "3.6.4"
  }
 },
 "nbformat": 4,
 "nbformat_minor": 2
}
