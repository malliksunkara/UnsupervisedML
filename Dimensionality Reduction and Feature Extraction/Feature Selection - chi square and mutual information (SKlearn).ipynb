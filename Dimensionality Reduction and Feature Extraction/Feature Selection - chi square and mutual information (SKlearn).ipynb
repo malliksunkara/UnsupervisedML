{
 "cells": [
  {
   "cell_type": "code",
   "execution_count": 3,
   "metadata": {
    "ExecuteTime": {
     "end_time": "2018-03-12T02:40:49.976885Z",
     "start_time": "2018-03-12T02:40:49.960984Z"
    }
   },
   "outputs": [],
   "source": [
    "from sklearn.datasets import fetch_20newsgroups, fetch_mldata\n",
    "from sklearn.feature_extraction.text import  TfidfVectorizer\n",
    "from sklearn.linear_model import LogisticRegression\n",
    "from sklearn.model_selection import train_test_split\n",
    "from sklearn.metrics import accuracy_score\n",
    "from sklearn.tree import DecisionTreeClassifier\n",
    "from numpy import linalg as LA\n",
    "from sklearn.feature_selection import SelectKBest, chi2, mutual_info_classif\n",
    "import numpy as np\n",
    "import scipy"
   ]
  },
  {
   "cell_type": "code",
   "execution_count": 2,
   "metadata": {
    "ExecuteTime": {
     "end_time": "2018-03-12T02:40:16.925182Z",
     "start_time": "2018-03-12T02:40:08.463818Z"
    }
   },
   "outputs": [],
   "source": [
    "newsgroups_train = fetch_20newsgroups(subset='train', data_home='../data/')\n",
    "newsgroups_test = fetch_20newsgroups(subset='test', data_home='../data/')\n",
    "\n",
    "vectortype_train = TfidfVectorizer(stop_words='english')\n",
    "vectortype_test = TfidfVectorizer(stop_words='english')\n",
    "\n",
    "news_vectored_result_train = vectortype_train.fit_transform(newsgroups_train.data)\n",
    "news_vectored_result_test = vectortype_test.fit_transform(newsgroups_test.data)\n",
    "\n",
    "news_train_target = newsgroups_train.target\n",
    "news_train_target_names = newsgroups_train.target_names\n",
    "news_test_target = newsgroups_test.target\n",
    "\n",
    "\n",
    "train_features = vectortype_train.get_feature_names()\n",
    "test_features = vectortype_test.get_feature_names()\n",
    "common_features = np.intersect1d(train_features, test_features)\n",
    "\n",
    "train_feature_final = np.searchsorted(train_features, common_features)\n",
    "news_vt_train = news_vectored_result_train[:,train_feature_final]\n",
    "\n",
    "test_feature_final = np.searchsorted(test_features, common_features)\n",
    "news_vt_test = news_vectored_result_test[:,test_feature_final]"
   ]
  },
  {
   "cell_type": "code",
   "execution_count": 11,
   "metadata": {
    "ExecuteTime": {
     "end_time": "2018-03-12T02:46:00.277124Z",
     "start_time": "2018-03-12T02:46:00.249778Z"
    }
   },
   "outputs": [],
   "source": [
    "def calc_lrdt(train, test, train_target, test_target):\n",
    "    lr = LogisticRegression()\n",
    "    lr.fit(train, train_target)\n",
    "    np.fliplr(np.argsort(np.absolute(lr.coef_)))\n",
    "    predicted_lr = lr.predict(test)\n",
    "    print('Accuaracy Score LR : ', accuracy_score(test_target, predicted_lr))\n",
    "    \n",
    "    dt = DecisionTreeClassifier()\n",
    "    dt.fit(train, train_target)\n",
    "    np.flip(np.argsort(np.absolute(dt.feature_importances_)), axis=0)\n",
    "    predicted_dt = dt.predict(test)\n",
    "    print('Accuaracy Score DT : ', accuracy_score(test_target, predicted_dt))\n",
    "    del lr, dt"
   ]
  },
  {
   "cell_type": "code",
   "execution_count": 12,
   "metadata": {
    "ExecuteTime": {
     "end_time": "2018-03-12T02:46:01.864537Z",
     "start_time": "2018-03-12T02:46:00.703732Z"
    }
   },
   "outputs": [
    {
     "name": "stdout",
     "output_type": "stream",
     "text": [
      "Accuaracy Score LR :  0.611391396707\n",
      "Accuaracy Score DT :  0.542219861922\n"
     ]
    }
   ],
   "source": [
    "select_chi2 = SelectKBest(chi2, 200)\n",
    "train_chi2 = select_chi2.fit_transform(news_vt_train, news_train_target)\n",
    "test_chi2 = select_chi2.transform(news_vt_test)\n",
    "calc_lrdt(train_chi2, test_chi2, news_train_target, news_test_target)"
   ]
  },
  {
   "cell_type": "code",
   "execution_count": 13,
   "metadata": {
    "ExecuteTime": {
     "end_time": "2018-03-12T02:50:15.234435Z",
     "start_time": "2018-03-12T02:47:40.769119Z"
    }
   },
   "outputs": [
    {
     "name": "stdout",
     "output_type": "stream",
     "text": [
      "Accuaracy Score LR :  0.336298459904\n",
      "Accuaracy Score DT :  0.232076473712\n"
     ]
    }
   ],
   "source": [
    "select_mutual = SelectKBest(mutual_info_classif, 200)\n",
    "train_mutual = select_mutual.fit_transform(news_vt_train, news_train_target)\n",
    "test_mutual = select_mutual.transform(news_vt_test)\n",
    "calc_lrdt(train_mutual, test_mutual, news_train_target, news_test_target)"
   ]
  },
  {
   "cell_type": "code",
   "execution_count": null,
   "metadata": {},
   "outputs": [],
   "source": []
  }
 ],
 "metadata": {
  "kernelspec": {
   "display_name": "Python 3",
   "language": "python",
   "name": "python3"
  },
  "language_info": {
   "codemirror_mode": {
    "name": "ipython",
    "version": 3
   },
   "file_extension": ".py",
   "mimetype": "text/x-python",
   "name": "python",
   "nbconvert_exporter": "python",
   "pygments_lexer": "ipython3",
   "version": "3.6.4"
  }
 },
 "nbformat": 4,
 "nbformat_minor": 2
}
