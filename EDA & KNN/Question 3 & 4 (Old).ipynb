{
 "cells": [
  {
   "cell_type": "code",
   "execution_count": 1,
   "metadata": {
    "ExecuteTime": {
     "end_time": "2018-01-20T05:50:52.060181Z",
     "start_time": "2018-01-20T05:50:51.713792Z"
    }
   },
   "outputs": [],
   "source": [
    "from sklearn.datasets import fetch_20newsgroups\n",
    "from sklearn.feature_extraction.text import CountVectorizer, TfidfVectorizer\n",
    "from sklearn.metrics.pairwise import euclidean_distances, cosine_similarity\n",
    "import numpy as np\n",
    "import statistics\n",
    "from sklearn.datasets import fetch_mldata\n",
    "from sklearn.model_selection import train_test_split\n",
    "#import pandas as pd"
   ]
  },
  {
   "cell_type": "code",
   "execution_count": null,
   "metadata": {
    "ExecuteTime": {
     "end_time": "2018-01-19T23:13:15.995409Z",
     "start_time": "2018-01-19T23:13:14.883955Z"
    }
   },
   "outputs": [],
   "source": [
    "newsgroups_train = fetch_20newsgroups(subset= 'train' , data_home='/Users/Sarthak/Downloads/')\n",
    "newsgroups_test = fetch_20newsgroups(subset= 'test' , data_home='/Users/Sarthak/Downloads/')"
   ]
  },
  {
   "cell_type": "code",
   "execution_count": null,
   "metadata": {
    "ExecuteTime": {
     "end_time": "2018-01-19T23:13:21.969845Z",
     "start_time": "2018-01-19T23:13:16.673258Z"
    }
   },
   "outputs": [],
   "source": [
    "vectortype_train = TfidfVectorizer()\n",
    "vectortype_test = TfidfVectorizer()\n",
    "vectored_train_result = vectortype_train.fit_transform(newsgroups_train.data)\n",
    "vectored_test_result = vectortype_test.fit_transform(newsgroups_test.data)"
   ]
  },
  {
   "cell_type": "code",
   "execution_count": null,
   "metadata": {
    "ExecuteTime": {
     "end_time": "2018-01-19T23:13:23.213147Z",
     "start_time": "2018-01-19T23:13:23.209642Z"
    }
   },
   "outputs": [],
   "source": [
    "#train_df = pd.SparseDataFrame(vectors_train, columns=vectorizer_train.get_feature_names())\n",
    "#test_df = pd.SparseDataFrame(vectors_test, columns= vectorizer_test.get_feature_names())\n",
    "\n",
    "#train_df = ( train_df - train_df.mean() ) / train_df.std()\n",
    "#test_df = ( test_df - test_df.mean() ) / test_df.std()"
   ]
  },
  {
   "cell_type": "code",
   "execution_count": null,
   "metadata": {
    "ExecuteTime": {
     "end_time": "2018-01-19T23:13:25.479507Z",
     "start_time": "2018-01-19T23:13:23.928860Z"
    }
   },
   "outputs": [],
   "source": [
    "train_features = vectortype_train.get_feature_names()\n",
    "test_features = vectortype_test.get_feature_names()\n",
    "common_features = np.intersect1d(train_features, test_features)\n",
    "\n",
    "train_feature_final = np.searchsorted(train_features, common_features)\n",
    "vectore_train_final = vectored_train_result[:,train_feature_final]\n",
    "\n",
    "test_feature_final = np.searchsorted(test_features, common_features)\n",
    "vectore_test_final = vectored_test_result[:,test_feature_final]\n"
   ]
  },
  {
   "cell_type": "code",
   "execution_count": null,
   "metadata": {
    "ExecuteTime": {
     "end_time": "2018-01-19T23:25:10.948740Z",
     "start_time": "2018-01-19T23:24:52.138958Z"
    }
   },
   "outputs": [],
   "source": [
    "#Q3\n",
    "\n",
    "news_train_cos_sim = cosine_similarity(vectored_train_result)\n",
    "news_train_euc_dis = euclidean_distances(vectored_train_result)"
   ]
  },
  {
   "cell_type": "code",
   "execution_count": null,
   "metadata": {
    "ExecuteTime": {
     "end_time": "2018-01-19T23:16:19.996253Z",
     "start_time": "2018-01-19T23:13:27.948190Z"
    }
   },
   "outputs": [],
   "source": [
    "#Q4\n",
    "\n",
    "\n",
    "K = 10\n",
    "target = newsgroups_train.target\n",
    "y_target = newsgroups_test.target\n",
    "total = 0\n",
    "score = 0\n",
    "\n",
    "for item in vectore_test_final:\n",
    "    temp = cosine_similarity(vectore_train_final, Y=item, dense_output=True)\n",
    "    temp = np.argsort(temp.flatten())\n",
    "    temp = temp[::-1]\n",
    "    topK=temp[:K]\n",
    "    target_list = target[topK]\n",
    "    try :\n",
    "        label = statistics.mode(target_list)\n",
    "    except Exception:\n",
    "        label = target_list[0]\n",
    "    if label == y_target[total]:\n",
    "        score +=1\n",
    "    total+=1\n",
    "\n",
    "print('Accuracy = ', (score/total))  \n",
    "print('Error = ', 1 - (score/total))"
   ]
  },
  {
   "cell_type": "markdown",
   "metadata": {},
   "source": [
    "# MNIST"
   ]
  },
  {
   "cell_type": "code",
   "execution_count": 2,
   "metadata": {
    "ExecuteTime": {
     "end_time": "2018-01-20T05:50:56.160474Z",
     "start_time": "2018-01-20T05:50:56.102792Z"
    }
   },
   "outputs": [],
   "source": [
    "mnist_full = fetch_mldata('MNIST original', data_home='/Users/Sarthak/Downloads/')"
   ]
  },
  {
   "cell_type": "code",
   "execution_count": 3,
   "metadata": {
    "ExecuteTime": {
     "end_time": "2018-01-20T06:12:07.578495Z",
     "start_time": "2018-01-20T05:51:06.962568Z"
    }
   },
   "outputs": [],
   "source": [
    "#Q3\n",
    "cos_sim_mnist = cosine_similarity(mnist_full.data)\n",
    "cos_sim_mnist"
   ]
  },
  {
   "cell_type": "code",
   "execution_count": null,
   "metadata": {
    "ExecuteTime": {
     "start_time": "2018-01-20T06:13:19.136Z"
    }
   },
   "outputs": [],
   "source": [
    "#Q3\n",
    "euc_dis_mnist = euclidean_distances(mnist_full.data)\n",
    "euc_dis_mnist"
   ]
  },
  {
   "cell_type": "code",
   "execution_count": null,
   "metadata": {
    "ExecuteTime": {
     "end_time": "2018-01-19T23:25:29.338175Z",
     "start_time": "2018-01-19T23:25:29.277216Z"
    }
   },
   "outputs": [],
   "source": [
    "#Q4\n",
    "\n",
    "mnist_train, mnist_test, mnist_train_target, mnist_test_target = train_test_split(mnist_full.data, mnist_full.target, test_size=0.2)"
   ]
  },
  {
   "cell_type": "code",
   "execution_count": null,
   "metadata": {
    "ExecuteTime": {
     "end_time": "2018-01-19T23:25:53.684830Z",
     "start_time": "2018-01-19T23:25:30.046481Z"
    }
   },
   "outputs": [],
   "source": [
    "test_train_cosim = cosine_similarity(mnist_train, Y=mnist_test, dense_output=True)\n",
    "test_train_cosim = test_train_cosim.transpose()"
   ]
  },
  {
   "cell_type": "code",
   "execution_count": null,
   "metadata": {
    "ExecuteTime": {
     "end_time": "2018-01-19T23:27:32.684673Z",
     "start_time": "2018-01-19T23:25:53.693091Z"
    }
   },
   "outputs": [],
   "source": [
    "K = 10\n",
    "target = mnist_train_target\n",
    "y_target = mnist_test_target\n",
    "total = 0\n",
    "score = 0\n",
    "\n",
    "for item in test_train_cosim:\n",
    "    temp = np.argsort(item.flatten())\n",
    "    temp = temp[::-1]\n",
    "    topK=temp[:K]\n",
    "    target_list = target[topK]\n",
    "    try :\n",
    "        label = statistics.mode(target_list)\n",
    "    except Exception:\n",
    "        label = target_list[0]\n",
    "    if label == y_target[total]:\n",
    "        score +=1\n",
    "    total+=1\n",
    "    #if total%1000 == 0:\n",
    "        #print(total)\n",
    "\n",
    "print('Accuracy = ', (score/total))        \n",
    "print('Error = ', 1 - (score/total))"
   ]
  },
  {
   "cell_type": "code",
   "execution_count": 1,
   "metadata": {
    "ExecuteTime": {
     "end_time": "2018-01-20T06:31:59.098820Z",
     "start_time": "2018-01-20T06:31:58.989752Z"
    }
   },
   "outputs": [
    {
     "ename": "NameError",
     "evalue": "name 'cos_sim_mnist' is not defined",
     "output_type": "error",
     "traceback": [
      "\u001b[0;31m---------------------------------------------------------------------------\u001b[0m",
      "\u001b[0;31mNameError\u001b[0m                                 Traceback (most recent call last)",
      "\u001b[0;32m<ipython-input-1-f6afb05211a8>\u001b[0m in \u001b[0;36m<module>\u001b[0;34m()\u001b[0m\n\u001b[0;32m----> 1\u001b[0;31m \u001b[0mcos_sim_mnist\u001b[0m\u001b[0;34m\u001b[0m\u001b[0m\n\u001b[0m",
      "\u001b[0;31mNameError\u001b[0m: name 'cos_sim_mnist' is not defined"
     ]
    }
   ],
   "source": [
    "cos_sim_mnist"
   ]
  },
  {
   "cell_type": "code",
   "execution_count": null,
   "metadata": {},
   "outputs": [],
   "source": []
  }
 ],
 "metadata": {
  "kernelspec": {
   "display_name": "Python 3",
   "language": "python",
   "name": "python3"
  },
  "language_info": {
   "codemirror_mode": {
    "name": "ipython",
    "version": 3
   },
   "file_extension": ".py",
   "mimetype": "text/x-python",
   "name": "python",
   "nbconvert_exporter": "python",
   "pygments_lexer": "ipython3",
   "version": "3.6.4"
  }
 },
 "nbformat": 4,
 "nbformat_minor": 2
}
