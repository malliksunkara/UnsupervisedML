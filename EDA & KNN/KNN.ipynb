{
 "cells": [
  {
   "cell_type": "code",
   "execution_count": 1,
   "metadata": {
    "ExecuteTime": {
     "end_time": "2018-01-20T17:45:08.204862Z",
     "start_time": "2018-01-20T17:45:07.743432Z"
    }
   },
   "outputs": [],
   "source": [
    "from sklearn.datasets import fetch_20newsgroups\n",
    "from sklearn.feature_extraction.text import CountVectorizer, TfidfVectorizer\n",
    "from sklearn.metrics.pairwise import euclidean_distances, cosine_similarity\n",
    "import numpy as np\n",
    "import statistics\n",
    "from sklearn.datasets import fetch_mldata\n",
    "from sklearn.model_selection import train_test_split\n",
    "import pickle\n",
    "#import pandas as pd"
   ]
  },
  {
   "cell_type": "code",
   "execution_count": 2,
   "metadata": {
    "ExecuteTime": {
     "end_time": "2018-01-20T17:45:09.781742Z",
     "start_time": "2018-01-20T17:45:09.116538Z"
    }
   },
   "outputs": [],
   "source": [
    "newsgroups_train = fetch_20newsgroups(subset= 'train' , data_home='/home/pussyeater6969/data/')\n",
    "newsgroups_test = fetch_20newsgroups(subset= 'test' , data_home='/home/pussyeater6969/data/')"
   ]
  },
  {
   "cell_type": "code",
   "execution_count": 3,
   "metadata": {
    "ExecuteTime": {
     "end_time": "2018-01-20T17:45:18.170858Z",
     "start_time": "2018-01-20T17:45:10.502156Z"
    }
   },
   "outputs": [],
   "source": [
    "vectortype_train = TfidfVectorizer()\n",
    "vectortype_test = TfidfVectorizer()\n",
    "vectored_train_result = vectortype_train.fit_transform(newsgroups_train.data)\n",
    "vectored_test_result = vectortype_test.fit_transform(newsgroups_test.data)"
   ]
  },
  {
   "cell_type": "code",
   "execution_count": 4,
   "metadata": {
    "ExecuteTime": {
     "end_time": "2018-01-20T17:45:19.098898Z",
     "start_time": "2018-01-20T17:45:19.094173Z"
    }
   },
   "outputs": [],
   "source": [
    "#train_df = pd.SparseDataFrame(vectors_train, columns=vectorizer_train.get_feature_names())\n",
    "#test_df = pd.SparseDataFrame(vectors_test, columns= vectorizer_test.get_feature_names())\n",
    "\n",
    "#train_df = ( train_df - train_df.mean() ) / train_df.std()\n",
    "#test_df = ( test_df - test_df.mean() ) / test_df.std()"
   ]
  },
  {
   "cell_type": "code",
   "execution_count": 5,
   "metadata": {
    "ExecuteTime": {
     "end_time": "2018-01-20T17:45:21.552645Z",
     "start_time": "2018-01-20T17:45:20.144898Z"
    }
   },
   "outputs": [],
   "source": [
    "train_features = vectortype_train.get_feature_names()\n",
    "test_features = vectortype_test.get_feature_names()\n",
    "common_features = np.intersect1d(train_features, test_features)\n",
    "\n",
    "train_feature_final = np.searchsorted(train_features, common_features)\n",
    "vectore_train_final = vectored_train_result[:,train_feature_final]\n",
    "\n",
    "test_feature_final = np.searchsorted(test_features, common_features)\n",
    "vectore_test_final = vectored_test_result[:,test_feature_final]"
   ]
  },
  {
   "cell_type": "code",
   "execution_count": 6,
   "metadata": {
    "ExecuteTime": {
     "end_time": "2018-01-20T17:45:51.935546Z",
     "start_time": "2018-01-20T17:45:23.848751Z"
    }
   },
   "outputs": [],
   "source": [
    "#Q3\n",
    "\n",
    "news_train_cos_sim = cosine_similarity(vectored_train_result)\n",
    "news_train_euc_dis = euclidean_distances(vectored_train_result)"
   ]
  },
  {
   "cell_type": "code",
   "execution_count": 7,
   "metadata": {
    "ExecuteTime": {
     "end_time": "2018-01-20T17:51:19.562345Z",
     "start_time": "2018-01-20T17:46:00.234766Z"
    }
   },
   "outputs": [
    {
     "name": "stdout",
     "output_type": "stream",
     "text": [
      "Accuracy =  0.6712692511949018\n",
      "Error =  0.3287307488050982\n"
     ]
    }
   ],
   "source": [
    "#Q4\n",
    "\n",
    "\n",
    "K = 10\n",
    "target = newsgroups_train.target\n",
    "y_target = newsgroups_test.target\n",
    "total = 0\n",
    "score = 0\n",
    "\n",
    "for item in vectore_test_final:\n",
    "    temp = cosine_similarity(vectore_train_final, Y=item, dense_output=True)\n",
    "    temp = np.argsort(temp.flatten())\n",
    "    temp = temp[::-1]\n",
    "    topK=temp[:K]\n",
    "    target_list = target[topK]\n",
    "    try :\n",
    "        label = statistics.mode(target_list)\n",
    "    except Exception:\n",
    "        label = target_list[0]\n",
    "    if label == y_target[total]:\n",
    "        score +=1\n",
    "    total+=1\n",
    "\n",
    "print('Accuracy = ', (score/total))  \n",
    "print('Error = ', 1 - (score/total))"
   ]
  },
  {
   "cell_type": "markdown",
   "metadata": {},
   "source": [
    "# MNIST"
   ]
  },
  {
   "cell_type": "code",
   "execution_count": 8,
   "metadata": {
    "ExecuteTime": {
     "end_time": "2018-01-20T17:54:27.350464Z",
     "start_time": "2018-01-20T17:54:27.295784Z"
    }
   },
   "outputs": [],
   "source": [
    "mnist_full = fetch_mldata('MNIST original', data_home='/home/pussyeater6969/data')"
   ]
  },
  {
   "cell_type": "code",
   "execution_count": 12,
   "metadata": {
    "ExecuteTime": {
     "end_time": "2018-01-20T18:02:28.809500Z",
     "start_time": "2018-01-20T17:59:50.992096Z"
    }
   },
   "outputs": [
    {
     "data": {
      "text/plain": [
       "array([[ 1.        ,  0.87006533,  0.63943673, ...,  0.46985674,\n",
       "         0.49680307,  0.53896219],\n",
       "       [ 0.87006533,  1.        ,  0.60587935, ...,  0.54226482,\n",
       "         0.51373464,  0.53859648],\n",
       "       [ 0.63943673,  0.60587935,  1.        , ...,  0.55111365,\n",
       "         0.55519682,  0.67401497],\n",
       "       ..., \n",
       "       [ 0.46985674,  0.54226482,  0.55111365, ...,  1.        ,\n",
       "         0.77698501,  0.81534298],\n",
       "       [ 0.49680307,  0.51373464,  0.55519682, ...,  0.77698501,\n",
       "         1.        ,  0.77985515],\n",
       "       [ 0.53896219,  0.53859648,  0.67401497, ...,  0.81534298,\n",
       "         0.77985515,  1.        ]])"
      ]
     },
     "execution_count": 12,
     "metadata": {},
     "output_type": "execute_result"
    }
   ],
   "source": [
    "#Q3\n",
    "cos_sim_mnist = cosine_similarity(mnist_full.data)\n",
    "cos_sim_mnist"
   ]
  },
  {
   "cell_type": "code",
   "execution_count": 13,
   "metadata": {
    "ExecuteTime": {
     "end_time": "2018-01-20T18:06:40.101546Z",
     "start_time": "2018-01-20T18:02:43.639894Z"
    }
   },
   "outputs": [
    {
     "data": {
      "text/plain": [
       "array([[    0.        ,  1388.00576368,  2340.31579066, ...,\n",
       "         2624.59901699,  2504.96207556,  2479.94979788],\n",
       "       [ 1388.00576368,     0.        ,  2520.9625146 , ...,\n",
       "         2545.49248673,  2578.21585597,  2583.45330904],\n",
       "       [ 2340.31579066,  2520.9625146 ,     0.        , ...,\n",
       "         2569.9645912 ,  2520.48665936,  2217.9429659 ],\n",
       "       ..., \n",
       "       [ 2624.59901699,  2545.49248673,  2569.9645912 , ...,\n",
       "            0.        ,  1632.74645919,  1540.05292117],\n",
       "       [ 2504.96207556,  2578.21585597,  2520.48665936, ...,\n",
       "         1632.74645919,     0.        ,  1651.06389943],\n",
       "       [ 2479.94979788,  2583.45330904,  2217.9429659 , ...,\n",
       "         1540.05292117,  1651.06389943,     0.        ]])"
      ]
     },
     "execution_count": 13,
     "metadata": {},
     "output_type": "execute_result"
    }
   ],
   "source": [
    "#Q3\n",
    "euc_dis_mnist = euclidean_distances(mnist_full.data)\n",
    "euc_dis_mnist"
   ]
  },
  {
   "cell_type": "code",
   "execution_count": 9,
   "metadata": {
    "ExecuteTime": {
     "end_time": "2018-01-20T17:54:33.599277Z",
     "start_time": "2018-01-20T17:54:33.560604Z"
    }
   },
   "outputs": [],
   "source": [
    "#Q4\n",
    "\n",
    "mnist_train, mnist_test, mnist_train_target, mnist_test_target = train_test_split(mnist_full.data, mnist_full.target, test_size=0.2)"
   ]
  },
  {
   "cell_type": "code",
   "execution_count": 10,
   "metadata": {
    "ExecuteTime": {
     "end_time": "2018-01-20T17:55:07.741461Z",
     "start_time": "2018-01-20T17:54:34.457875Z"
    }
   },
   "outputs": [],
   "source": [
    "test_train_cosim = cosine_similarity(mnist_train, Y=mnist_test, dense_output=True)\n",
    "test_train_cosim = test_train_cosim.transpose()"
   ]
  },
  {
   "cell_type": "code",
   "execution_count": 11,
   "metadata": {
    "ExecuteTime": {
     "end_time": "2018-01-20T17:59:15.171315Z",
     "start_time": "2018-01-20T17:57:16.694372Z"
    }
   },
   "outputs": [
    {
     "name": "stdout",
     "output_type": "stream",
     "text": [
      "Accuracy =  0.9737142857142858\n",
      "Error =  0.026285714285714246\n"
     ]
    }
   ],
   "source": [
    "K = 10\n",
    "target = mnist_train_target\n",
    "y_target = mnist_test_target\n",
    "total = 0\n",
    "score = 0\n",
    "\n",
    "for item in test_train_cosim:\n",
    "    temp = np.argsort(item.flatten())\n",
    "    temp = temp[::-1]\n",
    "    topK=temp[:K]\n",
    "    target_list = target[topK]\n",
    "    try :\n",
    "        label = statistics.mode(target_list)\n",
    "    except Exception:\n",
    "        label = target_list[0]\n",
    "    if label == y_target[total]:\n",
    "        score +=1\n",
    "    total+=1\n",
    "    #if total%1000 == 0:\n",
    "        #print(total)\n",
    "\n",
    "print('Accuracy = ', (score/total))        \n",
    "print('Error = ', 1 - (score/total))"
   ]
  },
  {
   "cell_type": "code",
   "execution_count": null,
   "metadata": {},
   "outputs": [],
   "source": [
    "f = open(\"mnist-cos.txt\", \"w\")\n",
    "for row in range(0, len(cos_sim_mnist)):\n",
    "    for column in range(0, len(cos_sim_mnist[0])):\n",
    "        f.write(str(cos_sim_mnist[row][column]))\n",
    "        f.write(\" \")\n",
    "    f.write(\"\\n\")\n",
    "f.close()"
   ]
  },
  {
   "cell_type": "code",
   "execution_count": 16,
   "metadata": {
    "ExecuteTime": {
     "end_time": "2018-01-20T18:19:47.753505Z",
     "start_time": "2018-01-20T18:16:49.887634Z"
    }
   },
   "outputs": [],
   "source": [
    "pickle.dump(cos_sim_mnist , open(\"mnist-cos.p\", \"wb\" ), protocol=4 )"
   ]
  },
  {
   "cell_type": "code",
   "execution_count": 17,
   "metadata": {
    "ExecuteTime": {
     "end_time": "2018-01-20T18:24:36.026352Z",
     "start_time": "2018-01-20T18:21:32.981829Z"
    }
   },
   "outputs": [],
   "source": [
    "pickle.dump(euc_dis_mnist , open(\"mnist-euc.p\", \"wb\" ), protocol=4 )"
   ]
  },
  {
   "cell_type": "code",
   "execution_count": null,
   "metadata": {},
   "outputs": [],
   "source": []
  }
 ],
 "metadata": {
  "kernelspec": {
   "display_name": "Python 3",
   "language": "python",
   "name": "python3"
  },
  "language_info": {
   "codemirror_mode": {
    "name": "ipython",
    "version": 3
   },
   "file_extension": ".py",
   "mimetype": "text/x-python",
   "name": "python",
   "nbconvert_exporter": "python",
   "pygments_lexer": "ipython3",
   "version": "3.6.4"
  }
 },
 "nbformat": 4,
 "nbformat_minor": 2
}
