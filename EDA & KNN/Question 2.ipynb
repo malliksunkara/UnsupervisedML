{
 "cells": [
  {
   "cell_type": "code",
   "execution_count": 5,
   "metadata": {
    "ExecuteTime": {
     "end_time": "2018-01-19T23:03:14.358467Z",
     "start_time": "2018-01-19T23:03:01.123293Z"
    }
   },
   "outputs": [],
   "source": [
    "f = open('/Users/sarthak/Downloads/kosarak.dat', 'r',  encoding=\"utf8\")\n",
    "result = []\n",
    "filelines = f.readlines()\n",
    "for line in filelines:\n",
    "    temp = line.rstrip()\n",
    "    temp = temp.split()\n",
    "    result += temp\n",
    "result = [int(i) for i in result]\n",
    "result = sorted(result, reverse=True)\n",
    "#result\n",
    "#41270\n",
    "\n",
    "op_file = open('Q2.arff', 'w')\n",
    "op_file.write('@RELATION Q2-Kosark\\n\\n\\n')\n",
    "for i in range(0,result[0]):\n",
    "    op_file.write('@ATTRIBUTE ' + str(i) + ' NUMERIC\\n')\n",
    "\n",
    "op_file.write(\"@DATA\\n\")\n",
    "for line in filelines:\n",
    "    temp = line.rstrip()\n",
    "    temp = temp.split()\n",
    "    temp = [int(i) for i in temp]\n",
    "    temp = list(set(temp))\n",
    "    temp = sorted(temp)\n",
    "    writeline = '{ '\n",
    "    for item in temp:\n",
    "        writeline +=str(item-1) +' 1, '\n",
    "    writeline = writeline[:-2]\n",
    "    writeline+=' }\\n'\n",
    "    op_file.write(writeline)\n",
    "op_file.close()"
   ]
  },
  {
   "cell_type": "code",
   "execution_count": null,
   "metadata": {},
   "outputs": [],
   "source": [
    "# 13.2 to exec\n",
    "# 9 seconds to load\n",
    "# 9 seconds to binarize\n",
    "# all 5 3 seconds, average 3 seconds\n",
    "# almost 6 times faster than it took to load"
   ]
  }
 ],
 "metadata": {
  "kernelspec": {
   "display_name": "Python 3",
   "language": "python",
   "name": "python3"
  },
  "language_info": {
   "codemirror_mode": {
    "name": "ipython",
    "version": 3
   },
   "file_extension": ".py",
   "mimetype": "text/x-python",
   "name": "python",
   "nbconvert_exporter": "python",
   "pygments_lexer": "ipython3",
   "version": "3.6.4"
  }
 },
 "nbformat": 4,
 "nbformat_minor": 2
}
