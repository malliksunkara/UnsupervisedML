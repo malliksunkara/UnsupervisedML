{
 "cells": [
  {
   "cell_type": "code",
   "execution_count": 101,
   "metadata": {
    "ExecuteTime": {
     "end_time": "2018-02-24T00:19:14.431680Z",
     "start_time": "2018-02-24T00:19:14.416506Z"
    }
   },
   "outputs": [],
   "source": [
    "import pandas as pd\n",
    "import numpy as np\n",
    "import matplotlib.pyplot as plt\n",
    "from sklearn.metrics.pairwise import euclidean_distances, cosine_distances\n",
    "from sklearn.datasets import fetch_20newsgroups\n",
    "from sklearn.feature_extraction.text import TfidfVectorizer\n",
    "from sklearn.metrics import confusion_matrix, silhouette_score\n",
    "from sklearn.preprocessing import StandardScaler\n",
    "import sys\n",
    "sys.path.append('../data/fashion-mnist/utils')\n",
    "import mnist_reader"
   ]
  },
  {
   "cell_type": "code",
   "execution_count": 2,
   "metadata": {
    "ExecuteTime": {
     "end_time": "2018-02-23T23:01:34.610718Z",
     "start_time": "2018-02-23T23:01:34.604769Z"
    }
   },
   "outputs": [],
   "source": [
    "def Get_Neighbors(distance_list, esp):\n",
    "    N = np.argwhere(distance_list <= esp).ravel()\n",
    "    return list(N)"
   ]
  },
  {
   "cell_type": "code",
   "execution_count": 3,
   "metadata": {
    "ExecuteTime": {
     "end_time": "2018-02-23T23:01:35.210357Z",
     "start_time": "2018-02-23T23:01:35.156647Z"
    }
   },
   "outputs": [],
   "source": [
    "def Get_Clusters(distance, esp, minPoints, cluster):\n",
    "    C = 0\n",
    "    for x in range(len(cluster)):\n",
    "        if not np.isnan(cluster[x]):\n",
    "            continue\n",
    "        N = Get_Neighbors(distance[x], esp)\n",
    "        if len(N) < minPoints:\n",
    "            cluster[x] = -1\n",
    "            continue\n",
    "        C = C + 1\n",
    "        cluster[x] = C\n",
    "        N.remove(x)\n",
    "        S = list(N)\n",
    "        for nb in S:\n",
    "            if cluster[nb] == -1:\n",
    "                cluster[nb] = C\n",
    "            if not np.isnan(cluster[nb]):\n",
    "                continue\n",
    "            cluster[nb] = C\n",
    "            N = Get_Neighbors(distance[nb], esp)\n",
    "            if len(N) >= minPoints:\n",
    "                S.extend(N)\n",
    "    return list(cluster)"
   ]
  },
  {
   "cell_type": "code",
   "execution_count": 51,
   "metadata": {
    "ExecuteTime": {
     "end_time": "2018-02-23T23:25:51.648934Z",
     "start_time": "2018-02-23T23:25:51.607401Z"
    }
   },
   "outputs": [],
   "source": [
    "def Find_Gini_Purity(target_cluster, predicted_cluster):\n",
    "    matrix = confusion_matrix(target_cluster, predicted_cluster)\n",
    "    matrix = matrix[:, 1:]\n",
    "    N = []\n",
    "    M = []\n",
    "    P = []\n",
    "    rows = matrix.shape[0]\n",
    "    \n",
    "    columns = matrix.shape[1]\n",
    "\n",
    "    for i in range(rows):\n",
    "        N.append(sum(matrix[i]))\n",
    "    \n",
    "    for j in range(columns):\n",
    "        M.append(sum(matrix[:,j]))\n",
    "\n",
    "    for j in range(columns):\n",
    "        P.append(max(matrix[:,j]))\n",
    "\n",
    "    Purity = sum(P) / sum(M)\n",
    "    return Purity"
   ]
  },
  {
   "cell_type": "code",
   "execution_count": 5,
   "metadata": {
    "ExecuteTime": {
     "end_time": "2018-02-23T23:02:08.880244Z",
     "start_time": "2018-02-23T23:01:37.743210Z"
    }
   },
   "outputs": [],
   "source": [
    "newsgroups = fetch_20newsgroups(subset='all', data_home='../data/')\n",
    "vectortype = TfidfVectorizer(stop_words='english')\n",
    "news_group_vector = vectortype.fit_transform(newsgroups.data)\n",
    "news_group_target = newsgroups.target\n",
    "news_group_dist = euclidean_distances(news_group_vector)"
   ]
  },
  {
   "cell_type": "code",
   "execution_count": 63,
   "metadata": {
    "ExecuteTime": {
     "end_time": "2018-02-23T23:40:06.257106Z",
     "start_time": "2018-02-23T23:39:52.433964Z"
    }
   },
   "outputs": [
    {
     "name": "stdout",
     "output_type": "stream",
     "text": [
      "Purity : 0.680667078443\n",
      "Eps : 1.234006\n",
      "No. of cluster : 23\n",
      "Silhouette score : -0.00143525930775\n"
     ]
    }
   ],
   "source": [
    "news_group_clusters = [np.nan for i in range(news_group_vector.shape[0])]\n",
    "news_group_minPoints = 50\n",
    "news_group_esp = 1.234006\n",
    "news_group_pred = Get_Clusters(news_group_dist, news_group_esp, news_group_minPoints, news_group_clusters)\n",
    "print(\"Purity :\", Find_Gini_Purity(news_group_target, news_group_pred) )\n",
    "print(\"Eps :\", news_group_esp)\n",
    "print(\"No. of cluster :\", len(np.unique(news_group_pred)))\n",
    "print(\"Silhouette score :\", silhouette_score(news_group_dist, news_group_pred, metric='precomputed'))"
   ]
  },
  {
   "cell_type": "code",
   "execution_count": 58,
   "metadata": {
    "ExecuteTime": {
     "end_time": "2018-02-23T23:30:58.625394Z",
     "start_time": "2018-02-23T23:30:58.435755Z"
    },
    "scrolled": true
   },
   "outputs": [
    {
     "data": {
      "image/png": "[encoded data removed]",
      "text/plain": [
       "<matplotlib.figure.Figure at 0x7f2eedca50f0>"
      ]
     },
     "metadata": {},
     "output_type": "display_data"
    }
   ],
   "source": [
    "plt.plot(elist,plist)\n",
    "plt.show()"
   ]
  },
  {
   "cell_type": "code",
   "execution_count": 70,
   "metadata": {
    "ExecuteTime": {
     "end_time": "2018-02-23T23:53:50.634084Z",
     "start_time": "2018-02-23T23:53:50.625414Z"
    }
   },
   "outputs": [
    {
     "data": {
      "text/plain": [
       "(array([-1,  1,  2,  3,  4,  5,  6,  7,  8,  9, 10, 11, 12, 13, 14, 15, 16,\n",
       "        17, 18, 19, 20, 21, 22]),\n",
       " array([15608,   194,   768,   115,   176,   234,   146,    55,   143,\n",
       "          257,   112,   140,   239,   148,    49,    50,    51,    59,\n",
       "           57,    58,    90,    46,    51]))"
      ]
     },
     "execution_count": 70,
     "metadata": {},
     "output_type": "execute_result"
    }
   ],
   "source": [
    "np.unique(news_group_pred, return_counts=True)"
   ]
  },
  {
   "cell_type": "code",
   "execution_count": 60,
   "metadata": {
    "ExecuteTime": {
     "end_time": "2018-02-23T23:34:41.338413Z",
     "start_time": "2018-02-23T23:32:11.907985Z"
    }
   },
   "outputs": [],
   "source": [
    "fashion_data, fashion_target = mnist_reader.load_mnist('../data/fashion-mnist/data/fashion')\n",
    "fashion_distance = cosine_distances(fashion_data)"
   ]
  },
  {
   "cell_type": "code",
   "execution_count": 68,
   "metadata": {
    "ExecuteTime": {
     "end_time": "2018-02-23T23:52:49.968736Z",
     "start_time": "2018-02-23T23:52:39.013731Z"
    }
   },
   "outputs": [
    {
     "name": "stdout",
     "output_type": "stream",
     "text": [
      "Purity : 0.677580813347\n",
      "Eps : 0.0295\n",
      "No. of cluster : 12\n"
     ]
    }
   ],
   "source": [
    "fashion_clusters = [np.nan for i in range(fashion_data.shape[0])]\n",
    "fashion_esp = 0.026\n",
    "fashion_minPoints = 20\n",
    "fashion_pred = Get_Clusters(fashion_distance, fashion_esp, \n",
    "                               fashion_minPoints, fashion_clusters)\n",
    "print(\"Purity :\", Find_Gini_Purity(fashion_target, fashion_pred))\n",
    "print(\"Eps :\", esp)\n",
    "print(\"No. of cluster :\", len(np.unique(fashion_pred)))"
   ]
  },
  {
   "cell_type": "code",
   "execution_count": 69,
   "metadata": {
    "ExecuteTime": {
     "end_time": "2018-02-23T23:52:59.623939Z",
     "start_time": "2018-02-23T23:52:59.604934Z"
    }
   },
   "outputs": [
    {
     "data": {
      "text/plain": [
       "(array([-1,  1,  2,  3,  4,  5,  6,  7,  8,  9, 10, 11]),\n",
       " array([45615,  2300,  7087,  3622,   960,   226,    82,    25,    21,\n",
       "           21,    21,    20]))"
      ]
     },
     "execution_count": 69,
     "metadata": {},
     "output_type": "execute_result"
    }
   ],
   "source": [
    "np.unique(fashion_pred, return_counts=True)"
   ]
  },
  {
   "cell_type": "code",
   "execution_count": 89,
   "metadata": {
    "ExecuteTime": {
     "end_time": "2018-02-24T00:09:12.480916Z",
     "start_time": "2018-02-24T00:08:57.256510Z"
    }
   },
   "outputs": [],
   "source": [
    "house_data = open('../data/household_power_consumption.txt', 'r')\n",
    "house_data.readline()\n",
    "house_list = []\n",
    "for line in house_data.readlines():\n",
    "    try:\n",
    "        house_list.append([float(x) for x in line[:-2].split(';')[2:]])\n",
    "    except Exception:\n",
    "        continue\n",
    "house_list = np.asarray(house_list)"
   ]
  },
  {
   "cell_type": "code",
   "execution_count": 112,
   "metadata": {
    "ExecuteTime": {
     "end_time": "2018-02-24T00:29:28.143811Z",
     "start_time": "2018-02-24T00:29:12.064543Z"
    }
   },
   "outputs": [],
   "source": [
    "rand = np.random.RandomState(7)\n",
    "house_data_sample = rand.permutation(house_list)[:20000]\n",
    "sc = StandardScaler()\n",
    "house_data_sample = sc.fit_transform(house_data_sample)\n",
    "house_distance = euclidean_distances(house_data_sample)"
   ]
  },
  {
   "cell_type": "code",
   "execution_count": 115,
   "metadata": {
    "ExecuteTime": {
     "end_time": "2018-02-24T00:30:46.238008Z",
     "start_time": "2018-02-24T00:30:20.644554Z"
    }
   },
   "outputs": [
    {
     "name": "stdout",
     "output_type": "stream",
     "text": [
      "No. of cluster : 4\n"
     ]
    }
   ],
   "source": [
    "house_clusters = [np.nan for i in range(house_data_sample.shape[0])]\n",
    "house_esp = 0.5\n",
    "house_minPoints = 40\n",
    "house_pred = Get_Clusters(house_distance, house_esp, \n",
    "                               house_minPoints, house_clusters)\n",
    "\n",
    "print(\"No. of cluster :\", len(np.unique(house_pred)))"
   ]
  },
  {
   "cell_type": "code",
   "execution_count": 116,
   "metadata": {
    "ExecuteTime": {
     "end_time": "2018-02-24T00:30:50.026137Z",
     "start_time": "2018-02-24T00:30:50.014058Z"
    }
   },
   "outputs": [
    {
     "data": {
      "text/plain": [
       "(array([-1,  1,  2,  3]), array([ 3169, 11867,  4835,   129]))"
      ]
     },
     "execution_count": 116,
     "metadata": {},
     "output_type": "execute_result"
    }
   ],
   "source": [
    "np.unique(house_pred, return_counts=True)"
   ]
  },
  {
   "cell_type": "code",
   "execution_count": null,
   "metadata": {},
   "outputs": [],
   "source": []
  }
 ],
 "metadata": {
  "kernelspec": {
   "display_name": "Python 3",
   "language": "python",
   "name": "python3"
  },
  "language_info": {
   "codemirror_mode": {
    "name": "ipython",
    "version": 3
   },
   "file_extension": ".py",
   "mimetype": "text/x-python",
   "name": "python",
   "nbconvert_exporter": "python",
   "pygments_lexer": "ipython3",
   "version": "3.6.4"
  }
 },
 "nbformat": 4,
 "nbformat_minor": 2
}
