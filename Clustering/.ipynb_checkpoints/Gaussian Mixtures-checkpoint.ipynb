{
 "cells": [
  {
   "cell_type": "code",
   "execution_count": 10,
   "metadata": {
    "ExecuteTime": {
     "end_time": "2018-02-16T21:47:46.813777Z",
     "start_time": "2018-02-16T21:47:46.807157Z"
    }
   },
   "outputs": [],
   "source": [
    "from numpy import linalg as LA\n",
    "import numpy as np\n",
    "import scipy\n",
    "import math \n",
    "from scipy.stats import multivariate_normal"
   ]
  },
  {
   "cell_type": "code",
   "execution_count": 11,
   "metadata": {
    "ExecuteTime": {
     "end_time": "2018-02-16T21:47:48.233907Z",
     "start_time": "2018-02-16T21:47:48.115727Z"
    }
   },
   "outputs": [],
   "source": [
    "toy_2 = np.loadtxt(\"../data/2gaussian.txt\")\n",
    "init_2 = { 'mean': [[3.0,3.0], [7,5]],\n",
    "          'sig':[ [ [1, 0], [0, 3] ] , [ [1, 0.5], [0.5, 1] ] ],\n",
    "          'lambda': [0.33, 0.67]\n",
    "        }\n"
   ]
  },
  {
   "cell_type": "code",
   "execution_count": 13,
   "metadata": {
    "ExecuteTime": {
     "end_time": "2018-02-16T21:48:09.121781Z",
     "start_time": "2018-02-16T21:48:08.933692Z"
    }
   },
   "outputs": [],
   "source": [
    "toy_3 = np.loadtxt(\"../data/3gaussian.txt\")\n",
    "init_3 = { 'mean': [[3.0,3.0], [7.0,4.0], [5.0,7.0]],\n",
    "          'sig':[ [ [1.0, 0], [0, 3.0] ] , [ [1, 0.5], [0.5, 1] ], [ [1, 0.2], [0.2, 1] ] ],\n",
    "          'lambda': [0.2, 0.3, 0.5]\n",
    "        }"
   ]
  },
  {
   "cell_type": "code",
   "execution_count": 14,
   "metadata": {
    "ExecuteTime": {
     "end_time": "2018-02-16T21:48:10.821262Z",
     "start_time": "2018-02-16T21:48:10.815233Z"
    }
   },
   "outputs": [],
   "source": [
    "def prob(val, mu, sig, lam):\n",
    "    p = lam\n",
    "    p *= multivariate_normal.pdf(val, mu, sig)\n",
    "    return p"
   ]
  },
  {
   "cell_type": "code",
   "execution_count": 19,
   "metadata": {
    "ExecuteTime": {
     "end_time": "2018-02-16T21:49:33.683609Z",
     "start_time": "2018-02-16T21:49:33.657072Z"
    }
   },
   "outputs": [],
   "source": [
    "def expectation(data, parameters, k):\n",
    "    p_list = [[] for i in range(len(data))]\n",
    "    for i in range(len(data)):\n",
    "        x = data[i][0]\n",
    "        y = data[i][1]\n",
    "        for j in range(k):\n",
    "            p_cluster = prob([x, y], list(parameters['mean'][j]), list(parameters['sig'][j]), parameters['lambda'][j] )\n",
    "            p_list[i].append(p_cluster)\n",
    "    p_list = np.divide(p_list, np.sum(p_list, axis=1).reshape([-1,1]))\n",
    "    log_like = np.sum(np.log(np.sum(np.multiply(parameters['lambda'], p_list), 1)))\n",
    "    return p_list, log_like"
   ]
  },
  {
   "cell_type": "code",
   "execution_count": 20,
   "metadata": {
    "ExecuteTime": {
     "end_time": "2018-02-16T21:49:34.307301Z",
     "start_time": "2018-02-16T21:49:34.267350Z"
    }
   },
   "outputs": [],
   "source": [
    "def maximization(data, parameters, p_list, k):\n",
    "    new_parameters = dict(parameters)\n",
    "    new_parameters['lambda'] = np.sum(p_list, axis=0)/len(p_list)\n",
    "    mean = []\n",
    "    for i in range(k):\n",
    "        mean.append(np.divide(np.sum(np.multiply(p_list[:,i].reshape(-1,1), data), axis=0), np.sum((p_list.T)[i], axis=0)))\n",
    "    new_parameters['mean'] = mean\n",
    "    sig = []\n",
    "    for i in range(k):\n",
    "        temp = np.divide(\n",
    "                    np.dot(\n",
    "                        np.multiply((data - mean[i]), p_list[:,i].reshape(-1,1)).T,\n",
    "                        (data - mean[i])\n",
    "                        ), \n",
    "                    np.sum(p_list.T[i], axis=0)\n",
    "                        )\n",
    "        sig.append(temp)\n",
    "    new_parameters['sig'] = sig\n",
    "    return new_parameters"
   ]
  },
  {
   "cell_type": "code",
   "execution_count": 29,
   "metadata": {
    "ExecuteTime": {
     "end_time": "2018-02-16T22:34:19.587465Z",
     "start_time": "2018-02-16T22:34:19.549902Z"
    }
   },
   "outputs": [],
   "source": [
    "def Loop(data, init, k, threshold):\n",
    "    parameters = dict(init)\n",
    "    history = []\n",
    "    Log_Like = [1000]\n",
    "    old_log_like = Log_Like[0]\n",
    "    while True:\n",
    "        p_list, new_log_like = expectation(data, parameters, k)\n",
    "\n",
    "        history.append(dict(parameters))\n",
    "\n",
    "        new_parameters = maximization(data , parameters, p_list, k)\n",
    "        \n",
    "        if np.allclose(new_log_like, old_log_like, threshold):\n",
    "            break\n",
    "        \n",
    "        Log_Like.append(new_log_like)\n",
    "        old_log_like = new_log_like\n",
    "        parameters = dict(new_parameters)\n",
    "        \n",
    "    return p_list, Log_Like, history"
   ]
  },
  {
   "cell_type": "code",
   "execution_count": 28,
   "metadata": {
    "ExecuteTime": {
     "end_time": "2018-02-16T22:33:45.824696Z",
     "start_time": "2018-02-16T22:33:45.809045Z"
    }
   },
   "outputs": [
    {
     "name": "stdout",
     "output_type": "stream",
     "text": [
      "No of iteration 13\n",
      "Tolerance 0.0001\n",
      "Cluster : 0\n",
      "Mean: [ 2.99528931  3.0519601 ]\n",
      "Covariance: [[ 1.01214955  0.02698475]\n",
      " [ 0.02698475  2.93692481]]\n",
      "Cluster : 1\n",
      "Mean: [ 7.01374825  3.983477  ]\n",
      "Covariance: [[ 0.97371487  0.49687779]\n",
      " [ 0.49687779  1.00064165]]\n"
     ]
    }
   ],
   "source": [
    "tol = 0.0001\n",
    "p_list_2, log_list_2, param_list_2 = Loop(toy_2, init_2, 2, tol)\n",
    "params = param_list_2[-1]\n",
    "print('No of iteration', len(log_list_2))\n",
    "print('Tolerance', tol)\n",
    "for i in range(2):\n",
    "    print(\"Cluster :\", i)\n",
    "    print(\"Mean:\", params['mean'][i])\n",
    "    print(\"Covariance:\", params['sig'][i])"
   ]
  },
  {
   "cell_type": "code",
   "execution_count": 30,
   "metadata": {
    "ExecuteTime": {
     "end_time": "2018-02-16T22:36:11.476140Z",
     "start_time": "2018-02-16T22:34:21.560169Z"
    }
   },
   "outputs": [
    {
     "name": "stdout",
     "output_type": "stream",
     "text": [
      "No of iteration 16\n",
      "Tolerance 0.0001\n",
      "Cluster : 0\n",
      "Mean: [ 3.03557423  3.03680654]\n",
      "Covariance: [[ 1.02532423  0.01920142]\n",
      " [ 0.01920142  3.36122885]]\n",
      "Cluster : 1\n",
      "Mean: [ 7.02067135  4.01498155]\n",
      "Covariance: [[ 0.99192454  0.50154318]\n",
      " [ 0.50154318  0.99572367]]\n"
     ]
    }
   ],
   "source": [
    "tol=0.0001\n",
    "p_list_3, log_list_3, param_list_3 = Loop(toy_3, init_3, 3, tol)\n",
    "params = param_list_3[-1]\n",
    "print('No of iteration', len(log_list_3))\n",
    "print('Tolerance', tol)\n",
    "for i in range(2):\n",
    "    print(\"Cluster :\", i)\n",
    "    print(\"Mean:\", params['mean'][i])\n",
    "    print(\"Covariance:\", params['sig'][i])"
   ]
  },
  {
   "cell_type": "code",
   "execution_count": null,
   "metadata": {},
   "outputs": [],
   "source": []
  }
 ],
 "metadata": {
  "kernelspec": {
   "display_name": "Python 3",
   "language": "python",
   "name": "python3"
  },
  "language_info": {
   "codemirror_mode": {
    "name": "ipython",
    "version": 3
   },
   "file_extension": ".py",
   "mimetype": "text/x-python",
   "name": "python",
   "nbconvert_exporter": "python",
   "pygments_lexer": "ipython3",
   "version": "3.6.4"
  }
 },
 "nbformat": 4,
 "nbformat_minor": 2
}
