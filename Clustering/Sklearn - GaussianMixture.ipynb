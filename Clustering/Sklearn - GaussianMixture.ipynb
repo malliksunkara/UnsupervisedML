{
 "cells": [
  {
   "cell_type": "code",
   "execution_count": 1,
   "metadata": {
    "ExecuteTime": {
     "end_time": "2018-02-16T22:59:11.238028Z",
     "start_time": "2018-02-16T22:59:10.736838Z"
    }
   },
   "outputs": [],
   "source": [
    "from sklearn.mixture import GaussianMixture\n",
    "from sklearn.metrics import confusion_matrix\n",
    "import numpy as np\n",
    "import sys\n",
    "sys.path.append('../data/fashion-mnist/utils')\n",
    "import mnist_reader\n",
    "import scipy"
   ]
  },
  {
   "cell_type": "code",
   "execution_count": 2,
   "metadata": {
    "ExecuteTime": {
     "end_time": "2018-02-16T22:59:11.803652Z",
     "start_time": "2018-02-16T22:59:11.240502Z"
    }
   },
   "outputs": [],
   "source": [
    "fashion_data, fashion_target = mnist_reader.load_mnist('../data/fashion-mnist/data/fashion')"
   ]
  },
  {
   "cell_type": "code",
   "execution_count": 3,
   "metadata": {
    "ExecuteTime": {
     "end_time": "2018-02-16T22:59:13.405612Z",
     "start_time": "2018-02-16T22:59:13.298362Z"
    }
   },
   "outputs": [],
   "source": [
    "def Find_Gini_Purity(target_cluster, predicted_cluster):\n",
    "    matrix = confusion_matrix(target_cluster, predicted_cluster)\n",
    "    N = []\n",
    "    M = []\n",
    "    P = []\n",
    "    G = []\n",
    "    G_temp = 0\n",
    "    rows = matrix.shape[0]\n",
    "    columns = matrix.shape[1]\n",
    "\n",
    "    for i in range(rows):\n",
    "        N.append(sum(matrix[i]))\n",
    "    \n",
    "    for j in range(columns):\n",
    "        M.append(sum(matrix[:][j]))\n",
    "\n",
    "    for j in range(columns):\n",
    "        P.append(max(matrix[:][j]))\n",
    "        G_temp = 0\n",
    "        for i in range(rows):\n",
    "            if M[j] == 0:\n",
    "                G_temp += (matrix[i][j] / 1) ** 2\n",
    "            else:\n",
    "                G_temp += (matrix[i][j] / M[j]) ** 2\n",
    "        G.append(1-G_temp)\n",
    "    \n",
    "    G_temp = 0\n",
    "    for j in range(columns):\n",
    "        G_temp += G[j] * M[j]\n",
    "    \n",
    "    #print(Matrix)\n",
    "    #print(M)\n",
    "    Purity = sum(P) / sum(M)\n",
    "    Gini = G_temp / sum(M)\n",
    "    \n",
    "    return Gini, Purity"
   ]
  },
  {
   "cell_type": "code",
   "execution_count": 4,
   "metadata": {
    "ExecuteTime": {
     "end_time": "2018-02-16T22:59:15.424317Z",
     "start_time": "2018-02-16T22:59:15.419783Z"
    }
   },
   "outputs": [],
   "source": [
    "fash_gm = GaussianMixture(n_components=10, covariance_type='diag')"
   ]
  },
  {
   "cell_type": "code",
   "execution_count": 5,
   "metadata": {
    "ExecuteTime": {
     "end_time": "2018-02-16T22:59:56.259435Z",
     "start_time": "2018-02-16T22:59:17.593669Z"
    }
   },
   "outputs": [
    {
     "data": {
      "text/plain": [
       "GaussianMixture(covariance_type='diag', init_params='kmeans', max_iter=100,\n",
       "        means_init=None, n_components=10, n_init=1, precisions_init=None,\n",
       "        random_state=None, reg_covar=1e-06, tol=0.001, verbose=0,\n",
       "        verbose_interval=10, warm_start=False, weights_init=None)"
      ]
     },
     "execution_count": 5,
     "metadata": {},
     "output_type": "execute_result"
    }
   ],
   "source": [
    "fash_gm.fit(fashion_data)"
   ]
  },
  {
   "cell_type": "code",
   "execution_count": 7,
   "metadata": {
    "ExecuteTime": {
     "end_time": "2018-02-16T23:00:12.652904Z",
     "start_time": "2018-02-16T23:00:11.646828Z"
    }
   },
   "outputs": [
    {
     "name": "stdout",
     "output_type": "stream",
     "text": [
      "Purity : 0.680316666667\n",
      "Gini : 0.4490247\n"
     ]
    }
   ],
   "source": [
    "fashion_labels = fash_gm.predict(fashion_data)\n",
    "fash_g, fash_p = Find_Gini_Purity(fashion_target, fashion_labels)\n",
    "print(\"Purity :\", fash_p)\n",
    "print(\"Gini :\", fash_g)"
   ]
  },
  {
   "cell_type": "code",
   "execution_count": 8,
   "metadata": {
    "ExecuteTime": {
     "end_time": "2018-02-16T23:00:14.836674Z",
     "start_time": "2018-02-16T23:00:14.637469Z"
    }
   },
   "outputs": [],
   "source": [
    "spam_file = open(\"../data/spambase.data\")\n",
    "spam_list = []\n",
    "spam_target = []\n",
    "for line in spam_file.readlines():\n",
    "    line = line.split(',')\n",
    "    line = [float(x) for x in line]\n",
    "    spam_list.append(line[:-1])\n",
    "    spam_target.append(line[-1])\n",
    "spam_data = np.array(spam_list)"
   ]
  },
  {
   "cell_type": "code",
   "execution_count": 9,
   "metadata": {
    "ExecuteTime": {
     "end_time": "2018-02-16T23:00:15.837653Z",
     "start_time": "2018-02-16T23:00:15.722899Z"
    }
   },
   "outputs": [
    {
     "data": {
      "text/plain": [
       "GaussianMixture(covariance_type='diag', init_params='kmeans', max_iter=100,\n",
       "        means_init=None, n_components=2, n_init=1, precisions_init=None,\n",
       "        random_state=None, reg_covar=1e-06, tol=0.001, verbose=0,\n",
       "        verbose_interval=10, warm_start=False, weights_init=None)"
      ]
     },
     "execution_count": 9,
     "metadata": {},
     "output_type": "execute_result"
    }
   ],
   "source": [
    "spam_gm = GaussianMixture(n_components=2, covariance_type='diag')\n",
    "spam_gm.fit(spam_data)"
   ]
  },
  {
   "cell_type": "code",
   "execution_count": 10,
   "metadata": {
    "ExecuteTime": {
     "end_time": "2018-02-16T23:00:17.296580Z",
     "start_time": "2018-02-16T23:00:17.267963Z"
    }
   },
   "outputs": [
    {
     "name": "stdout",
     "output_type": "stream",
     "text": [
      "Purity : 0.748532927624\n",
      "Gini : 0.29887922021\n"
     ]
    }
   ],
   "source": [
    "spam_labels = spam_gm.predict(spam_data)\n",
    "spam_g, spam_p = Find_Gini_Purity(spam_target, spam_labels)\n",
    "print(\"Purity :\", spam_p)\n",
    "print(\"Gini :\", spam_g)"
   ]
  }
 ],
 "metadata": {
  "kernelspec": {
   "display_name": "Python 3",
   "language": "python",
   "name": "python3"
  },
  "language_info": {
   "codemirror_mode": {
    "name": "ipython",
    "version": 3
   },
   "file_extension": ".py",
   "mimetype": "text/x-python",
   "name": "python",
   "nbconvert_exporter": "python",
   "pygments_lexer": "ipython3",
   "version": "3.6.4"
  }
 },
 "nbformat": 4,
 "nbformat_minor": 2
}
