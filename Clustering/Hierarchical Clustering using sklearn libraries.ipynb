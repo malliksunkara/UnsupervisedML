{
 "cells": [
  {
   "cell_type": "code",
   "execution_count": 18,
   "metadata": {
    "ExecuteTime": {
     "end_time": "2018-02-23T23:07:06.958091Z",
     "start_time": "2018-02-23T23:07:06.947823Z"
    }
   },
   "outputs": [],
   "source": [
    "import numpy as np\n",
    "import scipy\n",
    "import matplotlib.pyplot as plt\n",
    "from sklearn.datasets import fetch_mldata\n",
    "from sklearn.metrics.pairwise import euclidean_distances\n",
    "from sklearn.metrics import confusion_matrix\n",
    "from scipy.spatial.distance import squareform\n",
    "from scipy.cluster.hierarchy import linkage, fcluster"
   ]
  },
  {
   "cell_type": "code",
   "execution_count": 30,
   "metadata": {
    "ExecuteTime": {
     "end_time": "2018-02-23T23:08:48.280322Z",
     "start_time": "2018-02-23T23:08:48.243957Z"
    }
   },
   "outputs": [],
   "source": [
    "def Find_Purity(target_cluster, predicted_cluster):\n",
    "    matrix = confusion_matrix(target_cluster, predicted_cluster)\n",
    "    N = []\n",
    "    M = []\n",
    "    P = []\n",
    "    rows = matrix.shape[0]\n",
    "    columns = matrix.shape[1]\n",
    "\n",
    "    for i in range(rows):\n",
    "        N.append(sum(matrix[i]))\n",
    "    \n",
    "    for j in range(columns):\n",
    "        M.append(sum(matrix[:,j]))\n",
    "\n",
    "    for j in range(columns):\n",
    "        P.append(max(matrix[:,j]))\n",
    "\n",
    "    Purity = sum(P) / sum(M)\n",
    "    return Purity"
   ]
  },
  {
   "cell_type": "code",
   "execution_count": 7,
   "metadata": {
    "ExecuteTime": {
     "end_time": "2018-02-23T22:23:55.912101Z",
     "start_time": "2018-02-23T22:23:55.845890Z"
    }
   },
   "outputs": [],
   "source": [
    "mnist_full = fetch_mldata('MNIST original', data_home='../data/')\n",
    "mnist_data = mnist_full.data\n",
    "mnist_target = mnist_full.target"
   ]
  },
  {
   "cell_type": "code",
   "execution_count": 9,
   "metadata": {
    "ExecuteTime": {
     "end_time": "2018-02-23T22:51:01.947919Z",
     "start_time": "2018-02-23T22:45:25.748377Z"
    }
   },
   "outputs": [],
   "source": [
    "mnist_distance = euclidean_distances(mnist_data)"
   ]
  },
  {
   "cell_type": "code",
   "execution_count": 11,
   "metadata": {
    "ExecuteTime": {
     "end_time": "2018-02-23T22:56:23.131644Z",
     "start_time": "2018-02-23T22:51:17.696494Z"
    }
   },
   "outputs": [],
   "source": [
    "mnist_cdistance = squareform(mnist_distance, force='tovector')"
   ]
  },
  {
   "cell_type": "code",
   "execution_count": 14,
   "metadata": {
    "ExecuteTime": {
     "end_time": "2018-02-23T23:02:03.755361Z",
     "start_time": "2018-02-23T22:56:32.972628Z"
    }
   },
   "outputs": [],
   "source": [
    "mnist_link = linkage(mnist_cdistance, 'average')"
   ]
  },
  {
   "cell_type": "code",
   "execution_count": 65,
   "metadata": {
    "ExecuteTime": {
     "end_time": "2018-02-23T23:14:29.473603Z",
     "start_time": "2018-02-23T23:14:28.834876Z"
    }
   },
   "outputs": [
    {
     "name": "stdout",
     "output_type": "stream",
     "text": [
      "0.609071428571\n",
      "(array([ 1,  2,  3,  4,  5,  6,  7,  8,  9, 10, 11, 12, 13, 14, 15, 16, 17,\n",
      "       18, 19, 20, 21, 22, 23, 24, 25, 26, 27, 28, 29, 30, 31], dtype=int32), array([   14,    84,    72,  5771,     3,   205,    73,  1473,   355,\n",
      "         106,   103,  6512,    70,  6321,  5640,   306,  2088,    72,\n",
      "           4,    31,     5,  1502,    20,    38,    12,   257,  2791,\n",
      "       25590,  7693,  2788,     1]))\n"
     ]
    }
   ],
   "source": [
    "mnist_label = fcluster(mnist_link, 1.1547005358998)\n",
    "print(Find_Purity(mnist_target, mnist_label))\n",
    "print(np.unique(mnist_label, return_counts=True))"
   ]
  }
 ],
 "metadata": {
  "kernelspec": {
   "display_name": "Python 3",
   "language": "python",
   "name": "python3"
  },
  "language_info": {
   "codemirror_mode": {
    "name": "ipython",
    "version": 3
   },
   "file_extension": ".py",
   "mimetype": "text/x-python",
   "name": "python",
   "nbconvert_exporter": "python",
   "pygments_lexer": "ipython3",
   "version": "3.6.4"
  }
 },
 "nbformat": 4,
 "nbformat_minor": 2
}
