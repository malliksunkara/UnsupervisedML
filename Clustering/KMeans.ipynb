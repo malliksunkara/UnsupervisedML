{
 "cells": [
  {
   "cell_type": "code",
   "execution_count": 3,
   "metadata": {
    "ExecuteTime": {
     "end_time": "2018-02-13T18:46:49.924255Z",
     "start_time": "2018-02-13T18:46:49.908910Z"
    }
   },
   "outputs": [],
   "source": [
    "from sklearn.datasets import fetch_20newsgroups, fetch_mldata\n",
    "from sklearn.feature_extraction.text import  TfidfVectorizer\n",
    "from sklearn.metrics import pairwise_distances_argmin\n",
    "from sklearn.metrics import confusion_matrix\n",
    "from numpy import linalg as LA\n",
    "import numpy as np\n",
    "import sys\n",
    "sys.path.append('../data/fashion-mnist/utils')\n",
    "import mnist_reader\n",
    "import scipy"
   ]
  },
  {
   "cell_type": "code",
   "execution_count": 8,
   "metadata": {
    "ExecuteTime": {
     "end_time": "2018-02-13T18:52:27.601123Z",
     "start_time": "2018-02-13T18:52:18.862661Z"
    }
   },
   "outputs": [],
   "source": [
    "newsgroups = fetch_20newsgroups(subset='all', data_home='../data/')\n",
    "vectortype = TfidfVectorizer()\n",
    "news_vectored_result = vectortype.fit_transform(newsgroups.data)\n",
    "news_target = newsgroups.target\n",
    "mnist_full = fetch_mldata('MNIST original', data_home='../data/')\n",
    "#mnist_full = fetch_mldata('MNIST original', data_home='/home/pussyeater6969/data/')\n",
    "mnist_data = mnist_full.data\n",
    "mnist_target = mnist_full.target\n",
    "fashion_data, fashion_target = mnist_reader.load_mnist('../data/fashion-mnist/data/fashion')"
   ]
  },
  {
   "cell_type": "code",
   "execution_count": 49,
   "metadata": {
    "ExecuteTime": {
     "end_time": "2018-02-13T02:29:26.889202Z",
     "start_time": "2018-02-13T02:29:26.780093Z"
    }
   },
   "outputs": [],
   "source": [
    "def Find_Gini_Purity(target_cluster, predicted_cluster, k):\n",
    "    matrix = confusion_matrix(target_cluster, predicted_cluster)\n",
    "    N = []\n",
    "    M = []\n",
    "    P = []\n",
    "    G = []\n",
    "    G_temp = 0\n",
    "    rows = matrix.shape[0]\n",
    "    columns = matrix.shape[1]\n",
    "\n",
    "    for i in range(rows):\n",
    "        N.append(sum(matrix[i]))\n",
    "    \n",
    "    for j in range(columns):\n",
    "        M.append(sum(matrix[:][j]))\n",
    "\n",
    "    for j in range(columns):\n",
    "        P.append(max(matrix[:][j]))\n",
    "        G_temp = 0\n",
    "        for i in range(rows):\n",
    "            if M[j] == 0:\n",
    "                G_temp += (matrix[i][j] / 1) ** 2\n",
    "            else:\n",
    "                G_temp += (matrix[i][j] / M[j]) ** 2\n",
    "        G.append(1-G_temp)\n",
    "    \n",
    "    G_temp = 0\n",
    "    for j in range(columns):\n",
    "        G_temp += G[j] * M[j]\n",
    "    \n",
    "    #print(Matrix)\n",
    "    #print(M)\n",
    "    Purity = sum(P) / sum(M)\n",
    "    Gini = G_temp / sum(M)\n",
    "    \n",
    "    return Gini, Purity"
   ]
  },
  {
   "cell_type": "code",
   "execution_count": 13,
   "metadata": {
    "ExecuteTime": {
     "end_time": "2018-02-12T21:23:02.388473Z",
     "start_time": "2018-02-12T21:23:02.300236Z"
    }
   },
   "outputs": [],
   "source": [
    "def K_Means(data, target, k):\n",
    "\n",
    "    rng = np.random.RandomState()\n",
    "    i = rng.permutation(data.shape[0])[:k]\n",
    "    centroids = data[i]\n",
    "    p_list = []\n",
    "    datapoints = data.shape[0]\n",
    "    while True:\n",
    "        \n",
    "        cluster = pairwise_distances_argmin(data, centroids)\n",
    "        \n",
    "        new_centroids = np.array([data[cluster == i].mean(0)\n",
    "                                for i in range(k)])\n",
    "        \n",
    "        new_centroids = np.reshape(new_centroids, (k , -1))\n",
    "        \n",
    "        \n",
    "        performance = 0\n",
    "        for j in range(0, datapoints):\n",
    "            if scipy.sparse.issparse(data):\n",
    "                performance += LA.norm(data[j].toarray() - new_centroids[cluster[j]])\n",
    "            else:\n",
    "                performance += LA.norm(data[j] - new_centroids[cluster[j]])\n",
    "                \n",
    "        p_list.append(performance)\n",
    "\n",
    "        if np.all(centroids == new_centroids):\n",
    "            break\n",
    "        centroids = new_centroids\n",
    "     \n",
    "    gini, purity = Find_Gini_Purity(target, cluster, k)\n",
    "    \n",
    "    return centroids, cluster, p_list, gini, purity"
   ]
  },
  {
   "cell_type": "code",
   "execution_count": null,
   "metadata": {
    "ExecuteTime": {
     "start_time": "2018-02-12T21:24:45.714Z"
    }
   },
   "outputs": [
    {
     "name": "stdout",
     "output_type": "stream",
     "text": [
      "News group\n",
      "K =  10\n",
      "Iterations :  19\n",
      "Purity :  0.688103576356\n",
      "Gini :  0.432431363672\n",
      "Final Performance :  18240.7152413\n"
     ]
    }
   ],
   "source": [
    "K = 10\n",
    "news_centroids, news_cluster, news_p_list, news_gini, news_purity = K_Means(news_vectored_result, news_target, K)\n",
    "print(\"News group\")\n",
    "print(\"K = \", K)\n",
    "print(\"Iterations : \", len(news_p_list)+1)\n",
    "print(\"Purity : \", news_purity)\n",
    "print(\"Gini : \", news_gini)\n",
    "print(\"Final Performance : \", news_p_list[-1])"
   ]
  },
  {
   "cell_type": "code",
   "execution_count": 23,
   "metadata": {
    "ExecuteTime": {
     "end_time": "2018-02-13T01:06:42.509573Z",
     "start_time": "2018-02-13T00:49:56.404912Z"
    }
   },
   "outputs": [
    {
     "name": "stdout",
     "output_type": "stream",
     "text": [
      "News group\n",
      "K =  20\n",
      "Iterations :  78\n",
      "Purity :  0.407991085642\n",
      "Gini :  0.723122509103\n",
      "Final Performance :  18135.1050452\n"
     ]
    }
   ],
   "source": [
    "K = 20\n",
    "news_centroids, news_cluster, news_p_list, news_gini, news_purity = K_Means(news_vectored_result, news_target, K)\n",
    "print(\"News group\")\n",
    "print(\"K = \", K)\n",
    "print(\"Iterations : \", len(news_p_list)+1)\n",
    "print(\"Purity : \", news_purity)\n",
    "print(\"Gini : \", news_gini)\n",
    "print(\"Final Performance : \", news_p_list[-1])"
   ]
  },
  {
   "cell_type": "code",
   "execution_count": 54,
   "metadata": {
    "ExecuteTime": {
     "end_time": "2018-02-13T02:49:22.922481Z",
     "start_time": "2018-02-13T02:41:04.831647Z"
    }
   },
   "outputs": [
    {
     "name": "stdout",
     "output_type": "stream",
     "text": [
      "News group\n",
      "K =  40\n",
      "Iterations :  35\n",
      "Purity :  0.387403162475\n",
      "Gini :  0.777174656944\n",
      "Final Performance :  18020.1662916\n"
     ]
    }
   ],
   "source": [
    "K = 40\n",
    "news_centroids, news_cluster, news_p_list, news_gini, news_purity = K_Means(news_vectored_result, news_target, K)\n",
    "print(\"News group\")\n",
    "print(\"K = \", K)\n",
    "print(\"Iterations : \", len(news_p_list)+1)\n",
    "print(\"Purity : \", news_purity)\n",
    "print(\"Gini : \", news_gini)\n",
    "print(\"Final Performance : \", news_p_list[-1])"
   ]
  },
  {
   "cell_type": "code",
   "execution_count": 25,
   "metadata": {
    "ExecuteTime": {
     "end_time": "2018-02-13T01:30:05.316088Z",
     "start_time": "2018-02-13T01:28:44.831395Z"
    }
   },
   "outputs": [
    {
     "name": "stdout",
     "output_type": "stream",
     "text": [
      "MNIST group\n",
      "K =  5\n",
      "Iterations :  46\n",
      "Purity :  0.788585714286\n",
      "Gini :  0.323015264899\n",
      "Final Performance :  116179533.618\n"
     ]
    }
   ],
   "source": [
    "K = 5\n",
    "mnist_centroids, mnist_cluster, mnist_p_list, mnist_gini, mnist_purity = K_Means(mnist_data, mnist_target, K)\n",
    "print(\"MNIST group\")\n",
    "print(\"K = \", K)\n",
    "print(\"Iterations : \", len(mnist_p_list)+1)\n",
    "print(\"Purity : \", mnist_purity)\n",
    "print(\"Gini : \", mnist_gini)\n",
    "print(\"Final Performance : \", mnist_p_list[-1])"
   ]
  },
  {
   "cell_type": "code",
   "execution_count": 26,
   "metadata": {
    "ExecuteTime": {
     "end_time": "2018-02-13T01:36:17.173635Z",
     "start_time": "2018-02-13T01:34:40.426653Z"
    }
   },
   "outputs": [
    {
     "name": "stdout",
     "output_type": "stream",
     "text": [
      "MNIST group\n",
      "K =  10\n",
      "Iterations :  55\n",
      "Purity :  0.5994\n",
      "Gini :  0.514749157541\n",
      "Final Performance :  110537136.326\n"
     ]
    }
   ],
   "source": [
    "K = 10\n",
    "mnist_centroids, mnist_cluster, mnist_p_list, mnist_gini, mnist_purity = K_Means(mnist_data, mnist_target, K)\n",
    "print(\"MNIST group\")\n",
    "print(\"K = \", K)\n",
    "print(\"Iterations : \", len(mnist_p_list)+1)\n",
    "print(\"Purity : \", mnist_purity)\n",
    "print(\"Gini : \", mnist_gini)\n",
    "print(\"Final Performance : \", mnist_p_list[-1])"
   ]
  },
  {
   "cell_type": "code",
   "execution_count": 53,
   "metadata": {
    "ExecuteTime": {
     "end_time": "2018-02-13T02:41:04.828800Z",
     "start_time": "2018-02-13T02:38:32.009571Z"
    }
   },
   "outputs": [
    {
     "name": "stdout",
     "output_type": "stream",
     "text": [
      "MNIST group\n",
      "K =  20\n",
      "Iterations :  84\n",
      "Purity :  0.381942857143\n",
      "Gini :  0.847886812369\n",
      "Final Performance :  103658157.818\n"
     ]
    }
   ],
   "source": [
    "K = 20\n",
    "mnist_centroids, mnist_cluster, mnist_p_list, mnist_gini, mnist_purity = K_Means(mnist_data, mnist_target, K)\n",
    "print(\"MNIST group\")\n",
    "print(\"K = \", K)\n",
    "print(\"Iterations : \", len(mnist_p_list)+1)\n",
    "print(\"Purity : \", mnist_purity)\n",
    "print(\"Gini : \", mnist_gini)\n",
    "print(\"Final Performance : \", mnist_p_list[-1])"
   ]
  },
  {
   "cell_type": "code",
   "execution_count": 28,
   "metadata": {
    "ExecuteTime": {
     "end_time": "2018-02-13T02:05:02.651674Z",
     "start_time": "2018-02-13T02:03:14.536986Z"
    }
   },
   "outputs": [
    {
     "name": "stdout",
     "output_type": "stream",
     "text": [
      "Fashion group\n",
      "K =  5\n",
      "Iterations :  71\n",
      "Purity :  0.694166666667\n",
      "Gini :  0.418044811111\n",
      "Final Performance :  93325113.8172\n"
     ]
    }
   ],
   "source": [
    "K = 5\n",
    "fashion_centroids, fashion_cluster, fashion_p_list, fashion_gini, fashion_purity = K_Means(fashion_data, fashion_target, K)\n",
    "print(\"Fashion group\")\n",
    "print(\"K = \", K)\n",
    "print(\"Iterations : \", len(fashion_p_list)+1)\n",
    "print(\"Purity : \", fashion_purity)\n",
    "print(\"Gini : \", fashion_gini)\n",
    "print(\"Final Performance : \", fashion_p_list[-1])"
   ]
  },
  {
   "cell_type": "code",
   "execution_count": 29,
   "metadata": {
    "ExecuteTime": {
     "end_time": "2018-02-13T02:06:35.919018Z",
     "start_time": "2018-02-13T02:05:02.655317Z"
    }
   },
   "outputs": [
    {
     "name": "stdout",
     "output_type": "stream",
     "text": [
      "Fashion group\n",
      "K =  10\n",
      "Iterations :  61\n",
      "Purity :  0.585033333333\n",
      "Gini :  0.544208627778\n",
      "Final Performance :  84670470.0561\n"
     ]
    }
   ],
   "source": [
    "K = 10\n",
    "fashion_centroids, fashion_cluster, fashion_p_list, fashion_gini, fashion_purity = K_Means(fashion_data, fashion_target, K)\n",
    "print(\"Fashion group\")\n",
    "print(\"K = \", K)\n",
    "print(\"Iterations : \", len(fashion_p_list)+1)\n",
    "print(\"Purity : \", fashion_purity)\n",
    "print(\"Gini : \", fashion_gini)\n",
    "print(\"Final Performance : \", fashion_p_list[-1])"
   ]
  },
  {
   "cell_type": "code",
   "execution_count": 52,
   "metadata": {
    "ExecuteTime": {
     "end_time": "2018-02-13T02:31:49.513796Z",
     "start_time": "2018-02-13T02:29:48.864713Z"
    }
   },
   "outputs": [
    {
     "name": "stdout",
     "output_type": "stream",
     "text": [
      "Fashion group\n",
      "K =  20\n",
      "Iterations :  77\n",
      "Purity :  0.40135\n",
      "Gini :  0.836956941667\n",
      "Final Performance :  76830657.6526\n"
     ]
    }
   ],
   "source": [
    "K = 20\n",
    "fashion_centroids, fashion_cluster, fashion_p_list, fashion_gini, fashion_purity = K_Means(fashion_data, fashion_target, K)\n",
    "print(\"Fashion group\")\n",
    "print(\"K = \", K)\n",
    "print(\"Iterations : \", len(fashion_p_list)+1)\n",
    "print(\"Purity : \", fashion_purity)\n",
    "print(\"Gini : \", fashion_gini)\n",
    "print(\"Final Performance : \", fashion_p_list[-1])"
   ]
  },
  {
   "cell_type": "code",
   "execution_count": null,
   "metadata": {},
   "outputs": [],
   "source": []
  }
 ],
 "metadata": {
  "kernelspec": {
   "display_name": "Python 3",
   "language": "python",
   "name": "python3"
  },
  "language_info": {
   "codemirror_mode": {
    "name": "ipython",
    "version": 3
   },
   "file_extension": ".py",
   "mimetype": "text/x-python",
   "name": "python",
   "nbconvert_exporter": "python",
   "pygments_lexer": "ipython3",
   "version": "3.6.4"
  }
 },
 "nbformat": 4,
 "nbformat_minor": 2
}
