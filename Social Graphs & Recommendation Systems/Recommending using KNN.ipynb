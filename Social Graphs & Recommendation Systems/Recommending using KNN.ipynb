{
 "cells": [
  {
   "cell_type": "code",
   "execution_count": 256,
   "metadata": {
    "ExecuteTime": {
     "end_time": "2018-04-22T03:50:44.267167Z",
     "start_time": "2018-04-22T03:50:44.259781Z"
    }
   },
   "outputs": [],
   "source": [
    "import numpy as np\n",
    "from scipy import sparse\n",
    "from sklearn.metrics.pairwise import cosine_similarity\n",
    "from sklearn.metrics import mean_squared_error\n",
    "from math import sqrt\n",
    "import matplotlib.pyplot as plt"
   ]
  },
  {
   "cell_type": "code",
   "execution_count": 257,
   "metadata": {
    "ExecuteTime": {
     "end_time": "2018-04-22T03:50:45.054179Z",
     "start_time": "2018-04-22T03:50:45.046030Z"
    }
   },
   "outputs": [],
   "source": [
    "def readfile(filename, delim):\n",
    "    f = open(filename, encoding=\"ISO-8859-1\")\n",
    "    result = []\n",
    "    for line in f.readlines():\n",
    "        line = line[:line.find('\\n')]\n",
    "        result.append(line.split(delim))\n",
    "    result = np.array(result)\n",
    "    return result"
   ]
  },
  {
   "cell_type": "code",
   "execution_count": 31,
   "metadata": {
    "ExecuteTime": {
     "end_time": "2018-04-22T00:20:32.334271Z",
     "start_time": "2018-04-22T00:20:31.911028Z"
    }
   },
   "outputs": [],
   "source": [
    "#userlist = readfile(\"../../ml-100k/u.item\", \"|\")\n",
    "#itemlist = readfile(\"../../ml-100k/u.item\", \"|\")\n",
    "ratings = readfile(\"../../ml-100k/ua.base\", \"\\t\")\n",
    "test = readfile(\"../../ml-100k/ua.test\", \"\\t\")"
   ]
  },
  {
   "cell_type": "code",
   "execution_count": 55,
   "metadata": {
    "ExecuteTime": {
     "end_time": "2018-04-22T00:33:32.787379Z",
     "start_time": "2018-04-22T00:33:32.778652Z"
    }
   },
   "outputs": [],
   "source": [
    "def makesimilar(ratings):\n",
    "    users = np.array(ratings[:,0], dtype=int)-1\n",
    "    movies = np.array(ratings[:,1], dtype=int)-1\n",
    "    score = np.array(ratings[:,2], dtype=int)\n",
    "    data = sparse.coo_matrix((score,(users,movies)),shape=(len(userlist), len(itemlist)))\n",
    "    usersim = cosine_similarity(data)\n",
    "    return usersim, data.tocsr()"
   ]
  },
  {
   "cell_type": "code",
   "execution_count": 56,
   "metadata": {
    "ExecuteTime": {
     "end_time": "2018-04-22T00:33:33.730560Z",
     "start_time": "2018-04-22T00:33:33.312980Z"
    }
   },
   "outputs": [],
   "source": [
    "usersim, mratings = makesimilar(ratings)"
   ]
  },
  {
   "cell_type": "code",
   "execution_count": 239,
   "metadata": {
    "ExecuteTime": {
     "end_time": "2018-04-22T02:46:41.416287Z",
     "start_time": "2018-04-22T02:46:41.403632Z"
    }
   },
   "outputs": [],
   "source": [
    "def predict_ratings(test, k):\n",
    "    y_predicted=[]\n",
    "    c=0\n",
    "    #print(test)\n",
    "    for item in test:\n",
    "        c+=1\n",
    "        user = int(item[0])-1\n",
    "        movie = int(item[1])-1\n",
    "        score = int(item[2])\n",
    "        moviescores = mratings.getcol(movie)\n",
    "        similaru = usersim[user]\n",
    "        relevantu = moviescores.nonzero()[0]\n",
    "        similaru = similaru[relevantu]\n",
    "        nearestusers = similaru.argsort()[::-1][:k]\n",
    "        relevantu = relevantu[nearestusers]\n",
    "        y = moviescores[relevantu, :].toarray().ravel()\n",
    "        x = similaru[nearestusers]\n",
    "        try:\n",
    "            y_predicted.append(sum(y * x) / sum(x))\n",
    "        except ZeroDivisionError:\n",
    "            y_predicted.append(0)\n",
    "    y_actual = np.array(test[:,2], dtype=int)\n",
    "    return sqrt(mean_squared_error(y_actual, y_predicted))"
   ]
  },
  {
   "cell_type": "code",
   "execution_count": 252,
   "metadata": {
    "ExecuteTime": {
     "end_time": "2018-04-22T03:30:12.329890Z",
     "start_time": "2018-04-22T03:11:35.998110Z"
    }
   },
   "outputs": [
    {
     "name": "stdout",
     "output_type": "stream",
     "text": [
      "0\n",
      "10\n",
      "20\n",
      "30\n",
      "40\n",
      "50\n",
      "60\n",
      "70\n",
      "80\n",
      "90\n",
      "100\n"
     ]
    }
   ],
   "source": [
    "rmse = []\n",
    "for k in range(101):\n",
    "    if k%10==0:\n",
    "        print(k)\n",
    "    rmse.append(predict_ratings(test,k))"
   ]
  },
  {
   "cell_type": "code",
   "execution_count": 255,
   "metadata": {
    "ExecuteTime": {
     "end_time": "2018-04-22T03:30:38.257036Z",
     "start_time": "2018-04-22T03:30:38.005756Z"
    }
   },
   "outputs": [
    {
     "data": {
      "image/png": "[encoded data removed]",
      "text/plain": [
       "<Figure size 432x288 with 1 Axes>"
      ]
     },
     "metadata": {},
     "output_type": "display_data"
    }
   ],
   "source": [
    "plt.plot(rmse)\n",
    "plt.show()"
   ]
  },
  {
   "cell_type": "code",
   "execution_count": 1,
   "metadata": {
    "ExecuteTime": {
     "end_time": "2018-04-24T23:14:02.266841Z",
     "start_time": "2018-04-24T23:14:02.169748Z"
    }
   },
   "outputs": [
    {
     "ename": "NameError",
     "evalue": "name 'plt' is not defined",
     "output_type": "error",
     "traceback": [
      "\u001b[0;31m---------------------------------------------------------------------------\u001b[0m",
      "\u001b[0;31mNameError\u001b[0m                                 Traceback (most recent call last)",
      "\u001b[0;32m<ipython-input-1-e9d04ec6733d>\u001b[0m in \u001b[0;36m<module>\u001b[0;34m()\u001b[0m\n\u001b[0;32m----> 1\u001b[0;31m \u001b[0mplt\u001b[0m\u001b[0;34m.\u001b[0m\u001b[0mplot\u001b[0m\u001b[0;34m(\u001b[0m\u001b[0mnp\u001b[0m\u001b[0;34m.\u001b[0m\u001b[0marrange\u001b[0m\u001b[0;34m(\u001b[0m\u001b[0;36m40\u001b[0m\u001b[0;34m,\u001b[0m\u001b[0;36m101\u001b[0m\u001b[0;34m)\u001b[0m\u001b[0;34m,\u001b[0m \u001b[0mrmse\u001b[0m\u001b[0;34m[\u001b[0m\u001b[0;36m40\u001b[0m\u001b[0;34m:\u001b[0m\u001b[0;34m]\u001b[0m\u001b[0;34m)\u001b[0m\u001b[0;34m\u001b[0m\u001b[0m\n\u001b[0m\u001b[1;32m      2\u001b[0m \u001b[0mplt\u001b[0m\u001b[0;34m.\u001b[0m\u001b[0mshow\u001b[0m\u001b[0;34m(\u001b[0m\u001b[0;34m)\u001b[0m\u001b[0;34m\u001b[0m\u001b[0m\n",
      "\u001b[0;31mNameError\u001b[0m: name 'plt' is not defined"
     ]
    }
   ],
   "source": [
    "plt.plot(np.arrange(40,101), rmse[40:])\n",
    "plt.show()"
   ]
  },
  {
   "cell_type": "code",
   "execution_count": null,
   "metadata": {},
   "outputs": [],
   "source": []
  }
 ],
 "metadata": {
  "kernelspec": {
   "display_name": "Python 3",
   "language": "python",
   "name": "python3"
  },
  "language_info": {
   "codemirror_mode": {
    "name": "ipython",
    "version": 3
   },
   "file_extension": ".py",
   "mimetype": "text/x-python",
   "name": "python",
   "nbconvert_exporter": "python",
   "pygments_lexer": "ipython3",
   "version": "3.6.5"
  }
 },
 "nbformat": 4,
 "nbformat_minor": 2
}
