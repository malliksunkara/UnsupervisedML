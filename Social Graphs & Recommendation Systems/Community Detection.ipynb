{
 "cells": [
  {
   "cell_type": "code",
   "execution_count": 2,
   "metadata": {
    "ExecuteTime": {
     "end_time": "2018-04-23T23:29:41.228629Z",
     "start_time": "2018-04-23T23:29:40.715534Z"
    }
   },
   "outputs": [],
   "source": [
    "from igraph import *\n",
    "import numpy as np\n",
    "from collections import defaultdict\n",
    "import matplotlib.pyplot as plt"
   ]
  },
  {
   "cell_type": "code",
   "execution_count": 3,
   "metadata": {
    "ExecuteTime": {
     "end_time": "2018-04-23T23:29:41.797938Z",
     "start_time": "2018-04-23T23:29:41.791467Z"
    }
   },
   "outputs": [],
   "source": [
    "def find_all_shortest_paths(graph):\n",
    "    sp_list = defaultdict(int)\n",
    "    n_nodes = len(graph.vs)\n",
    "    for i in range(n_nodes):\n",
    "        for j in range(i, n_nodes):\n",
    "            source = graph.vs[i]\n",
    "            destination = graph.vs[j]\n",
    "            sp_list[(source.index, destination.index)] = graph.get_all_shortest_paths(v=source, to=destination)\n",
    "    return sp_list"
   ]
  },
  {
   "cell_type": "code",
   "execution_count": 4,
   "metadata": {
    "ExecuteTime": {
     "end_time": "2018-04-23T23:29:42.299006Z",
     "start_time": "2018-04-23T23:29:42.293122Z"
    }
   },
   "outputs": [],
   "source": [
    "def find_betweeness(graph, sp_list):\n",
    "    edge_between = defaultdict(int)\n",
    "    for _, paths in sp_list.items():\n",
    "        for path in paths:\n",
    "            for i in range(len(path)-1):\n",
    "                e = tuple(sorted([path[i], path[i + 1]]))\n",
    "                edge_between[e] += (1/len(paths))\n",
    "    return edge_between"
   ]
  },
  {
   "cell_type": "code",
   "execution_count": 5,
   "metadata": {
    "ExecuteTime": {
     "end_time": "2018-04-23T23:29:42.711064Z",
     "start_time": "2018-04-23T23:29:42.706491Z"
    }
   },
   "outputs": [],
   "source": [
    "def remove_top_k(graph, edge_between, k):\n",
    "    top_edges = sorted(edge_between.keys(), key=operator.itemgetter(1))[-1:-(k + 1):-1]\n",
    "    graph.delete_edges(top_edges)\n",
    "    return graph"
   ]
  },
  {
   "cell_type": "code",
   "execution_count": 6,
   "metadata": {
    "ExecuteTime": {
     "end_time": "2018-04-23T23:30:09.755751Z",
     "start_time": "2018-04-23T23:30:09.745987Z"
    }
   },
   "outputs": [],
   "source": [
    "def modularity(graph, edge_between):\n",
    "    membership = graph.components().membership\n",
    "    n_comp = len(np.unique(membership))\n",
    "    mod = 0\n",
    "    n = len(graph.vs)\n",
    "    m = len(graph.es)\n",
    "    for i in range(n):\n",
    "        for j in range(n):\n",
    "            if membership[i] == membership[j]:\n",
    "                    if (graph.get_eid(i, j, directed=False, error=False) != -1):\n",
    "                        mod += 1\n",
    "                    mod -= (graph.degree(i) * graph.degree(j) / (2 * m))\n",
    "    \n",
    "    mod /= (2*m)\n",
    "    mod = mod if mod > 0 else 0\n",
    "    return mod"
   ]
  },
  {
   "cell_type": "code",
   "execution_count": 12,
   "metadata": {
    "ExecuteTime": {
     "end_time": "2018-04-24T00:58:21.315480Z",
     "start_time": "2018-04-24T00:58:21.304665Z"
    }
   },
   "outputs": [],
   "source": [
    "def plot(graph, max_comp):\n",
    "    component = []\n",
    "    modu = []\n",
    "    while True:\n",
    "        try:\n",
    "            if len(np.unique(graph.components().membership)) >= max_comp:\n",
    "                break\n",
    "            sp_list = find_all_shortest_paths(graph)\n",
    "            edge_between = find_betweeness(graph, sp_list)\n",
    "            modu.append(modularity(graph, edge_between))\n",
    "            component.append(len(np.unique(graph.components().membership)))\n",
    "            if len(modu) % 10 == 0:\n",
    "                print(len(modu))\n",
    "            graph = remove_top_k(graph, edge_between, 5)\n",
    "        except Exception:\n",
    "            break\n",
    "    plt.plot(component,modu)\n",
    "    plt.show()\n",
    "    return component, modu"
   ]
  },
  {
   "cell_type": "code",
   "execution_count": 13,
   "metadata": {
    "ExecuteTime": {
     "end_time": "2018-04-24T02:17:08.879374Z",
     "start_time": "2018-04-24T00:58:22.256568Z"
    }
   },
   "outputs": [
    {
     "name": "stdout",
     "output_type": "stream",
     "text": [
      "10\n",
      "20\n",
      "30\n",
      "40\n",
      "50\n",
      "60\n",
      "70\n",
      "80\n",
      "90\n",
      "100\n",
      "110\n",
      "120\n",
      "130\n",
      "140\n",
      "150\n",
      "160\n",
      "170\n",
      "180\n",
      "190\n",
      "200\n",
      "210\n",
      "220\n",
      "230\n",
      "240\n",
      "250\n",
      "260\n",
      "270\n",
      "280\n",
      "290\n",
      "300\n",
      "310\n",
      "320\n",
      "330\n",
      "340\n",
      "350\n",
      "360\n",
      "370\n",
      "380\n",
      "390\n",
      "400\n",
      "410\n",
      "420\n"
     ]
    },
    {
     "data": {
      "image/png": "[encoded data removed]",
      "text/plain": [
       "<Figure size 432x288 with 1 Axes>"
      ]
     },
     "metadata": {},
     "output_type": "display_data"
    }
   ],
   "source": [
    "f = open(\"../../Flickr_sampled_edges/edges_sampled_map_2K.csv\")\n",
    "g = open(\"A.txt\", \"w\")\n",
    "for item in f.readlines():\n",
    "    item = item.replace(\",\", \" \")\n",
    "    g.write(item)\n",
    "g.close()\n",
    "graph = Graph.Read_Ncol(\"A.txt\", directed=False)\n",
    "n_comp, modulariy_s = plot(graph, 300)"
   ]
  },
  {
   "cell_type": "code",
   "execution_count": null,
   "metadata": {},
   "outputs": [],
   "source": []
  }
 ],
 "metadata": {
  "kernelspec": {
   "display_name": "Python 3",
   "language": "python",
   "name": "python3"
  },
  "language_info": {
   "codemirror_mode": {
    "name": "ipython",
    "version": 3
   },
   "file_extension": ".py",
   "mimetype": "text/x-python",
   "name": "python",
   "nbconvert_exporter": "python",
   "pygments_lexer": "ipython3",
   "version": "3.6.5"
  }
 },
 "nbformat": 4,
 "nbformat_minor": 2
}
