{
 "cells": [
  {
   "cell_type": "code",
   "execution_count": 18,
   "metadata": {
    "ExecuteTime": {
     "end_time": "2018-04-10T21:57:01.796794Z",
     "start_time": "2018-04-10T21:57:01.791177Z"
    }
   },
   "outputs": [],
   "source": [
    "import numpy as np\n",
    "import seaborn as sns\n",
    "import matplotlib.pyplot as plt\n",
    "import matplotlib.mlab as mlab"
   ]
  },
  {
   "cell_type": "code",
   "execution_count": 14,
   "metadata": {
    "ExecuteTime": {
     "end_time": "2018-04-10T21:56:31.384747Z",
     "start_time": "2018-04-10T21:56:31.373021Z"
    }
   },
   "outputs": [],
   "source": [
    "def gibbs_sampling(mus, sigmas, iter=10000):\n",
    "    samples = np.zeros((iter, 2))\n",
    "    y = np.random.rand() * 10\n",
    "    sigmax = sigmas[0, 0] - sigmas[1, 0] / sigmas[1, 1] * sigmas[1, 0]\n",
    "    sigmay = sigmas[1, 1] - sigmas[0, 1] / sigmas[0, 0] * sigmas[0, 1]\n",
    "    for i in range(iter):\n",
    "        mux = mus[0] + sigmas[1, 0] / sigmas[0, 0] * (y - mus[1])\n",
    "        x = np.random.normal(mux, sigmax)\n",
    "        muy = mus[1] + sigmas[0, 1] / sigmas[1, 1] * (x - mus[0])\n",
    "        y = np.random.normal(muy, sigmay)\n",
    "        samples[i, :] = [x, y]\n",
    "        if i%1000 == 0:\n",
    "            print(i)\n",
    "    return samples, sigmax, sigmay"
   ]
  },
  {
   "cell_type": "code",
   "execution_count": 15,
   "metadata": {
    "ExecuteTime": {
     "end_time": "2018-04-10T21:56:33.070929Z",
     "start_time": "2018-04-10T21:56:32.464312Z"
    }
   },
   "outputs": [
    {
     "name": "stdout",
     "output_type": "stream",
     "text": [
      "0\n",
      "1000\n",
      "2000\n",
      "3000\n",
      "4000\n",
      "5000\n",
      "6000\n",
      "7000\n",
      "8000\n",
      "9000\n"
     ]
    }
   ],
   "source": [
    "mus = np.array([5, 10])\n",
    "sigmas = np.array([[3, 2], [1, 2]])\n",
    "\n",
    "samples, sigmax, sigmay = gibbs_sampling(mus, sigmas)\n",
    "x = samples[:,0]\n",
    "y = samples[:,1]"
   ]
  },
  {
   "cell_type": "code",
   "execution_count": 12,
   "metadata": {
    "ExecuteTime": {
     "end_time": "2018-04-10T21:56:03.984282Z",
     "start_time": "2018-04-10T21:56:03.639700Z"
    }
   },
   "outputs": [
    {
     "data": {
      "text/plain": [
       "[<matplotlib.lines.Line2D at 0x7fa5f7771cc0>]"
      ]
     },
     "execution_count": 12,
     "metadata": {},
     "output_type": "execute_result"
    },
    {
     "data": {
      "image/png": "[encoded data removed]",
      "text/plain": [
       "<Figure size 432x288 with 1 Axes>"
      ]
     },
     "metadata": {},
     "output_type": "display_data"
    }
   ],
   "source": [
    "plt.plot(x, y, 'o')"
   ]
  },
  {
   "cell_type": "code",
   "execution_count": 21,
   "metadata": {
    "ExecuteTime": {
     "end_time": "2018-04-10T21:57:39.590327Z",
     "start_time": "2018-04-10T21:57:39.287123Z"
    }
   },
   "outputs": [
    {
     "name": "stderr",
     "output_type": "stream",
     "text": [
      "/root/anaconda3/lib/python3.6/site-packages/ipykernel_launcher.py:1: MatplotlibDeprecationWarning: scipy.stats.norm.pdf\n",
      "  \"\"\"Entry point for launching an IPython kernel.\n"
     ]
    },
    {
     "data": {
      "image/png": "[encoded data removed]",
      "text/plain": [
       "<Figure size 432x288 with 1 Axes>"
      ]
     },
     "metadata": {},
     "output_type": "display_data"
    }
   ],
   "source": [
    "plt.plot(x,mlab.normpdf(x, mus[0], sigmax), \"o\")\n",
    "plt.show()"
   ]
  },
  {
   "cell_type": "code",
   "execution_count": 23,
   "metadata": {
    "ExecuteTime": {
     "end_time": "2018-04-10T21:58:04.665173Z",
     "start_time": "2018-04-10T21:58:04.375330Z"
    }
   },
   "outputs": [
    {
     "name": "stderr",
     "output_type": "stream",
     "text": [
      "/root/anaconda3/lib/python3.6/site-packages/ipykernel_launcher.py:1: MatplotlibDeprecationWarning: scipy.stats.norm.pdf\n",
      "  \"\"\"Entry point for launching an IPython kernel.\n"
     ]
    },
    {
     "data": {
      "image/png": "[encoded data removed]",
      "text/plain": [
       "<Figure size 432x288 with 1 Axes>"
      ]
     },
     "metadata": {},
     "output_type": "display_data"
    }
   ],
   "source": [
    "plt.plot(y,mlab.normpdf(y, mus[1], sigmay), \"o\")\n",
    "plt.show()"
   ]
  },
  {
   "cell_type": "code",
   "execution_count": null,
   "metadata": {},
   "outputs": [],
   "source": []
  }
 ],
 "metadata": {
  "kernelspec": {
   "display_name": "Python 3",
   "language": "python",
   "name": "python3"
  },
  "language_info": {
   "codemirror_mode": {
    "name": "ipython",
    "version": 3
   },
   "file_extension": ".py",
   "mimetype": "text/x-python",
   "name": "python",
   "nbconvert_exporter": "python",
   "pygments_lexer": "ipython3",
   "version": "3.6.4"
  }
 },
 "nbformat": 4,
 "nbformat_minor": 2
}
